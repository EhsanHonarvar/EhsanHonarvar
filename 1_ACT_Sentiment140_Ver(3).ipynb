{
  "cells": [
    {
      "cell_type": "markdown",
      "metadata": {
        "id": "view-in-github",
        "colab_type": "text"
      },
      "source": [
        "<a href=\"https://colab.research.google.com/github/EhsanHonarvar/Practices/blob/main/1_ACT_Sentiment140_Ver(3).ipynb\" target=\"_parent\"><img src=\"https://colab.research.google.com/assets/colab-badge.svg\" alt=\"Open In Colab\"/></a>"
      ]
    },
    {
      "cell_type": "code",
      "execution_count": null,
      "metadata": {
        "colab": {
          "base_uri": "https://localhost:8080/"
        },
        "id": "pn5vFtTZLvyc",
        "outputId": "eb8dd256-c499-4ba0-a0f9-9c9978300021"
      },
      "outputs": [
        {
          "output_type": "stream",
          "name": "stdout",
          "text": [
            "Mounted at /content/drive\n"
          ]
        }
      ],
      "source": [
        "from google.colab import drive\n",
        "drive.mount('/content/drive')"
      ]
    },
    {
      "cell_type": "code",
      "execution_count": null,
      "metadata": {
        "id": "XxaELYOrCKt5"
      },
      "outputs": [],
      "source": [
        "# This Python 3 environment comes with many helpful analytics libraries installed\n",
        "# It is defined by the kaggle/python Docker image: https://github.com/kaggle/docker-python\n",
        "# For example, here's several helpful packages to load\n",
        "\n",
        "import numpy as np # linear algebra\n",
        "import pandas as pd # data processing, CSV file I/O (e.g. pd.read_csv)\n",
        "\n",
        "# Input data files are available in the read-only \"../input/\" directory\n",
        "# For example, running this (by clicking run or pressing Shift+Enter) will list all files under the input directory\n",
        "\n",
        "import os\n",
        "for dirname, _, filenames in os.walk('/kaggle/input'):\n",
        "    for filename in filenames:\n",
        "        print(os.path.join(dirname, filename))\n",
        "\n",
        "# You can write up to 20GB to the current directory (/kaggle/working/) that gets preserved as output when you create a version using \"Save & Run All\"\n",
        "# You can also write temporary files to /kaggle/temp/, but they won't be saved outside of the current session"
      ]
    },
    {
      "cell_type": "code",
      "execution_count": null,
      "metadata": {
        "colab": {
          "base_uri": "https://localhost:8080/"
        },
        "id": "FK1Kt0seKEr8",
        "outputId": "6d77541a-a78b-4698-d38f-da002126295d"
      },
      "outputs": [
        {
          "output_type": "stream",
          "name": "stdout",
          "text": [
            "Looking in indexes: https://pypi.org/simple, https://us-python.pkg.dev/colab-wheels/public/simple/\n",
            "Collecting stop_words\n",
            "  Downloading stop-words-2018.7.23.tar.gz (31 kB)\n",
            "  Preparing metadata (setup.py) ... \u001b[?25l\u001b[?25hdone\n",
            "Building wheels for collected packages: stop_words\n",
            "  Building wheel for stop_words (setup.py) ... \u001b[?25l\u001b[?25hdone\n",
            "  Created wheel for stop_words: filename=stop_words-2018.7.23-py3-none-any.whl size=32910 sha256=2b8dbb2a0a52a4c7a9af027f7bcf9c9d0e0dbb46e7a2a8bbb9980248b58a5997\n",
            "  Stored in directory: /root/.cache/pip/wheels/eb/03/0d/3bd31c983789aeb0b4d5e2ca48590288d9db1586cf5f225062\n",
            "Successfully built stop_words\n",
            "Installing collected packages: stop_words\n",
            "Successfully installed stop_words-2018.7.23\n"
          ]
        }
      ],
      "source": [
        "!pip install stop_words"
      ]
    },
    {
      "cell_type": "code",
      "execution_count": null,
      "metadata": {
        "id": "kO8qmSxzCKuE"
      },
      "outputs": [],
      "source": [
        "import matplotlib.pyplot as plt, seaborn as sns\n",
        "from sklearn.model_selection import train_test_split, cross_val_score, StratifiedKFold, GridSearchCV\n",
        "from sklearn.metrics import accuracy_score\n",
        "from stop_words import get_stop_words\n",
        "import nltk\n",
        "from nltk.stem.porter import PorterStemmer\n",
        "from nltk.corpus import stopwords\n",
        "import re"
      ]
    },
    {
      "cell_type": "code",
      "execution_count": null,
      "metadata": {
        "colab": {
          "base_uri": "https://localhost:8080/"
        },
        "id": "8lZ7soYMPrx_",
        "outputId": "bdd6d827-b0dd-45c7-cb3d-753521f63010"
      },
      "outputs": [
        {
          "output_type": "stream",
          "name": "stderr",
          "text": [
            "[nltk_data] Downloading package punkt to /root/nltk_data...\n",
            "[nltk_data]   Unzipping tokenizers/punkt.zip.\n"
          ]
        }
      ],
      "source": [
        "%matplotlib inline\n",
        "import os\n",
        "import random\n",
        "import sys\n",
        "from typing import List, Tuple, Dict, Set, Union\n",
        "import re\n",
        "import nltk\n",
        "import string\n",
        "from nltk.tokenize import word_tokenize\n",
        "nltk.download('punkt')\n",
        "from nltk.stem.porter import PorterStemmer\n",
        "from nltk.corpus import stopwords"
      ]
    },
    {
      "cell_type": "code",
      "execution_count": null,
      "metadata": {
        "id": "3Uvkll6pQT8W"
      },
      "outputs": [],
      "source": [
        "import torch\n",
        "import torch.nn as nn\n",
        "import torch.nn.utils\n",
        "import torch.optim as optim\n",
        "import torch.nn.functional as F\n",
        "from torch.utils.data import Dataset, DataLoader\n",
        "from torchvision import transforms, utils"
      ]
    },
    {
      "cell_type": "code",
      "execution_count": null,
      "metadata": {
        "colab": {
          "base_uri": "https://localhost:8080/",
          "height": 241
        },
        "id": "9TnjbLgQCKuH",
        "outputId": "e00e4649-0139-4bc8-a6ab-9cb8df086975"
      },
      "outputs": [
        {
          "output_type": "stream",
          "name": "stdout",
          "text": [
            "<class 'pandas.core.frame.DataFrame'>\n",
            "1600000\n"
          ]
        },
        {
          "output_type": "execute_result",
          "data": {
            "text/plain": [
              "   Pos_Neg          id                          date query_string  \\\n",
              "0        0  1467810369  Mon Apr 06 22:19:45 PDT 2009     NO_QUERY   \n",
              "1        0  1467810672  Mon Apr 06 22:19:49 PDT 2009     NO_QUERY   \n",
              "2        0  1467810917  Mon Apr 06 22:19:53 PDT 2009     NO_QUERY   \n",
              "3        0  1467811184  Mon Apr 06 22:19:57 PDT 2009     NO_QUERY   \n",
              "4        0  1467811193  Mon Apr 06 22:19:57 PDT 2009     NO_QUERY   \n",
              "\n",
              "              user                                            Content  \n",
              "0  _TheSpecialOne_  @switchfoot http://twitpic.com/2y1zl - Awww, t...  \n",
              "1    scotthamilton  is upset that he can't update his Facebook by ...  \n",
              "2         mattycus  @Kenichan I dived many times for the ball. Man...  \n",
              "3          ElleCTF    my whole body feels itchy and like its on fire   \n",
              "4           Karoli  @nationwideclass no, it's not behaving at all....  "
            ],
            "text/html": [
              "\n",
              "  <div id=\"df-17563ffa-249d-40f0-92d3-74ae8261ae2d\">\n",
              "    <div class=\"colab-df-container\">\n",
              "      <div>\n",
              "<style scoped>\n",
              "    .dataframe tbody tr th:only-of-type {\n",
              "        vertical-align: middle;\n",
              "    }\n",
              "\n",
              "    .dataframe tbody tr th {\n",
              "        vertical-align: top;\n",
              "    }\n",
              "\n",
              "    .dataframe thead th {\n",
              "        text-align: right;\n",
              "    }\n",
              "</style>\n",
              "<table border=\"1\" class=\"dataframe\">\n",
              "  <thead>\n",
              "    <tr style=\"text-align: right;\">\n",
              "      <th></th>\n",
              "      <th>Pos_Neg</th>\n",
              "      <th>id</th>\n",
              "      <th>date</th>\n",
              "      <th>query_string</th>\n",
              "      <th>user</th>\n",
              "      <th>Content</th>\n",
              "    </tr>\n",
              "  </thead>\n",
              "  <tbody>\n",
              "    <tr>\n",
              "      <th>0</th>\n",
              "      <td>0</td>\n",
              "      <td>1467810369</td>\n",
              "      <td>Mon Apr 06 22:19:45 PDT 2009</td>\n",
              "      <td>NO_QUERY</td>\n",
              "      <td>_TheSpecialOne_</td>\n",
              "      <td>@switchfoot http://twitpic.com/2y1zl - Awww, t...</td>\n",
              "    </tr>\n",
              "    <tr>\n",
              "      <th>1</th>\n",
              "      <td>0</td>\n",
              "      <td>1467810672</td>\n",
              "      <td>Mon Apr 06 22:19:49 PDT 2009</td>\n",
              "      <td>NO_QUERY</td>\n",
              "      <td>scotthamilton</td>\n",
              "      <td>is upset that he can't update his Facebook by ...</td>\n",
              "    </tr>\n",
              "    <tr>\n",
              "      <th>2</th>\n",
              "      <td>0</td>\n",
              "      <td>1467810917</td>\n",
              "      <td>Mon Apr 06 22:19:53 PDT 2009</td>\n",
              "      <td>NO_QUERY</td>\n",
              "      <td>mattycus</td>\n",
              "      <td>@Kenichan I dived many times for the ball. Man...</td>\n",
              "    </tr>\n",
              "    <tr>\n",
              "      <th>3</th>\n",
              "      <td>0</td>\n",
              "      <td>1467811184</td>\n",
              "      <td>Mon Apr 06 22:19:57 PDT 2009</td>\n",
              "      <td>NO_QUERY</td>\n",
              "      <td>ElleCTF</td>\n",
              "      <td>my whole body feels itchy and like its on fire</td>\n",
              "    </tr>\n",
              "    <tr>\n",
              "      <th>4</th>\n",
              "      <td>0</td>\n",
              "      <td>1467811193</td>\n",
              "      <td>Mon Apr 06 22:19:57 PDT 2009</td>\n",
              "      <td>NO_QUERY</td>\n",
              "      <td>Karoli</td>\n",
              "      <td>@nationwideclass no, it's not behaving at all....</td>\n",
              "    </tr>\n",
              "  </tbody>\n",
              "</table>\n",
              "</div>\n",
              "      <button class=\"colab-df-convert\" onclick=\"convertToInteractive('df-17563ffa-249d-40f0-92d3-74ae8261ae2d')\"\n",
              "              title=\"Convert this dataframe to an interactive table.\"\n",
              "              style=\"display:none;\">\n",
              "        \n",
              "  <svg xmlns=\"http://www.w3.org/2000/svg\" height=\"24px\"viewBox=\"0 0 24 24\"\n",
              "       width=\"24px\">\n",
              "    <path d=\"M0 0h24v24H0V0z\" fill=\"none\"/>\n",
              "    <path d=\"M18.56 5.44l.94 2.06.94-2.06 2.06-.94-2.06-.94-.94-2.06-.94 2.06-2.06.94zm-11 1L8.5 8.5l.94-2.06 2.06-.94-2.06-.94L8.5 2.5l-.94 2.06-2.06.94zm10 10l.94 2.06.94-2.06 2.06-.94-2.06-.94-.94-2.06-.94 2.06-2.06.94z\"/><path d=\"M17.41 7.96l-1.37-1.37c-.4-.4-.92-.59-1.43-.59-.52 0-1.04.2-1.43.59L10.3 9.45l-7.72 7.72c-.78.78-.78 2.05 0 2.83L4 21.41c.39.39.9.59 1.41.59.51 0 1.02-.2 1.41-.59l7.78-7.78 2.81-2.81c.8-.78.8-2.07 0-2.86zM5.41 20L4 18.59l7.72-7.72 1.47 1.35L5.41 20z\"/>\n",
              "  </svg>\n",
              "      </button>\n",
              "      \n",
              "  <style>\n",
              "    .colab-df-container {\n",
              "      display:flex;\n",
              "      flex-wrap:wrap;\n",
              "      gap: 12px;\n",
              "    }\n",
              "\n",
              "    .colab-df-convert {\n",
              "      background-color: #E8F0FE;\n",
              "      border: none;\n",
              "      border-radius: 50%;\n",
              "      cursor: pointer;\n",
              "      display: none;\n",
              "      fill: #1967D2;\n",
              "      height: 32px;\n",
              "      padding: 0 0 0 0;\n",
              "      width: 32px;\n",
              "    }\n",
              "\n",
              "    .colab-df-convert:hover {\n",
              "      background-color: #E2EBFA;\n",
              "      box-shadow: 0px 1px 2px rgba(60, 64, 67, 0.3), 0px 1px 3px 1px rgba(60, 64, 67, 0.15);\n",
              "      fill: #174EA6;\n",
              "    }\n",
              "\n",
              "    [theme=dark] .colab-df-convert {\n",
              "      background-color: #3B4455;\n",
              "      fill: #D2E3FC;\n",
              "    }\n",
              "\n",
              "    [theme=dark] .colab-df-convert:hover {\n",
              "      background-color: #434B5C;\n",
              "      box-shadow: 0px 1px 3px 1px rgba(0, 0, 0, 0.15);\n",
              "      filter: drop-shadow(0px 1px 2px rgba(0, 0, 0, 0.3));\n",
              "      fill: #FFFFFF;\n",
              "    }\n",
              "  </style>\n",
              "\n",
              "      <script>\n",
              "        const buttonEl =\n",
              "          document.querySelector('#df-17563ffa-249d-40f0-92d3-74ae8261ae2d button.colab-df-convert');\n",
              "        buttonEl.style.display =\n",
              "          google.colab.kernel.accessAllowed ? 'block' : 'none';\n",
              "\n",
              "        async function convertToInteractive(key) {\n",
              "          const element = document.querySelector('#df-17563ffa-249d-40f0-92d3-74ae8261ae2d');\n",
              "          const dataTable =\n",
              "            await google.colab.kernel.invokeFunction('convertToInteractive',\n",
              "                                                     [key], {});\n",
              "          if (!dataTable) return;\n",
              "\n",
              "          const docLinkHtml = 'Like what you see? Visit the ' +\n",
              "            '<a target=\"_blank\" href=https://colab.research.google.com/notebooks/data_table.ipynb>data table notebook</a>'\n",
              "            + ' to learn more about interactive tables.';\n",
              "          element.innerHTML = '';\n",
              "          dataTable['output_type'] = 'display_data';\n",
              "          await google.colab.output.renderOutput(dataTable, element);\n",
              "          const docLink = document.createElement('div');\n",
              "          docLink.innerHTML = docLinkHtml;\n",
              "          element.appendChild(docLink);\n",
              "        }\n",
              "      </script>\n",
              "    </div>\n",
              "  </div>\n",
              "  "
            ]
          },
          "metadata": {},
          "execution_count": 7
        }
      ],
      "source": [
        "# full_data = pd.read_csv(\"/kaggle/input/sentiment140-dataset-1600000-tweets/training.1600000.processed.noemoticon.csv\", names= ['Pos_Neg','id','date','query_string','user','Content'] , encoding = 'latin-1')\n",
        "\n",
        "full_data = pd.read_csv(\"/content/drive/MyDrive/Thesis/training.1600000.processed.noemoticon.csv\", names= ['Pos_Neg','id','date','query_string','user','Content'] , encoding = 'latin-1')\n",
        "full_n = full_data.shape[0]\n",
        "\n",
        "print(type(full_data))\n",
        "print(full_n)\n",
        "full_data.head(5)"
      ]
    },
    {
      "cell_type": "code",
      "execution_count": null,
      "metadata": {
        "id": "aFcrDsasCKuK"
      },
      "outputs": [],
      "source": [
        "# # Content.Pos_Neg = Content.Pos_Neg.apply(lambda x: str(x).lower())\n",
        "# full_data.Pos_Neg = full_data.Pos_Neg.map(lambda x: 1 if str(x)=='1' else 2)\n",
        "# full_data.head()"
      ]
    },
    {
      "cell_type": "code",
      "execution_count": null,
      "metadata": {
        "colab": {
          "base_uri": "https://localhost:8080/"
        },
        "id": "vqLZD0U4CKuM",
        "outputId": "ae72efe0-debe-493f-e130-a1fd1fbbd09a"
      },
      "outputs": [
        {
          "output_type": "stream",
          "name": "stdout",
          "text": [
            "             id    date  query_string    user  Content\n",
            "Pos_Neg                                               \n",
            "0        800000  800000        800000  800000   800000\n",
            "4        800000  800000        800000  800000   800000\n"
          ]
        }
      ],
      "source": [
        "print(full_data.groupby(full_data.Pos_Neg).count())"
      ]
    },
    {
      "cell_type": "code",
      "execution_count": null,
      "metadata": {
        "colab": {
          "base_uri": "https://localhost:8080/"
        },
        "id": "e--kPlmXCKuV",
        "outputId": "19fba888-3e34-409d-885e-c2897562b949"
      },
      "outputs": [
        {
          "output_type": "stream",
          "name": "stdout",
          "text": [
            "<class 'pandas.core.frame.DataFrame'>\n",
            "RangeIndex: 1600000 entries, 0 to 1599999\n",
            "Data columns (total 6 columns):\n",
            " #   Column        Non-Null Count    Dtype \n",
            "---  ------        --------------    ----- \n",
            " 0   Pos_Neg       1600000 non-null  int64 \n",
            " 1   id            1600000 non-null  int64 \n",
            " 2   date          1600000 non-null  object\n",
            " 3   query_string  1600000 non-null  object\n",
            " 4   user          1600000 non-null  object\n",
            " 5   Content       1600000 non-null  object\n",
            "dtypes: int64(2), object(4)\n",
            "memory usage: 73.2+ MB\n"
          ]
        }
      ],
      "source": [
        "full_data.info()"
      ]
    },
    {
      "cell_type": "code",
      "execution_count": null,
      "metadata": {
        "colab": {
          "base_uri": "https://localhost:8080/"
        },
        "id": "4w1onEn7CKuY",
        "outputId": "1a9e60ce-57bc-4657-ab8b-fb6ec0d7f655"
      },
      "outputs": [
        {
          "output_type": "execute_result",
          "data": {
            "text/plain": [
              "174"
            ]
          },
          "metadata": {},
          "execution_count": 10
        }
      ],
      "source": [
        "######## DATA CLEANING ########\n",
        "stop_words = get_stop_words('english')\n",
        "\n",
        "len(stop_words)"
      ]
    },
    {
      "cell_type": "code",
      "execution_count": null,
      "metadata": {
        "id": "Aa51W9-CCKub"
      },
      "outputs": [],
      "source": [
        "# ps = PorterStemmer()\n",
        "# corpus = []\n",
        "# for i in full_data.Content:\n",
        "#     new = re.sub('[^a-zA-z]', ' ',str(i))\n",
        "#     new = new.lower()\n",
        "#     new = nltk.word_tokenize(new)\n",
        "#     new = [ps.stem(i) for i in new if i not in stop_words]\n",
        "#     new = ' '.join(new)\n",
        "#     corpus.append(new)\n",
        "\n",
        "# full_data.text = corpus\n",
        "# full_data.head()"
      ]
    },
    {
      "cell_type": "code",
      "execution_count": null,
      "metadata": {
        "id": "BACUrbJVCKue"
      },
      "outputs": [],
      "source": [
        "def tweet_to_words(tweet):\n",
        "    ''' Convert tweet text into a sequence of words '''\n",
        "\n",
        "    # convert to lowercase\n",
        "    text = str(tweet).lower()\n",
        "    # remove non letters\n",
        "    text = re.sub(r\"[^a-zA-Z0-9]\", \" \", text)\n",
        "    # remove links from text\n",
        "    text = re.sub(r'http\\S+', '', text)\n",
        "    # tokenize\n",
        "    words = text.split()\n",
        "    # remove stopwords\n",
        "    words = [w for w in words if w not in stopwords.words(\"english\")]\n",
        "    # apply stemming\n",
        "    words = [PorterStemmer().stem(w) for w in words]\n",
        "    # return list\n",
        "    return words"
      ]
    },
    {
      "cell_type": "code",
      "execution_count": null,
      "metadata": {
        "colab": {
          "base_uri": "https://localhost:8080/"
        },
        "id": "lmbTz-DLCKun",
        "outputId": "a2fea27e-fc71-4c22-eecb-2ab6e8cbe3ac"
      },
      "outputs": [
        {
          "output_type": "stream",
          "name": "stderr",
          "text": [
            "[nltk_data] Downloading package stopwords to /root/nltk_data...\n",
            "[nltk_data]   Unzipping corpora/stopwords.zip.\n"
          ]
        },
        {
          "output_type": "execute_result",
          "data": {
            "text/plain": [
              "True"
            ]
          },
          "metadata": {},
          "execution_count": 12
        }
      ],
      "source": [
        "from tqdm import tqdm\n",
        "import nltk\n",
        "nltk.download('stopwords')"
      ]
    },
    {
      "cell_type": "code",
      "execution_count": null,
      "metadata": {
        "colab": {
          "base_uri": "https://localhost:8080/"
        },
        "id": "P8ioB8GgCKuo",
        "outputId": "1f2dd099-c4de-4451-e23b-eb9376773e07"
      },
      "outputs": [
        {
          "output_type": "stream",
          "name": "stderr",
          "text": [
            "100%|██████████| 1600000/1600000 [39:21<00:00, 677.53it/s]\n"
          ]
        }
      ],
      "source": [
        "cleantext=[]\n",
        "for item in tqdm(full_data['Content']):\n",
        "    words=tweet_to_words(item)\n",
        "    cleantext+=[words]\n",
        "full_data['cleantext']=cleantext"
      ]
    },
    {
      "cell_type": "code",
      "execution_count": null,
      "metadata": {
        "colab": {
          "base_uri": "https://localhost:8080/",
          "height": 337
        },
        "id": "q4fXTPSECKuq",
        "outputId": "6124544c-2bff-4ae9-c662-40cf0a6a3a42"
      },
      "outputs": [
        {
          "output_type": "execute_result",
          "data": {
            "text/plain": [
              "   Pos_Neg          id                          date query_string  \\\n",
              "0        0  1467810369  Mon Apr 06 22:19:45 PDT 2009     NO_QUERY   \n",
              "1        0  1467810672  Mon Apr 06 22:19:49 PDT 2009     NO_QUERY   \n",
              "2        0  1467810917  Mon Apr 06 22:19:53 PDT 2009     NO_QUERY   \n",
              "3        0  1467811184  Mon Apr 06 22:19:57 PDT 2009     NO_QUERY   \n",
              "4        0  1467811193  Mon Apr 06 22:19:57 PDT 2009     NO_QUERY   \n",
              "\n",
              "              user                                            Content  \\\n",
              "0  _TheSpecialOne_  @switchfoot http://twitpic.com/2y1zl - Awww, t...   \n",
              "1    scotthamilton  is upset that he can't update his Facebook by ...   \n",
              "2         mattycus  @Kenichan I dived many times for the ball. Man...   \n",
              "3          ElleCTF    my whole body feels itchy and like its on fire    \n",
              "4           Karoli  @nationwideclass no, it's not behaving at all....   \n",
              "\n",
              "                                           cleantext  \n",
              "0  [switchfoot, http, twitpic, com, 2y1zl, awww, ...  \n",
              "1  [upset, updat, facebook, text, might, cri, res...  \n",
              "2  [kenichan, dive, mani, time, ball, manag, save...  \n",
              "3             [whole, bodi, feel, itchi, like, fire]  \n",
              "4                 [nationwideclass, behav, mad, see]  "
            ],
            "text/html": [
              "\n",
              "  <div id=\"df-2c804f2e-a57c-472d-a8ec-3501fedf4227\">\n",
              "    <div class=\"colab-df-container\">\n",
              "      <div>\n",
              "<style scoped>\n",
              "    .dataframe tbody tr th:only-of-type {\n",
              "        vertical-align: middle;\n",
              "    }\n",
              "\n",
              "    .dataframe tbody tr th {\n",
              "        vertical-align: top;\n",
              "    }\n",
              "\n",
              "    .dataframe thead th {\n",
              "        text-align: right;\n",
              "    }\n",
              "</style>\n",
              "<table border=\"1\" class=\"dataframe\">\n",
              "  <thead>\n",
              "    <tr style=\"text-align: right;\">\n",
              "      <th></th>\n",
              "      <th>Pos_Neg</th>\n",
              "      <th>id</th>\n",
              "      <th>date</th>\n",
              "      <th>query_string</th>\n",
              "      <th>user</th>\n",
              "      <th>Content</th>\n",
              "      <th>cleantext</th>\n",
              "    </tr>\n",
              "  </thead>\n",
              "  <tbody>\n",
              "    <tr>\n",
              "      <th>0</th>\n",
              "      <td>0</td>\n",
              "      <td>1467810369</td>\n",
              "      <td>Mon Apr 06 22:19:45 PDT 2009</td>\n",
              "      <td>NO_QUERY</td>\n",
              "      <td>_TheSpecialOne_</td>\n",
              "      <td>@switchfoot http://twitpic.com/2y1zl - Awww, t...</td>\n",
              "      <td>[switchfoot, http, twitpic, com, 2y1zl, awww, ...</td>\n",
              "    </tr>\n",
              "    <tr>\n",
              "      <th>1</th>\n",
              "      <td>0</td>\n",
              "      <td>1467810672</td>\n",
              "      <td>Mon Apr 06 22:19:49 PDT 2009</td>\n",
              "      <td>NO_QUERY</td>\n",
              "      <td>scotthamilton</td>\n",
              "      <td>is upset that he can't update his Facebook by ...</td>\n",
              "      <td>[upset, updat, facebook, text, might, cri, res...</td>\n",
              "    </tr>\n",
              "    <tr>\n",
              "      <th>2</th>\n",
              "      <td>0</td>\n",
              "      <td>1467810917</td>\n",
              "      <td>Mon Apr 06 22:19:53 PDT 2009</td>\n",
              "      <td>NO_QUERY</td>\n",
              "      <td>mattycus</td>\n",
              "      <td>@Kenichan I dived many times for the ball. Man...</td>\n",
              "      <td>[kenichan, dive, mani, time, ball, manag, save...</td>\n",
              "    </tr>\n",
              "    <tr>\n",
              "      <th>3</th>\n",
              "      <td>0</td>\n",
              "      <td>1467811184</td>\n",
              "      <td>Mon Apr 06 22:19:57 PDT 2009</td>\n",
              "      <td>NO_QUERY</td>\n",
              "      <td>ElleCTF</td>\n",
              "      <td>my whole body feels itchy and like its on fire</td>\n",
              "      <td>[whole, bodi, feel, itchi, like, fire]</td>\n",
              "    </tr>\n",
              "    <tr>\n",
              "      <th>4</th>\n",
              "      <td>0</td>\n",
              "      <td>1467811193</td>\n",
              "      <td>Mon Apr 06 22:19:57 PDT 2009</td>\n",
              "      <td>NO_QUERY</td>\n",
              "      <td>Karoli</td>\n",
              "      <td>@nationwideclass no, it's not behaving at all....</td>\n",
              "      <td>[nationwideclass, behav, mad, see]</td>\n",
              "    </tr>\n",
              "  </tbody>\n",
              "</table>\n",
              "</div>\n",
              "      <button class=\"colab-df-convert\" onclick=\"convertToInteractive('df-2c804f2e-a57c-472d-a8ec-3501fedf4227')\"\n",
              "              title=\"Convert this dataframe to an interactive table.\"\n",
              "              style=\"display:none;\">\n",
              "        \n",
              "  <svg xmlns=\"http://www.w3.org/2000/svg\" height=\"24px\"viewBox=\"0 0 24 24\"\n",
              "       width=\"24px\">\n",
              "    <path d=\"M0 0h24v24H0V0z\" fill=\"none\"/>\n",
              "    <path d=\"M18.56 5.44l.94 2.06.94-2.06 2.06-.94-2.06-.94-.94-2.06-.94 2.06-2.06.94zm-11 1L8.5 8.5l.94-2.06 2.06-.94-2.06-.94L8.5 2.5l-.94 2.06-2.06.94zm10 10l.94 2.06.94-2.06 2.06-.94-2.06-.94-.94-2.06-.94 2.06-2.06.94z\"/><path d=\"M17.41 7.96l-1.37-1.37c-.4-.4-.92-.59-1.43-.59-.52 0-1.04.2-1.43.59L10.3 9.45l-7.72 7.72c-.78.78-.78 2.05 0 2.83L4 21.41c.39.39.9.59 1.41.59.51 0 1.02-.2 1.41-.59l7.78-7.78 2.81-2.81c.8-.78.8-2.07 0-2.86zM5.41 20L4 18.59l7.72-7.72 1.47 1.35L5.41 20z\"/>\n",
              "  </svg>\n",
              "      </button>\n",
              "      \n",
              "  <style>\n",
              "    .colab-df-container {\n",
              "      display:flex;\n",
              "      flex-wrap:wrap;\n",
              "      gap: 12px;\n",
              "    }\n",
              "\n",
              "    .colab-df-convert {\n",
              "      background-color: #E8F0FE;\n",
              "      border: none;\n",
              "      border-radius: 50%;\n",
              "      cursor: pointer;\n",
              "      display: none;\n",
              "      fill: #1967D2;\n",
              "      height: 32px;\n",
              "      padding: 0 0 0 0;\n",
              "      width: 32px;\n",
              "    }\n",
              "\n",
              "    .colab-df-convert:hover {\n",
              "      background-color: #E2EBFA;\n",
              "      box-shadow: 0px 1px 2px rgba(60, 64, 67, 0.3), 0px 1px 3px 1px rgba(60, 64, 67, 0.15);\n",
              "      fill: #174EA6;\n",
              "    }\n",
              "\n",
              "    [theme=dark] .colab-df-convert {\n",
              "      background-color: #3B4455;\n",
              "      fill: #D2E3FC;\n",
              "    }\n",
              "\n",
              "    [theme=dark] .colab-df-convert:hover {\n",
              "      background-color: #434B5C;\n",
              "      box-shadow: 0px 1px 3px 1px rgba(0, 0, 0, 0.15);\n",
              "      filter: drop-shadow(0px 1px 2px rgba(0, 0, 0, 0.3));\n",
              "      fill: #FFFFFF;\n",
              "    }\n",
              "  </style>\n",
              "\n",
              "      <script>\n",
              "        const buttonEl =\n",
              "          document.querySelector('#df-2c804f2e-a57c-472d-a8ec-3501fedf4227 button.colab-df-convert');\n",
              "        buttonEl.style.display =\n",
              "          google.colab.kernel.accessAllowed ? 'block' : 'none';\n",
              "\n",
              "        async function convertToInteractive(key) {\n",
              "          const element = document.querySelector('#df-2c804f2e-a57c-472d-a8ec-3501fedf4227');\n",
              "          const dataTable =\n",
              "            await google.colab.kernel.invokeFunction('convertToInteractive',\n",
              "                                                     [key], {});\n",
              "          if (!dataTable) return;\n",
              "\n",
              "          const docLinkHtml = 'Like what you see? Visit the ' +\n",
              "            '<a target=\"_blank\" href=https://colab.research.google.com/notebooks/data_table.ipynb>data table notebook</a>'\n",
              "            + ' to learn more about interactive tables.';\n",
              "          element.innerHTML = '';\n",
              "          dataTable['output_type'] = 'display_data';\n",
              "          await google.colab.output.renderOutput(dataTable, element);\n",
              "          const docLink = document.createElement('div');\n",
              "          docLink.innerHTML = docLinkHtml;\n",
              "          element.appendChild(docLink);\n",
              "        }\n",
              "      </script>\n",
              "    </div>\n",
              "  </div>\n",
              "  "
            ]
          },
          "metadata": {},
          "execution_count": 14
        }
      ],
      "source": [
        "full_data.head()"
      ]
    },
    {
      "cell_type": "code",
      "execution_count": null,
      "metadata": {
        "id": "VqSb0ROrCKur"
      },
      "outputs": [],
      "source": [
        "################################################################\n",
        "########################## Parameters ##########################\n",
        "################################################################\n",
        "\n",
        "# vocab_size = 20000  # Only consider the top 20k words\n",
        "vocab_size = 20000  # Only consider the top 100k words\n",
        "epochs =100\n",
        "n_heads = 6   #Or 3\n",
        "# maxlen = 200\n",
        "maxlen = 20 # max_length was 64 or 32\n",
        "num_class = 2\n",
        "embed_dim = 128\n",
        "################################################################"
      ]
    },
    {
      "cell_type": "code",
      "execution_count": null,
      "metadata": {
        "id": "iZ5sf314CKus"
      },
      "outputs": [],
      "source": [
        "import tensorflow as tf\n",
        "from tensorflow.keras.layers import MultiHeadAttention, LayerNormalization, Dropout, Layer\n",
        "from tensorflow.keras.layers import Embedding, Input, GlobalAveragePooling1D, GlobalMaxPool1D,Dense,Flatten\n",
        "from tensorflow.keras.models import Sequential, Model\n",
        "from keras.layers import Conv1D,MaxPooling1D"
      ]
    },
    {
      "cell_type": "code",
      "execution_count": null,
      "metadata": {
        "id": "QDxOAwe5CKut"
      },
      "outputs": [],
      "source": [
        "class TransformerBlock(Layer):\n",
        "    def __init__(self, d_model, num_heads):\n",
        "        super(TransformerBlock, self).__init__()\n",
        "        self.att = MultiHeadAttention(num_heads=num_heads, key_dim=d_model,)\n",
        "        self.layernorm1 = LayerNormalization(epsilon=1e-6) #1e-6\n",
        "        self.layernorm2 = LayerNormalization(epsilon=1e-6) #1e-6\n",
        "        self.convnet=Sequential(\n",
        "            [Conv1D(d_model,9,1,padding='same', activation='gelu'),MaxPooling1D(6,1,padding='same'),\n",
        "             Conv1D(d_model,7,1,padding='same', activation='gelu'),MaxPooling1D(4,1,padding='same'),\n",
        "             Conv1D(d_model,3,1,padding='same', activation='gelu'),MaxPooling1D(2,1,padding='same'),])\n",
        "#adding layer normalization\n",
        "\n",
        "    def call(self, inputs):\n",
        "        cnn_output = self.convnet(inputs)\n",
        "        ffn_output = self.layernorm1(cnn_output)\n",
        "        attn_output = self.att(ffn_output,ffn_output)\n",
        "        return self.layernorm2(inputs + attn_output)"
      ]
    },
    {
      "cell_type": "code",
      "execution_count": null,
      "metadata": {
        "id": "E-1xd4_tCKuu"
      },
      "outputs": [],
      "source": [
        "class TokenAndPositionEmbedding(Layer):\n",
        "    def __init__(self, maxlen, vocab_size, d_model):       # maxlen  <---------->  vocab_size\n",
        "        super(TokenAndPositionEmbedding, self).__init__()\n",
        "        self.token_emb = Embedding(input_dim=vocab_size, output_dim=d_model)\n",
        "        self.pos_emb = Embedding(input_dim=maxlen, output_dim=d_model)\n",
        "\n",
        "    def call(self, x):\n",
        "        maxlen = tf.shape(x)[-1]\n",
        "        positions = tf.range(start=0, limit=maxlen, delta=1)\n",
        "        positions = self.pos_emb(positions)\n",
        "        x = self.token_emb(x)\n",
        "        return x + positions"
      ]
    },
    {
      "cell_type": "code",
      "execution_count": null,
      "metadata": {
        "id": "gImt6us0CKu0"
      },
      "outputs": [],
      "source": [
        "from tensorflow.keras.preprocessing.text import Tokenizer\n",
        "from tensorflow.keras.preprocessing.sequence import pad_sequences\n",
        "def tokenize_pad_sequences(text):\n",
        "    # Text tokenization\n",
        "    tokenizer = Tokenizer(num_words=vocab_size, lower=True, split=' ')\n",
        "    tokenizer.fit_on_texts(text)\n",
        "    # Transforms text to a sequence of integers\n",
        "    X = tokenizer.texts_to_sequences(text)\n",
        "    # Pad sequences to the same length\n",
        "    X = pad_sequences(X, padding='post', maxlen=maxlen)\n",
        "    # return sequences\n",
        "    return X, tokenizer"
      ]
    },
    {
      "cell_type": "code",
      "execution_count": null,
      "metadata": {
        "id": "bNjDQFQ8CKu2",
        "colab": {
          "base_uri": "https://localhost:8080/"
        },
        "outputId": "a222aec7-6be9-4b5a-ab27-914ac0eee9d9"
      },
      "outputs": [
        {
          "output_type": "stream",
          "name": "stdout",
          "text": [
            "Train Set:  (1280000, 28) (1280000, 2)\n",
            "Validation Set:  (160000, 28) (160000, 2)\n",
            "Test Set:  (160000, 28) (160000, 2)\n",
            "X_train Sample:  [[   96     6     0     0     0     0     0     0     0     0     0     0\n",
            "      0     0     0     0     0     0     0     0     0     0     0     0\n",
            "      0     0     0     0]\n",
            " [  269    37 10351    32  2543   669  1129   196   140   347  1983     0\n",
            "      0     0     0     0     0     0     0     0     0     0     0     0\n",
            "      0     0     0     0]\n",
            " [  528 10909   954   759  1534  1227  7067  1667  1578    33  4024     0\n",
            "      0     0     0     0     0     0     0     0     0     0     0     0\n",
            "      0     0     0     0]]\n",
            "y_train Sample:           0  4\n",
            "1556092  0  1\n",
            "868905   0  1\n",
            "218471   1  0\n"
          ]
        }
      ],
      "source": [
        "#create dataset train test val\n",
        "from sklearn.model_selection import train_test_split\n",
        "X, tokenizer = tokenize_pad_sequences(full_data['cleantext'])\n",
        "y = pd.get_dummies(full_data['Pos_Neg'])\n",
        "X_train, X_test, y_train, y_test = train_test_split(X, y, test_size=0.2, random_state=1)\n",
        "X_test, X_val, y_test, y_val = train_test_split(X_test, y_test, test_size=0.5, random_state=1)\n",
        "print('Train Set: ', X_train.shape, y_train.shape)\n",
        "print('Validation Set: ', X_val.shape, y_val.shape)\n",
        "print('Test Set: ', X_test.shape, y_test.shape)\n",
        "print('X_train Sample: ',X_train[0:3])\n",
        "print('y_train Sample: ',y_train[0:3])"
      ]
    },
    {
      "cell_type": "code",
      "execution_count": null,
      "metadata": {
        "id": "lmLgmdESCKu3"
      },
      "outputs": [],
      "source": [
        "batch_size = 128 # 64\n",
        "#create model and training\n",
        "inputs = Input(shape=(maxlen,))\n",
        "embedding_layer = TokenAndPositionEmbedding(maxlen, vocab_size, batch_size)\n",
        "x = embedding_layer(inputs)\n",
        "transformer_block = TransformerBlock(batch_size, n_heads)\n",
        "\n",
        "x = transformer_block(x)\n",
        "# x = transformer_block(x) # Again\n",
        "# x = GlobalAveragePooling1D()(x)\n",
        "x = GlobalMaxPool1D()(x) # for testing\n",
        "x = Dropout(.4)(x) #0.5\n",
        "x = Dense(batch_size, activation='gelu')(x) #sigmoid\n",
        "x = Dropout(.4)(x) #0.3\n",
        "# outputs = Dense(3, activation=\"softmax\")(x)\n",
        "outputs = Dense(2, activation=\"sigmoid\")(x) #softmax, num_class"
      ]
    },
    {
      "cell_type": "code",
      "execution_count": null,
      "metadata": {
        "id": "zfS8lahsCKu4",
        "colab": {
          "base_uri": "https://localhost:8080/"
        },
        "outputId": "c19c2e11-22a4-4fb6-8bbe-d7ee71d6ff6b"
      },
      "outputs": [
        {
          "output_type": "stream",
          "name": "stdout",
          "text": [
            "Model: \"model\"\n",
            "_________________________________________________________________\n",
            " Layer (type)                Output Shape              Param #   \n",
            "=================================================================\n",
            " input_1 (InputLayer)        [(None, 28)]              0         \n",
            "                                                                 \n",
            " token_and_position_embeddin  (None, 28, 64)           1281792   \n",
            " g (TokenAndPositionEmbeddin                                     \n",
            " g)                                                              \n",
            "                                                                 \n",
            " transformer_block (Transfor  (None, 28, 64)           177792    \n",
            " merBlock)                                                       \n",
            "                                                                 \n",
            " global_max_pooling1d (Globa  (None, 64)               0         \n",
            " lMaxPooling1D)                                                  \n",
            "                                                                 \n",
            " dropout (Dropout)           (None, 64)                0         \n",
            "                                                                 \n",
            " dense (Dense)               (None, 64)                4160      \n",
            "                                                                 \n",
            " dropout_1 (Dropout)         (None, 64)                0         \n",
            "                                                                 \n",
            " dense_1 (Dense)             (None, 2)                 130       \n",
            "                                                                 \n",
            "=================================================================\n",
            "Total params: 1,463,874\n",
            "Trainable params: 1,463,874\n",
            "Non-trainable params: 0\n",
            "_________________________________________________________________\n"
          ]
        }
      ],
      "source": [
        "from tensorflow import keras\n",
        "########\n",
        "# epochs=70\n",
        "########\n",
        "model = Model(inputs=inputs, outputs=outputs)\n",
        "model.summary()"
      ]
    },
    {
      "cell_type": "code",
      "execution_count": null,
      "metadata": {
        "colab": {
          "base_uri": "https://localhost:8080/"
        },
        "id": "n4btL2twCKu5",
        "outputId": "a38fb2fb-1414-4f3b-8cdc-a07174a70dcd"
      },
      "outputs": [
        {
          "output_type": "stream",
          "name": "stdout",
          "text": [
            "Epoch 1/100\n",
            "20000/20000 [==============================] - 212s 10ms/step - loss: 0.6076 - accuracy: 0.6524 - val_loss: 0.5088 - val_accuracy: 0.7513\n",
            "Epoch 2/100\n",
            "20000/20000 [==============================] - 176s 9ms/step - loss: 0.5019 - accuracy: 0.7599 - val_loss: 0.4822 - val_accuracy: 0.7689\n",
            "Epoch 3/100\n",
            "20000/20000 [==============================] - 175s 9ms/step - loss: 0.4815 - accuracy: 0.7735 - val_loss: 0.4724 - val_accuracy: 0.7747\n",
            "Epoch 4/100\n",
            "10141/20000 [==============>...............] - ETA: 1:23 - loss: 0.4724 - accuracy: 0.7790"
          ]
        }
      ],
      "source": [
        "# call back for learning rate, learning rate scheduler\n",
        "# opt = keras.optimizers.Adam(learning_rate=0.00001) #0.0001\n",
        "\n",
        "opt = tf.keras.optimizers.Adam(learning_rate=8e-6,epsilon=1e-08)\n",
        "\n",
        "###################\n",
        "# lr_schedule = keras.optimizers.schedules.ExponentialDecay(\n",
        "#     initial_learning_rate=1e-2,\n",
        "#     decay_steps=5,\n",
        "#     decay_rate=0.9)\n",
        "# opt = keras.optimizers.Adam(learning_rate=lr_schedule) # SGD\n",
        "##################\n",
        "\n",
        "model.compile(optimizer=opt , loss=\"binary_crossentropy\", metrics=[\"accuracy\"]) # \"or mse\" and \"categorical_crossentropy\"\n",
        "\n",
        "history = model.fit(X_train,y_train, batch_size=64, epochs=epochs, validation_data=(X_val, y_val))  # batch_size = 256\n",
        "\n",
        "results = model.evaluate(X_val, y_val, verbose=1)"
      ]
    },
    {
      "cell_type": "code",
      "execution_count": null,
      "metadata": {
        "id": "6x8TLzgUCKu6"
      },
      "outputs": [],
      "source": [
        "from keras.utils.vis_utils import plot_model\n",
        "\n",
        "plot_model(model)"
      ]
    },
    {
      "cell_type": "code",
      "execution_count": null,
      "metadata": {
        "id": "j8IekVcHCKu6"
      },
      "outputs": [],
      "source": [
        "loss, accuracy = model.evaluate(X_test, y_test, verbose=0)\n",
        "# Print metrics\n",
        "print('Accuracy  : {:.4f}'.format(accuracy))"
      ]
    },
    {
      "cell_type": "code",
      "execution_count": null,
      "metadata": {
        "id": "6g34_WqPCKu7"
      },
      "outputs": [],
      "source": [
        "import matplotlib.pyplot as plt\n",
        "\n",
        "\n",
        "\n",
        "fig, ax = plt.subplots(1,2, figsize=(10,4))\n",
        "# first plot\n",
        "ax[0].plot(history.history['accuracy'])\n",
        "ax[0].plot(history.history['val_accuracy'])\n",
        "ax[0].set_title('Model Accuracy')\n",
        "ax[0].set_xlabel('epoch')\n",
        "ax[0].set_ylabel('accuracy')\n",
        "ax[0].legend(['train', 'validation'], loc='best')\n",
        "\n",
        "# second plot\n",
        "ax[1].plot(history.history['loss'])\n",
        "ax[1].plot(history.history['val_loss'])\n",
        "ax[1].set_title('Model Loss')\n",
        "ax[1].set_xlabel('epoch')\n",
        "ax[1].set_ylabel('loss')\n",
        "ax[1].legend(['train', 'validation'], loc='best')"
      ]
    },
    {
      "cell_type": "code",
      "execution_count": null,
      "metadata": {
        "id": "rBlpZPvWCKu9"
      },
      "outputs": [],
      "source": [
        "from sklearn.metrics import confusion_matrix\n",
        "import seaborn as sns\n",
        "import numpy as np\n",
        "'''Function to plot confusion matrix for the passed model and the data'''\n",
        "\n",
        "# sentiment_classes = ['Negative','Neutral', 'Positive']\n",
        "sentiment_classes = ['Negative', 'Positive']\n",
        "\n",
        "# use model to do the prediction\n",
        "y_pred = model.predict(X_test)\n",
        "# compute confusion matrix\n",
        "cm = confusion_matrix(np.argmax(y_pred, axis=1),np.argmax(np.array(y_test),axis=1))\n",
        "\n",
        "# plot confusion matrix\n",
        "plt.figure(figsize=(8,6))\n",
        "sns.heatmap(cm, cmap=plt.cm.Blues, annot=True, fmt='d',\n",
        "            xticklabels=sentiment_classes,\n",
        "            yticklabels=sentiment_classes)\n",
        "plt.title('Confusion matrix', fontsize=16)\n",
        "plt.xlabel('Actual label', fontsize=12)\n",
        "plt.ylabel('Predicted label', fontsize=12)"
      ]
    },
    {
      "cell_type": "code",
      "execution_count": null,
      "metadata": {
        "id": "qZiRowXsCKu-"
      },
      "outputs": [],
      "source": []
    },
    {
      "cell_type": "code",
      "execution_count": null,
      "metadata": {
        "id": "ZliGg4frCKvF"
      },
      "outputs": [],
      "source": []
    },
    {
      "cell_type": "code",
      "execution_count": null,
      "metadata": {
        "id": "Zw-uy_SQCKvF"
      },
      "outputs": [],
      "source": []
    }
  ],
  "metadata": {
    "accelerator": "GPU",
    "colab": {
      "machine_shape": "hm",
      "provenance": [],
      "include_colab_link": true
    },
    "gpuClass": "standard",
    "kernelspec": {
      "display_name": "Python 3",
      "language": "python",
      "name": "python3"
    },
    "language_info": {
      "codemirror_mode": {
        "name": "ipython",
        "version": 3
      },
      "file_extension": ".py",
      "mimetype": "text/x-python",
      "name": "python",
      "nbconvert_exporter": "python",
      "pygments_lexer": "ipython3",
      "version": "3.7.12"
    }
  },
  "nbformat": 4,
  "nbformat_minor": 0
}