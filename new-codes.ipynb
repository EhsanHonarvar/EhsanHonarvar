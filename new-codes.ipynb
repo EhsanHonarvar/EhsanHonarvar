{
 "cells": [
  {
   "cell_type": "code",
   "execution_count": 1,
   "id": "7767a919",
   "metadata": {
    "_cell_guid": "b1076dfc-b9ad-4769-8c92-a6c4dae69d19",
    "_uuid": "8f2839f25d086af736a60e9eeb907d3b93b6e0e5",
    "execution": {
     "iopub.execute_input": "2023-01-07T20:35:30.623855Z",
     "iopub.status.busy": "2023-01-07T20:35:30.623452Z",
     "iopub.status.idle": "2023-01-07T20:35:30.647124Z",
     "shell.execute_reply": "2023-01-07T20:35:30.646225Z"
    },
    "papermill": {
     "duration": 0.035126,
     "end_time": "2023-01-07T20:35:30.649353",
     "exception": false,
     "start_time": "2023-01-07T20:35:30.614227",
     "status": "completed"
    },
    "tags": []
   },
   "outputs": [
    {
     "name": "stdout",
     "output_type": "stream",
     "text": [
      "/kaggle/input/bitcoin-tweets-16m-tweets-with-sentiment-tagged/mbsa.csv\n",
      "/kaggle/input/lid176bin/lid.176.bin\n"
     ]
    }
   ],
   "source": [
    "# This Python 3 environment comes with many helpful analytics libraries installed\n",
    "# It is defined by the kaggle/python Docker image: https://github.com/kaggle/docker-python\n",
    "# For example, here's several helpful packages to load\n",
    "\n",
    "import numpy as np # linear algebra\n",
    "import pandas as pd # data processing, CSV file I/O (e.g. pd.read_csv)\n",
    "\n",
    "# Input data files are available in the read-only \"../input/\" directory\n",
    "# For example, running this (by clicking run or pressing Shift+Enter) will list all files under the input directory\n",
    "\n",
    "import os\n",
    "for dirname, _, filenames in os.walk('/kaggle/input'):\n",
    "    for filename in filenames:\n",
    "        print(os.path.join(dirname, filename))\n",
    "\n",
    "# You can write up to 20GB to the current directory (/kaggle/working/) that gets preserved as output when you create a version using \"Save & Run All\" \n",
    "# You can also write temporary files to /kaggle/temp/, but they won't be saved outside of the current session"
   ]
  },
  {
   "cell_type": "code",
   "execution_count": 2,
   "id": "3098bcb7",
   "metadata": {
    "execution": {
     "iopub.execute_input": "2023-01-07T20:35:30.666262Z",
     "iopub.status.busy": "2023-01-07T20:35:30.664692Z",
     "iopub.status.idle": "2023-01-07T20:35:32.122920Z",
     "shell.execute_reply": "2023-01-07T20:35:32.121976Z"
    },
    "papermill": {
     "duration": 1.469015,
     "end_time": "2023-01-07T20:35:32.125301",
     "exception": false,
     "start_time": "2023-01-07T20:35:30.656286",
     "status": "completed"
    },
    "tags": []
   },
   "outputs": [],
   "source": [
    "import matplotlib.pyplot as plt, seaborn as sns\n",
    "from sklearn.model_selection import train_test_split, cross_val_score, StratifiedKFold, GridSearchCV\n",
    "from sklearn.metrics import accuracy_score\n",
    "from stop_words import get_stop_words\n",
    "import nltk\n",
    "from nltk.stem.porter import PorterStemmer\n",
    "from nltk.corpus import stopwords\n",
    "import re"
   ]
  },
  {
   "cell_type": "code",
   "execution_count": 3,
   "id": "3d52d378",
   "metadata": {
    "execution": {
     "iopub.execute_input": "2023-01-07T20:35:32.140610Z",
     "iopub.status.busy": "2023-01-07T20:35:32.140255Z",
     "iopub.status.idle": "2023-01-07T20:36:48.727238Z",
     "shell.execute_reply": "2023-01-07T20:36:48.726304Z"
    },
    "papermill": {
     "duration": 76.603827,
     "end_time": "2023-01-07T20:36:48.736258",
     "exception": false,
     "start_time": "2023-01-07T20:35:32.132431",
     "status": "completed"
    },
    "tags": []
   },
   "outputs": [
    {
     "data": {
      "text/html": [
       "<div>\n",
       "<style scoped>\n",
       "    .dataframe tbody tr th:only-of-type {\n",
       "        vertical-align: middle;\n",
       "    }\n",
       "\n",
       "    .dataframe tbody tr th {\n",
       "        vertical-align: top;\n",
       "    }\n",
       "\n",
       "    .dataframe thead th {\n",
       "        text-align: right;\n",
       "    }\n",
       "</style>\n",
       "<table border=\"1\" class=\"dataframe\">\n",
       "  <thead>\n",
       "    <tr style=\"text-align: right;\">\n",
       "      <th></th>\n",
       "      <th>Date</th>\n",
       "      <th>text</th>\n",
       "      <th>Sentiment</th>\n",
       "    </tr>\n",
       "  </thead>\n",
       "  <tbody>\n",
       "    <tr>\n",
       "      <th>0</th>\n",
       "      <td>2019-05-27</td>\n",
       "      <td>È appena uscito un nuovo video! LES CRYPTOMONN...</td>\n",
       "      <td>Positive</td>\n",
       "    </tr>\n",
       "    <tr>\n",
       "      <th>1</th>\n",
       "      <td>2019-05-27</td>\n",
       "      <td>Cardano: Digitize Currencies; EOS https://t.co...</td>\n",
       "      <td>Positive</td>\n",
       "    </tr>\n",
       "    <tr>\n",
       "      <th>2</th>\n",
       "      <td>2019-05-27</td>\n",
       "      <td>Another Test tweet that wasn't caught in the s...</td>\n",
       "      <td>Positive</td>\n",
       "    </tr>\n",
       "    <tr>\n",
       "      <th>3</th>\n",
       "      <td>2019-05-27</td>\n",
       "      <td>Current Crypto Prices! \\n\\nBTC: $8721.99 USD\\n...</td>\n",
       "      <td>Positive</td>\n",
       "    </tr>\n",
       "    <tr>\n",
       "      <th>4</th>\n",
       "      <td>2019-05-27</td>\n",
       "      <td>Spiv (Nosar Baz): BITCOIN Is An Asset &amp;amp; NO...</td>\n",
       "      <td>Positive</td>\n",
       "    </tr>\n",
       "  </tbody>\n",
       "</table>\n",
       "</div>"
      ],
      "text/plain": [
       "         Date                                               text Sentiment\n",
       "0  2019-05-27  È appena uscito un nuovo video! LES CRYPTOMONN...  Positive\n",
       "1  2019-05-27  Cardano: Digitize Currencies; EOS https://t.co...  Positive\n",
       "2  2019-05-27  Another Test tweet that wasn't caught in the s...  Positive\n",
       "3  2019-05-27  Current Crypto Prices! \\n\\nBTC: $8721.99 USD\\n...  Positive\n",
       "4  2019-05-27  Spiv (Nosar Baz): BITCOIN Is An Asset &amp; NO...  Positive"
      ]
     },
     "execution_count": 3,
     "metadata": {},
     "output_type": "execute_result"
    }
   ],
   "source": [
    "tweets = pd.read_csv('/kaggle/input/bitcoin-tweets-16m-tweets-with-sentiment-tagged/mbsa.csv')\n",
    "tweets.head()"
   ]
  },
  {
   "cell_type": "code",
   "execution_count": 4,
   "id": "4613911a",
   "metadata": {
    "execution": {
     "iopub.execute_input": "2023-01-07T20:36:48.754149Z",
     "iopub.status.busy": "2023-01-07T20:36:48.753857Z",
     "iopub.status.idle": "2023-01-07T20:36:48.760232Z",
     "shell.execute_reply": "2023-01-07T20:36:48.759204Z"
    },
    "papermill": {
     "duration": 0.020016,
     "end_time": "2023-01-07T20:36:48.763153",
     "exception": false,
     "start_time": "2023-01-07T20:36:48.743137",
     "status": "completed"
    },
    "tags": []
   },
   "outputs": [
    {
     "data": {
      "text/plain": [
       "19344048"
      ]
     },
     "execution_count": 4,
     "metadata": {},
     "output_type": "execute_result"
    }
   ],
   "source": [
    "len(tweets)"
   ]
  },
  {
   "cell_type": "code",
   "execution_count": 5,
   "id": "99a8ab3e",
   "metadata": {
    "execution": {
     "iopub.execute_input": "2023-01-07T20:36:48.780092Z",
     "iopub.status.busy": "2023-01-07T20:36:48.779830Z",
     "iopub.status.idle": "2023-01-07T20:36:48.785187Z",
     "shell.execute_reply": "2023-01-07T20:36:48.784350Z"
    },
    "papermill": {
     "duration": 0.015044,
     "end_time": "2023-01-07T20:36:48.787210",
     "exception": false,
     "start_time": "2023-01-07T20:36:48.772166",
     "status": "completed"
    },
    "tags": []
   },
   "outputs": [],
   "source": [
    "from tqdm import tqdm"
   ]
  },
  {
   "cell_type": "code",
   "execution_count": 6,
   "id": "448a9b06",
   "metadata": {
    "execution": {
     "iopub.execute_input": "2023-01-07T20:36:48.801971Z",
     "iopub.status.busy": "2023-01-07T20:36:48.801706Z",
     "iopub.status.idle": "2023-01-07T20:36:48.812135Z",
     "shell.execute_reply": "2023-01-07T20:36:48.811306Z"
    },
    "papermill": {
     "duration": 0.020201,
     "end_time": "2023-01-07T20:36:48.814302",
     "exception": false,
     "start_time": "2023-01-07T20:36:48.794101",
     "status": "completed"
    },
    "tags": []
   },
   "outputs": [
    {
     "data": {
      "text/html": [
       "<div>\n",
       "<style scoped>\n",
       "    .dataframe tbody tr th:only-of-type {\n",
       "        vertical-align: middle;\n",
       "    }\n",
       "\n",
       "    .dataframe tbody tr th {\n",
       "        vertical-align: top;\n",
       "    }\n",
       "\n",
       "    .dataframe thead th {\n",
       "        text-align: right;\n",
       "    }\n",
       "</style>\n",
       "<table border=\"1\" class=\"dataframe\">\n",
       "  <thead>\n",
       "    <tr style=\"text-align: right;\">\n",
       "      <th></th>\n",
       "      <th>text</th>\n",
       "      <th>Sentiment</th>\n",
       "    </tr>\n",
       "  </thead>\n",
       "  <tbody>\n",
       "    <tr>\n",
       "      <th>0</th>\n",
       "      <td>È appena uscito un nuovo video! LES CRYPTOMONN...</td>\n",
       "      <td>Positive</td>\n",
       "    </tr>\n",
       "    <tr>\n",
       "      <th>1</th>\n",
       "      <td>Cardano: Digitize Currencies; EOS https://t.co...</td>\n",
       "      <td>Positive</td>\n",
       "    </tr>\n",
       "    <tr>\n",
       "      <th>2</th>\n",
       "      <td>Another Test tweet that wasn't caught in the s...</td>\n",
       "      <td>Positive</td>\n",
       "    </tr>\n",
       "    <tr>\n",
       "      <th>3</th>\n",
       "      <td>Current Crypto Prices! \\n\\nBTC: $8721.99 USD\\n...</td>\n",
       "      <td>Positive</td>\n",
       "    </tr>\n",
       "    <tr>\n",
       "      <th>4</th>\n",
       "      <td>Spiv (Nosar Baz): BITCOIN Is An Asset &amp;amp; NO...</td>\n",
       "      <td>Positive</td>\n",
       "    </tr>\n",
       "  </tbody>\n",
       "</table>\n",
       "</div>"
      ],
      "text/plain": [
       "                                                text Sentiment\n",
       "0  È appena uscito un nuovo video! LES CRYPTOMONN...  Positive\n",
       "1  Cardano: Digitize Currencies; EOS https://t.co...  Positive\n",
       "2  Another Test tweet that wasn't caught in the s...  Positive\n",
       "3  Current Crypto Prices! \\n\\nBTC: $8721.99 USD\\n...  Positive\n",
       "4  Spiv (Nosar Baz): BITCOIN Is An Asset &amp; NO...  Positive"
      ]
     },
     "execution_count": 6,
     "metadata": {},
     "output_type": "execute_result"
    }
   ],
   "source": [
    "tweets = tweets.iloc[:,1:]\n",
    "tweets.head()"
   ]
  },
  {
   "cell_type": "code",
   "execution_count": 7,
   "id": "a9cd2b7c",
   "metadata": {
    "execution": {
     "iopub.execute_input": "2023-01-07T20:36:48.829914Z",
     "iopub.status.busy": "2023-01-07T20:36:48.829660Z",
     "iopub.status.idle": "2023-01-07T20:37:05.006879Z",
     "shell.execute_reply": "2023-01-07T20:37:05.005912Z"
    },
    "papermill": {
     "duration": 16.187707,
     "end_time": "2023-01-07T20:37:05.009032",
     "exception": false,
     "start_time": "2023-01-07T20:36:48.821325",
     "status": "completed"
    },
    "tags": []
   },
   "outputs": [
    {
     "data": {
      "text/html": [
       "<div>\n",
       "<style scoped>\n",
       "    .dataframe tbody tr th:only-of-type {\n",
       "        vertical-align: middle;\n",
       "    }\n",
       "\n",
       "    .dataframe tbody tr th {\n",
       "        vertical-align: top;\n",
       "    }\n",
       "\n",
       "    .dataframe thead th {\n",
       "        text-align: right;\n",
       "    }\n",
       "</style>\n",
       "<table border=\"1\" class=\"dataframe\">\n",
       "  <thead>\n",
       "    <tr style=\"text-align: right;\">\n",
       "      <th></th>\n",
       "      <th>text</th>\n",
       "      <th>Sentiment</th>\n",
       "    </tr>\n",
       "  </thead>\n",
       "  <tbody>\n",
       "    <tr>\n",
       "      <th>0</th>\n",
       "      <td>È appena uscito un nuovo video! LES CRYPTOMONN...</td>\n",
       "      <td>1</td>\n",
       "    </tr>\n",
       "    <tr>\n",
       "      <th>1</th>\n",
       "      <td>Cardano: Digitize Currencies; EOS https://t.co...</td>\n",
       "      <td>1</td>\n",
       "    </tr>\n",
       "    <tr>\n",
       "      <th>2</th>\n",
       "      <td>Another Test tweet that wasn't caught in the s...</td>\n",
       "      <td>1</td>\n",
       "    </tr>\n",
       "    <tr>\n",
       "      <th>3</th>\n",
       "      <td>Current Crypto Prices! \\n\\nBTC: $8721.99 USD\\n...</td>\n",
       "      <td>1</td>\n",
       "    </tr>\n",
       "    <tr>\n",
       "      <th>4</th>\n",
       "      <td>Spiv (Nosar Baz): BITCOIN Is An Asset &amp;amp; NO...</td>\n",
       "      <td>1</td>\n",
       "    </tr>\n",
       "  </tbody>\n",
       "</table>\n",
       "</div>"
      ],
      "text/plain": [
       "                                                text  Sentiment\n",
       "0  È appena uscito un nuovo video! LES CRYPTOMONN...          1\n",
       "1  Cardano: Digitize Currencies; EOS https://t.co...          1\n",
       "2  Another Test tweet that wasn't caught in the s...          1\n",
       "3  Current Crypto Prices! \\n\\nBTC: $8721.99 USD\\n...          1\n",
       "4  Spiv (Nosar Baz): BITCOIN Is An Asset &amp; NO...          1"
      ]
     },
     "execution_count": 7,
     "metadata": {},
     "output_type": "execute_result"
    }
   ],
   "source": [
    "tweets.Sentiment = tweets.Sentiment.apply(lambda x: str(x).lower())\n",
    "tweets.Sentiment = tweets.Sentiment.map(lambda x: 1 if x=='positive' else 0)\n",
    "tweets.head()"
   ]
  },
  {
   "cell_type": "code",
   "execution_count": 8,
   "id": "ce50cab4",
   "metadata": {
    "execution": {
     "iopub.execute_input": "2023-01-07T20:37:05.027220Z",
     "iopub.status.busy": "2023-01-07T20:37:05.025583Z",
     "iopub.status.idle": "2023-01-07T20:37:06.363798Z",
     "shell.execute_reply": "2023-01-07T20:37:06.362550Z"
    },
    "papermill": {
     "duration": 1.349359,
     "end_time": "2023-01-07T20:37:06.366086",
     "exception": false,
     "start_time": "2023-01-07T20:37:05.016727",
     "status": "completed"
    },
    "tags": []
   },
   "outputs": [
    {
     "name": "stdout",
     "output_type": "stream",
     "text": [
      "Total Sample:  1000000\n",
      "             text\n",
      "Sentiment        \n",
      "0          548311\n",
      "1          451689\n"
     ]
    }
   ],
   "source": [
    "df = tweets.sample(1000000)\n",
    "\n",
    "df.head()\n",
    "print('Total Sample: ',len(df))\n",
    "print(df.groupby(df.Sentiment).count())\n"
   ]
  },
  {
   "cell_type": "code",
   "execution_count": 9,
   "id": "5b70824d",
   "metadata": {
    "execution": {
     "iopub.execute_input": "2023-01-07T20:37:06.383411Z",
     "iopub.status.busy": "2023-01-07T20:37:06.382594Z",
     "iopub.status.idle": "2023-01-07T20:45:48.276067Z",
     "shell.execute_reply": "2023-01-07T20:45:48.269568Z"
    },
    "papermill": {
     "duration": 521.906148,
     "end_time": "2023-01-07T20:45:48.280434",
     "exception": false,
     "start_time": "2023-01-07T20:37:06.374286",
     "status": "completed"
    },
    "tags": []
   },
   "outputs": [
    {
     "data": {
      "text/html": [
       "<div>\n",
       "<style scoped>\n",
       "    .dataframe tbody tr th:only-of-type {\n",
       "        vertical-align: middle;\n",
       "    }\n",
       "\n",
       "    .dataframe tbody tr th {\n",
       "        vertical-align: top;\n",
       "    }\n",
       "\n",
       "    .dataframe thead th {\n",
       "        text-align: right;\n",
       "    }\n",
       "</style>\n",
       "<table border=\"1\" class=\"dataframe\">\n",
       "  <thead>\n",
       "    <tr style=\"text-align: right;\">\n",
       "      <th></th>\n",
       "      <th>text</th>\n",
       "      <th>Sentiment</th>\n",
       "    </tr>\n",
       "  </thead>\n",
       "  <tbody>\n",
       "    <tr>\n",
       "      <th>10386803</th>\n",
       "      <td>epaz s bitcoin share amp blockchain social med...</td>\n",
       "      <td>0</td>\n",
       "    </tr>\n",
       "    <tr>\n",
       "      <th>7287624</th>\n",
       "      <td>btc bitcoin cryptocurr xrp bnb acnzqfzwpqk pcp...</td>\n",
       "      <td>1</td>\n",
       "    </tr>\n",
       "    <tr>\n",
       "      <th>9271016</th>\n",
       "      <td>bitmex btc whale worth bitcoin sold wait bounc...</td>\n",
       "      <td>1</td>\n",
       "    </tr>\n",
       "    <tr>\n",
       "      <th>7952520</th>\n",
       "      <td>riot call</td>\n",
       "      <td>1</td>\n",
       "    </tr>\n",
       "    <tr>\n",
       "      <th>174812</th>\n",
       "      <td>nkn btc hr ichimoku cloud twist ve bullish tk ...</td>\n",
       "      <td>0</td>\n",
       "    </tr>\n",
       "  </tbody>\n",
       "</table>\n",
       "</div>"
      ],
      "text/plain": [
       "                                                       text  Sentiment\n",
       "10386803  epaz s bitcoin share amp blockchain social med...          0\n",
       "7287624   btc bitcoin cryptocurr xrp bnb acnzqfzwpqk pcp...          1\n",
       "9271016   bitmex btc whale worth bitcoin sold wait bounc...          1\n",
       "7952520                                           riot call          1\n",
       "174812    nkn btc hr ichimoku cloud twist ve bullish tk ...          0"
      ]
     },
     "execution_count": 9,
     "metadata": {},
     "output_type": "execute_result"
    }
   ],
   "source": [
    "######## DATA CLEANING ########\n",
    "stop_words = get_stop_words('english')\n",
    "    \n",
    "len(stop_words)\n",
    "\n",
    "ps = PorterStemmer()\n",
    "corpus = []\n",
    "for i in df.text:\n",
    "    new = re.sub('[^a-zA-z]', ' ',str(i))\n",
    "    new = new.lower()\n",
    "    new = nltk.word_tokenize(new)\n",
    "    new = [ps.stem(i) for i in new if i not in stop_words]\n",
    "    new = ' '.join(new)\n",
    "    corpus.append(new)\n",
    "    \n",
    "df.text = corpus\n",
    "df.head()"
   ]
  },
  {
   "cell_type": "code",
   "execution_count": 10,
   "id": "0cb48e5a",
   "metadata": {
    "execution": {
     "iopub.execute_input": "2023-01-07T20:45:48.296815Z",
     "iopub.status.busy": "2023-01-07T20:45:48.296514Z",
     "iopub.status.idle": "2023-01-07T20:45:48.319329Z",
     "shell.execute_reply": "2023-01-07T20:45:48.318482Z"
    },
    "papermill": {
     "duration": 0.033396,
     "end_time": "2023-01-07T20:45:48.321438",
     "exception": false,
     "start_time": "2023-01-07T20:45:48.288042",
     "status": "completed"
    },
    "tags": []
   },
   "outputs": [],
   "source": [
    "########### Language Detection ###########\n",
    "\n",
    "import fasttext\n",
    "\n",
    "class LanguageDetector(object):\n",
    "    def __init__(self, fname: str, label: str=\"__label__\"):\n",
    "        self._model = fasttext.load_model(fname)\n",
    "        self.label = label\n",
    "        \n",
    "    def predict(self, text: str):\n",
    "        prediction, probability = self._model.predict(text, k=1)\n",
    "        \n",
    "        prediction = prediction[0].replace(self.label, \"\")\n",
    "        probability = probability[0]\n",
    "        \n",
    "        return prediction, probability"
   ]
  },
  {
   "cell_type": "code",
   "execution_count": 11,
   "id": "6740c7a3",
   "metadata": {
    "execution": {
     "iopub.execute_input": "2023-01-07T20:45:48.338969Z",
     "iopub.status.busy": "2023-01-07T20:45:48.338062Z",
     "iopub.status.idle": "2023-01-07T20:45:49.699237Z",
     "shell.execute_reply": "2023-01-07T20:45:49.698234Z"
    },
    "papermill": {
     "duration": 1.372044,
     "end_time": "2023-01-07T20:45:49.701411",
     "exception": false,
     "start_time": "2023-01-07T20:45:48.329367",
     "status": "completed"
    },
    "tags": []
   },
   "outputs": [
    {
     "name": "stderr",
     "output_type": "stream",
     "text": [
      "Warning : `load_model` does not return WordVectorModel or SupervisedModel any more, but a `FastText` object which is very similar.\n"
     ]
    },
    {
     "data": {
      "text/plain": [
       "('en', 0.9773516654968262)"
      ]
     },
     "execution_count": 11,
     "metadata": {},
     "output_type": "execute_result"
    }
   ],
   "source": [
    "# model_fname = \"../input/fasttextmodel/lid.176.ftz\"\n",
    "model_fname = \"../input/lid176bin/lid.176.bin\"\n",
    "\n",
    "lang_detector = LanguageDetector(model_fname)\n",
    "lang_detector.predict(\"this is a test\")\n"
   ]
  },
  {
   "cell_type": "code",
   "execution_count": 12,
   "id": "21257ba4",
   "metadata": {
    "execution": {
     "iopub.execute_input": "2023-01-07T20:45:49.719543Z",
     "iopub.status.busy": "2023-01-07T20:45:49.718728Z",
     "iopub.status.idle": "2023-01-07T20:45:49.724252Z",
     "shell.execute_reply": "2023-01-07T20:45:49.723311Z"
    },
    "papermill": {
     "duration": 0.016476,
     "end_time": "2023-01-07T20:45:49.726181",
     "exception": false,
     "start_time": "2023-01-07T20:45:49.709705",
     "status": "completed"
    },
    "tags": []
   },
   "outputs": [],
   "source": [
    "def detect_language(text):\n",
    "    lang, proba = lang_detector.predict(text)\n",
    "    if proba > 0.67: # it was 0.5\n",
    "        return lang\n",
    "    else:\n",
    "        return None"
   ]
  },
  {
   "cell_type": "code",
   "execution_count": 13,
   "id": "7f6f87e6",
   "metadata": {
    "execution": {
     "iopub.execute_input": "2023-01-07T20:45:49.742783Z",
     "iopub.status.busy": "2023-01-07T20:45:49.742510Z",
     "iopub.status.idle": "2023-01-07T20:45:49.748241Z",
     "shell.execute_reply": "2023-01-07T20:45:49.747372Z"
    },
    "papermill": {
     "duration": 0.0162,
     "end_time": "2023-01-07T20:45:49.750142",
     "exception": false,
     "start_time": "2023-01-07T20:45:49.733942",
     "status": "completed"
    },
    "tags": []
   },
   "outputs": [
    {
     "data": {
      "text/plain": [
       "('fr', 0.9961628317832947)"
      ]
     },
     "execution_count": 13,
     "metadata": {},
     "output_type": "execute_result"
    }
   ],
   "source": [
    "lang_detector.predict(\"ceci est un test de français\")"
   ]
  },
  {
   "cell_type": "code",
   "execution_count": 14,
   "id": "5c335ab6",
   "metadata": {
    "execution": {
     "iopub.execute_input": "2023-01-07T20:45:49.767452Z",
     "iopub.status.busy": "2023-01-07T20:45:49.766703Z",
     "iopub.status.idle": "2023-01-07T20:45:49.772960Z",
     "shell.execute_reply": "2023-01-07T20:45:49.772065Z"
    },
    "papermill": {
     "duration": 0.016678,
     "end_time": "2023-01-07T20:45:49.774783",
     "exception": false,
     "start_time": "2023-01-07T20:45:49.758105",
     "status": "completed"
    },
    "tags": []
   },
   "outputs": [
    {
     "data": {
      "text/plain": [
       "('es', 0.9890584349632263)"
      ]
     },
     "execution_count": 14,
     "metadata": {},
     "output_type": "execute_result"
    }
   ],
   "source": [
    "lang_detector.predict(\"esta es una prueba de frances\")"
   ]
  },
  {
   "cell_type": "code",
   "execution_count": 15,
   "id": "f3cf20d5",
   "metadata": {
    "execution": {
     "iopub.execute_input": "2023-01-07T20:45:49.792468Z",
     "iopub.status.busy": "2023-01-07T20:45:49.791685Z",
     "iopub.status.idle": "2023-01-07T20:45:49.798056Z",
     "shell.execute_reply": "2023-01-07T20:45:49.797063Z"
    },
    "papermill": {
     "duration": 0.017676,
     "end_time": "2023-01-07T20:45:49.800408",
     "exception": false,
     "start_time": "2023-01-07T20:45:49.782732",
     "status": "completed"
    },
    "tags": []
   },
   "outputs": [
    {
     "data": {
      "text/plain": [
       "('zh', 1.0000574588775635)"
      ]
     },
     "execution_count": 15,
     "metadata": {},
     "output_type": "execute_result"
    }
   ],
   "source": [
    "lang_detector.predict(\"这是一个法语测试\")"
   ]
  },
  {
   "cell_type": "code",
   "execution_count": 16,
   "id": "d9a07a60",
   "metadata": {
    "execution": {
     "iopub.execute_input": "2023-01-07T20:45:49.817687Z",
     "iopub.status.busy": "2023-01-07T20:45:49.817430Z",
     "iopub.status.idle": "2023-01-07T20:45:49.853765Z",
     "shell.execute_reply": "2023-01-07T20:45:49.852727Z"
    },
    "papermill": {
     "duration": 0.048705,
     "end_time": "2023-01-07T20:45:49.857321",
     "exception": false,
     "start_time": "2023-01-07T20:45:49.808616",
     "status": "completed"
    },
    "tags": []
   },
   "outputs": [
    {
     "name": "stdout",
     "output_type": "stream",
     "text": [
      "Sentiment\n",
      "10386803    None\n",
      "7287624     None\n",
      "9271016     None\n",
      "7952520     None\n",
      "174812      None\n",
      "            ... \n",
      "3600513     None\n",
      "17892218    None\n",
      "3205257     None\n",
      "11582536    None\n",
      "5649919     None\n",
      "Name: language, Length: 1000000, dtype: object\n"
     ]
    },
    {
     "data": {
      "text/plain": [
       "Series([], Name: language, dtype: int64)"
      ]
     },
     "execution_count": 16,
     "metadata": {},
     "output_type": "execute_result"
    }
   ],
   "source": [
    "for item in df:\n",
    "    df[\"language\"] = detect_language(item[0:])\n",
    "print(item[:])\n",
    "#     df[\"language\"] = [detect_language(x) for x in df.text]\n",
    "#     print(df.text)\n",
    "\n",
    "print(df.language)\n",
    "# df[\"language\"] = df.text.apply(detect_language)\n",
    "df.language.value_counts()"
   ]
  },
  {
   "cell_type": "code",
   "execution_count": 17,
   "id": "42447879",
   "metadata": {
    "execution": {
     "iopub.execute_input": "2023-01-07T20:45:49.875425Z",
     "iopub.status.busy": "2023-01-07T20:45:49.875128Z",
     "iopub.status.idle": "2023-01-07T20:45:49.882387Z",
     "shell.execute_reply": "2023-01-07T20:45:49.881376Z"
    },
    "papermill": {
     "duration": 0.019578,
     "end_time": "2023-01-07T20:45:49.885527",
     "exception": false,
     "start_time": "2023-01-07T20:45:49.865949",
     "status": "completed"
    },
    "tags": []
   },
   "outputs": [
    {
     "data": {
      "text/plain": [
       "10386803    epaz s bitcoin share amp blockchain social med...\n",
       "7287624     btc bitcoin cryptocurr xrp bnb acnzqfzwpqk pcp...\n",
       "9271016     bitmex btc whale worth bitcoin sold wait bounc...\n",
       "7952520                                             riot call\n",
       "174812      nkn btc hr ichimoku cloud twist ve bullish tk ...\n",
       "Name: text, dtype: object"
      ]
     },
     "execution_count": 17,
     "metadata": {},
     "output_type": "execute_result"
    }
   ],
   "source": [
    "df.text.head()"
   ]
  },
  {
   "cell_type": "code",
   "execution_count": 18,
   "id": "c6cbbc6b",
   "metadata": {
    "execution": {
     "iopub.execute_input": "2023-01-07T20:45:49.903374Z",
     "iopub.status.busy": "2023-01-07T20:45:49.903077Z",
     "iopub.status.idle": "2023-01-07T20:45:49.908944Z",
     "shell.execute_reply": "2023-01-07T20:45:49.907977Z"
    },
    "papermill": {
     "duration": 0.017048,
     "end_time": "2023-01-07T20:45:49.910956",
     "exception": false,
     "start_time": "2023-01-07T20:45:49.893908",
     "status": "completed"
    },
    "tags": []
   },
   "outputs": [],
   "source": [
    "def tweet_to_words(tweet):\n",
    "    ''' Convert tweet text into a sequence of words '''\n",
    "\n",
    "    # convert to lowercase\n",
    "    text = tweet.lower()\n",
    "    # remove non letters\n",
    "    text = re.sub(r\"[^a-zA-Z0-9]\", \" \", text)\n",
    "    # tokenize\n",
    "    words = text.split()\n",
    "    # remove stopwords\n",
    "    words = [w for w in words if w not in stopwords.words(\"english\")]\n",
    "    # apply stemming\n",
    "    words = [PorterStemmer().stem(w) for w in words]\n",
    "    # return list\n",
    "    return words"
   ]
  },
  {
   "cell_type": "code",
   "execution_count": 19,
   "id": "a5e43354",
   "metadata": {
    "execution": {
     "iopub.execute_input": "2023-01-07T20:45:49.929864Z",
     "iopub.status.busy": "2023-01-07T20:45:49.928466Z",
     "iopub.status.idle": "2023-01-07T21:25:19.980075Z",
     "shell.execute_reply": "2023-01-07T21:25:19.979093Z"
    },
    "papermill": {
     "duration": 2370.06333,
     "end_time": "2023-01-07T21:25:19.982701",
     "exception": false,
     "start_time": "2023-01-07T20:45:49.919371",
     "status": "completed"
    },
    "tags": []
   },
   "outputs": [
    {
     "name": "stderr",
     "output_type": "stream",
     "text": [
      "100%|██████████| 1000000/1000000 [39:29<00:00, 421.98it/s]\n"
     ]
    }
   ],
   "source": [
    "cleantext=[]\n",
    "for item in tqdm(df['text']):\n",
    "    words=tweet_to_words(item)\n",
    "    cleantext+=[words]\n",
    "df['cleantext']=cleantext"
   ]
  },
  {
   "cell_type": "code",
   "execution_count": 20,
   "id": "d817bbd6",
   "metadata": {
    "execution": {
     "iopub.execute_input": "2023-01-07T21:25:22.781110Z",
     "iopub.status.busy": "2023-01-07T21:25:22.780742Z",
     "iopub.status.idle": "2023-01-07T21:25:22.793299Z",
     "shell.execute_reply": "2023-01-07T21:25:22.792409Z"
    },
    "papermill": {
     "duration": 1.171468,
     "end_time": "2023-01-07T21:25:22.795244",
     "exception": false,
     "start_time": "2023-01-07T21:25:21.623776",
     "status": "completed"
    },
    "tags": []
   },
   "outputs": [
    {
     "data": {
      "text/html": [
       "<div>\n",
       "<style scoped>\n",
       "    .dataframe tbody tr th:only-of-type {\n",
       "        vertical-align: middle;\n",
       "    }\n",
       "\n",
       "    .dataframe tbody tr th {\n",
       "        vertical-align: top;\n",
       "    }\n",
       "\n",
       "    .dataframe thead th {\n",
       "        text-align: right;\n",
       "    }\n",
       "</style>\n",
       "<table border=\"1\" class=\"dataframe\">\n",
       "  <thead>\n",
       "    <tr style=\"text-align: right;\">\n",
       "      <th></th>\n",
       "      <th>text</th>\n",
       "      <th>Sentiment</th>\n",
       "      <th>language</th>\n",
       "      <th>cleantext</th>\n",
       "    </tr>\n",
       "  </thead>\n",
       "  <tbody>\n",
       "    <tr>\n",
       "      <th>10386803</th>\n",
       "      <td>epaz s bitcoin share amp blockchain social med...</td>\n",
       "      <td>0</td>\n",
       "      <td>None</td>\n",
       "      <td>[epaz, bitcoin, share, amp, blockchain, social...</td>\n",
       "    </tr>\n",
       "    <tr>\n",
       "      <th>7287624</th>\n",
       "      <td>btc bitcoin cryptocurr xrp bnb acnzqfzwpqk pcp...</td>\n",
       "      <td>1</td>\n",
       "      <td>None</td>\n",
       "      <td>[btc, bitcoin, cryptocurr, xrp, bnb, acnzqfzwp...</td>\n",
       "    </tr>\n",
       "    <tr>\n",
       "      <th>9271016</th>\n",
       "      <td>bitmex btc whale worth bitcoin sold wait bounc...</td>\n",
       "      <td>1</td>\n",
       "      <td>None</td>\n",
       "      <td>[bitmex, btc, whale, worth, bitcoin, sold, wai...</td>\n",
       "    </tr>\n",
       "    <tr>\n",
       "      <th>7952520</th>\n",
       "      <td>riot call</td>\n",
       "      <td>1</td>\n",
       "      <td>None</td>\n",
       "      <td>[riot, call]</td>\n",
       "    </tr>\n",
       "    <tr>\n",
       "      <th>174812</th>\n",
       "      <td>nkn btc hr ichimoku cloud twist ve bullish tk ...</td>\n",
       "      <td>0</td>\n",
       "      <td>None</td>\n",
       "      <td>[nkn, btc, hr, ichimoku, cloud, twist, bullish...</td>\n",
       "    </tr>\n",
       "  </tbody>\n",
       "</table>\n",
       "</div>"
      ],
      "text/plain": [
       "                                                       text  Sentiment  \\\n",
       "10386803  epaz s bitcoin share amp blockchain social med...          0   \n",
       "7287624   btc bitcoin cryptocurr xrp bnb acnzqfzwpqk pcp...          1   \n",
       "9271016   bitmex btc whale worth bitcoin sold wait bounc...          1   \n",
       "7952520                                           riot call          1   \n",
       "174812    nkn btc hr ichimoku cloud twist ve bullish tk ...          0   \n",
       "\n",
       "         language                                          cleantext  \n",
       "10386803     None  [epaz, bitcoin, share, amp, blockchain, social...  \n",
       "7287624      None  [btc, bitcoin, cryptocurr, xrp, bnb, acnzqfzwp...  \n",
       "9271016      None  [bitmex, btc, whale, worth, bitcoin, sold, wai...  \n",
       "7952520      None                                       [riot, call]  \n",
       "174812       None  [nkn, btc, hr, ichimoku, cloud, twist, bullish...  "
      ]
     },
     "execution_count": 20,
     "metadata": {},
     "output_type": "execute_result"
    }
   ],
   "source": [
    "df.head()"
   ]
  },
  {
   "cell_type": "code",
   "execution_count": 21,
   "id": "eff09f21",
   "metadata": {
    "execution": {
     "iopub.execute_input": "2023-01-07T21:25:25.307462Z",
     "iopub.status.busy": "2023-01-07T21:25:25.306882Z",
     "iopub.status.idle": "2023-01-08T03:10:19.241596Z",
     "shell.execute_reply": "2023-01-08T03:10:19.240646Z"
    },
    "papermill": {
     "duration": 20695.306147,
     "end_time": "2023-01-08T03:10:19.243601",
     "exception": false,
     "start_time": "2023-01-07T21:25:23.937454",
     "status": "completed"
    },
    "tags": []
   },
   "outputs": [
    {
     "name": "stderr",
     "output_type": "stream",
     "text": [
      "100%|██████████| 1000000/1000000 [5:44:53<00:00, 48.32it/s]"
     ]
    },
    {
     "name": "stdout",
     "output_type": "stream",
     "text": [
      "767226\n"
     ]
    },
    {
     "name": "stderr",
     "output_type": "stream",
     "text": [
      "\n"
     ]
    }
   ],
   "source": [
    "############## It Takes long time #############\n",
    "\n",
    "uniqwords=[]\n",
    "for sent_item in tqdm(df['cleantext']):\n",
    "    for words_of_sent in sent_item:\n",
    "        if words_of_sent not in uniqwords: uniqwords += [words_of_sent]\n",
    "         \n",
    "            \n",
    "print(len(uniqwords))"
   ]
  },
  {
   "cell_type": "code",
   "execution_count": 22,
   "id": "16ea0dad",
   "metadata": {
    "execution": {
     "iopub.execute_input": "2023-01-08T03:10:36.253971Z",
     "iopub.status.busy": "2023-01-08T03:10:36.253607Z",
     "iopub.status.idle": "2023-01-08T03:10:36.258774Z",
     "shell.execute_reply": "2023-01-08T03:10:36.257830Z"
    },
    "papermill": {
     "duration": 8.213173,
     "end_time": "2023-01-08T03:10:36.260806",
     "exception": false,
     "start_time": "2023-01-08T03:10:28.047633",
     "status": "completed"
    },
    "tags": []
   },
   "outputs": [],
   "source": [
    "################################################################\n",
    "########################## Parameters ########################\n",
    "################################################################\n",
    "\n",
    "# vocab_size = 20000  # Only consider the top 20k words\n",
    "vocab_size = 40000  # Only consider the top 40k words\n",
    "epochs = 30\n",
    "n_heads = 6   #Or 3\n",
    "# maxlen = 200\n",
    "maxlen = 32 # max_length was 64\n",
    "\n",
    "################################################################"
   ]
  },
  {
   "cell_type": "code",
   "execution_count": 23,
   "id": "1116f76e",
   "metadata": {
    "execution": {
     "iopub.execute_input": "2023-01-08T03:10:52.541618Z",
     "iopub.status.busy": "2023-01-08T03:10:52.541237Z",
     "iopub.status.idle": "2023-01-08T03:10:52.579460Z",
     "shell.execute_reply": "2023-01-08T03:10:52.578406Z"
    },
    "papermill": {
     "duration": 8.299426,
     "end_time": "2023-01-08T03:10:52.582141",
     "exception": false,
     "start_time": "2023-01-08T03:10:44.282715",
     "status": "completed"
    },
    "tags": []
   },
   "outputs": [
    {
     "name": "stdout",
     "output_type": "stream",
     "text": [
      "                                                       text  Sentiment  \\\n",
      "10386803  epaz s bitcoin share amp blockchain social med...          0   \n",
      "7287624   btc bitcoin cryptocurr xrp bnb acnzqfzwpqk pcp...          1   \n",
      "9271016   bitmex btc whale worth bitcoin sold wait bounc...          1   \n",
      "7952520                                           riot call          1   \n",
      "174812    nkn btc hr ichimoku cloud twist ve bullish tk ...          0   \n",
      "...                                                     ...        ...   \n",
      "3600513                                          lifeoncoin          0   \n",
      "17892218           thank guy great web http t co iusl aw tz          1   \n",
      "3205257                                       btc_infochain          0   \n",
      "11582536                                          kingjoeyi          0   \n",
      "5649919   order secur smart btc eth altcoin hardwar wall...          0   \n",
      "\n",
      "         language                                          cleantext  \n",
      "10386803     None  [epaz, bitcoin, share, amp, blockchain, social...  \n",
      "7287624      None  [btc, bitcoin, cryptocurr, xrp, bnb, acnzqfzwp...  \n",
      "9271016      None  [bitmex, btc, whale, worth, bitcoin, sold, wai...  \n",
      "7952520      None                                       [riot, call]  \n",
      "174812       None  [nkn, btc, hr, ichimoku, cloud, twist, bullish...  \n",
      "...           ...                                                ...  \n",
      "3600513      None                                       [lifeoncoin]  \n",
      "17892218     None   [thank, guy, great, web, http, co, iusl, aw, tz]  \n",
      "3205257      None                                   [btc, infochain]  \n",
      "11582536     None                                        [kingjoeyi]  \n",
      "5649919      None  [order, secur, smart, btc, eth, altcoin, hardw...  \n",
      "\n",
      "[1000000 rows x 4 columns]\n"
     ]
    }
   ],
   "source": [
    "print(df)"
   ]
  },
  {
   "cell_type": "code",
   "execution_count": 24,
   "id": "8ab38d99",
   "metadata": {
    "execution": {
     "iopub.execute_input": "2023-01-08T03:11:09.674772Z",
     "iopub.status.busy": "2023-01-08T03:11:09.674418Z",
     "iopub.status.idle": "2023-01-08T03:11:15.352359Z",
     "shell.execute_reply": "2023-01-08T03:11:15.351334Z"
    },
    "papermill": {
     "duration": 13.84437,
     "end_time": "2023-01-08T03:11:15.354883",
     "exception": false,
     "start_time": "2023-01-08T03:11:01.510513",
     "status": "completed"
    },
    "tags": []
   },
   "outputs": [],
   "source": [
    "import tensorflow as tf\n",
    "from tensorflow.keras.layers import MultiHeadAttention, LayerNormalization, Dropout, Layer\n",
    "from tensorflow.keras.layers import Embedding, Input, GlobalAveragePooling1D, Dense,Flatten\n",
    "from tensorflow.keras.models import Sequential, Model\n",
    "from keras.layers import Conv1D,MaxPooling1D"
   ]
  },
  {
   "cell_type": "code",
   "execution_count": 25,
   "id": "2a061c24",
   "metadata": {
    "execution": {
     "iopub.execute_input": "2023-01-08T03:11:32.185130Z",
     "iopub.status.busy": "2023-01-08T03:11:32.184512Z",
     "iopub.status.idle": "2023-01-08T03:11:32.193451Z",
     "shell.execute_reply": "2023-01-08T03:11:32.192412Z"
    },
    "papermill": {
     "duration": 8.539028,
     "end_time": "2023-01-08T03:11:32.195588",
     "exception": false,
     "start_time": "2023-01-08T03:11:23.656560",
     "status": "completed"
    },
    "tags": []
   },
   "outputs": [],
   "source": [
    "class TransformerBlock(Layer):\n",
    "    def __init__(self, d_model, num_heads):\n",
    "        super(TransformerBlock, self).__init__()\n",
    "        self.att = MultiHeadAttention(num_heads=num_heads, key_dim=d_model,)\n",
    "        self.layernorm1 = LayerNormalization(epsilon=1e-6)\n",
    "        self.layernorm2 = LayerNormalization(epsilon=1e-6)\n",
    "        self.convnet=Sequential(\n",
    "            [Conv1D(d_model,10,1,padding='same', activation='relu'),MaxPooling1D(4,1,padding='same'),\n",
    "            Conv1D(d_model,8,1,padding='same', activation='relu'),MaxPooling1D(2,1,padding='same'),\n",
    "            Conv1D(d_model,6,1,padding='same', activation='relu'),MaxPooling1D(2,1,padding='same'),])\n",
    "#adding layer normalization\n",
    "\n",
    "    def call(self, inputs):\n",
    "        ffn_output = self.convnet(inputs)\n",
    "        attn_output = self.att(ffn_output,ffn_output)\n",
    "        return self.layernorm2(inputs + attn_output)\n",
    "    \n",
    "    \n",
    "    \n",
    "# class TransformerBlock(Layer):\n",
    "#     def __init__(self, d_model, num_heads):\n",
    "#         super(TransformerBlock, self).__init__()\n",
    "#         self.att = MultiHeadAttention(num_heads=num_heads, key_dim=d_model,)\n",
    "#         self.layernorm1 = LayerNormalization(epsilon=1e-6)\n",
    "#         self.layernorm2 = LayerNormalization(epsilon=1e-6)\n",
    "#         self.convnet1=Sequential(\n",
    "#             [Conv1D(d_model,6,1,padding='same', activation='relu'),MaxPooling1D(4,1,padding='same'),])\n",
    "#         self.convnet2=Sequential(\n",
    "#             [Conv1D(d_model,6,1,padding='same', activation='relu'),MaxPooling1D(4,1,padding='same'),])\n",
    "# #             [Conv1D(d_model,2,1,padding='same', activation='relu'),MaxPooling1D(2,1,padding='same'),])\n",
    "\n",
    "\n",
    "#     def call(self, inputs):\n",
    "#         cnn_output = self.convnet1(inputs)\n",
    "#         ffn_output = self.convnet2(cnn_output)\n",
    "#         attn_output = self.att(ffn_output,ffn_output)\n",
    "#         return self.layernorm2(inputs + attn_output)"
   ]
  },
  {
   "cell_type": "code",
   "execution_count": 26,
   "id": "546277de",
   "metadata": {
    "execution": {
     "iopub.execute_input": "2023-01-08T03:11:48.749393Z",
     "iopub.status.busy": "2023-01-08T03:11:48.749010Z",
     "iopub.status.idle": "2023-01-08T03:11:48.755415Z",
     "shell.execute_reply": "2023-01-08T03:11:48.754414Z"
    },
    "papermill": {
     "duration": 8.068107,
     "end_time": "2023-01-08T03:11:48.757408",
     "exception": false,
     "start_time": "2023-01-08T03:11:40.689301",
     "status": "completed"
    },
    "tags": []
   },
   "outputs": [],
   "source": [
    "class TokenAndPositionEmbedding(Layer):\n",
    "    def __init__(self, maxlen, vocab_size, d_model):\n",
    "        super(TokenAndPositionEmbedding, self).__init__()\n",
    "        self.token_emb = Embedding(input_dim=vocab_size, output_dim=d_model)\n",
    "        self.pos_emb = Embedding(input_dim=maxlen, output_dim=d_model)\n",
    "\n",
    "    def call(self, x):\n",
    "        maxlen = tf.shape(x)[-1]\n",
    "        positions = tf.range(start=0, limit=maxlen, delta=1)\n",
    "        positions = self.pos_emb(positions)\n",
    "        x = self.token_emb(x)\n",
    "        return x + positions"
   ]
  },
  {
   "cell_type": "code",
   "execution_count": 27,
   "id": "69589621",
   "metadata": {
    "execution": {
     "iopub.execute_input": "2023-01-08T03:12:05.590995Z",
     "iopub.status.busy": "2023-01-08T03:12:05.590634Z",
     "iopub.status.idle": "2023-01-08T03:12:05.597508Z",
     "shell.execute_reply": "2023-01-08T03:12:05.596650Z"
    },
    "papermill": {
     "duration": 8.504817,
     "end_time": "2023-01-08T03:12:05.599512",
     "exception": false,
     "start_time": "2023-01-08T03:11:57.094695",
     "status": "completed"
    },
    "tags": []
   },
   "outputs": [],
   "source": [
    "from tensorflow.keras.preprocessing.text import Tokenizer\n",
    "from tensorflow.keras.preprocessing.sequence import pad_sequences\n",
    "def tokenize_pad_sequences(text):\n",
    "    # Text tokenization\n",
    "    tokenizer = Tokenizer(num_words=vocab_size, lower=True, split=' ')\n",
    "    tokenizer.fit_on_texts(text)\n",
    "    # Transforms text to a sequence of integers\n",
    "    X = tokenizer.texts_to_sequences(text)\n",
    "    # Pad sequences to the same length\n",
    "    X = pad_sequences(X, padding='post', maxlen=maxlen)\n",
    "    # return sequences\n",
    "    return X, tokenizer"
   ]
  },
  {
   "cell_type": "code",
   "execution_count": 28,
   "id": "365858bf",
   "metadata": {
    "execution": {
     "iopub.execute_input": "2023-01-08T03:12:22.565503Z",
     "iopub.status.busy": "2023-01-08T03:12:22.565080Z",
     "iopub.status.idle": "2023-01-08T03:12:50.986214Z",
     "shell.execute_reply": "2023-01-08T03:12:50.985100Z"
    },
    "papermill": {
     "duration": 36.89228,
     "end_time": "2023-01-08T03:12:50.988485",
     "exception": false,
     "start_time": "2023-01-08T03:12:14.096205",
     "status": "completed"
    },
    "tags": []
   },
   "outputs": [
    {
     "name": "stdout",
     "output_type": "stream",
     "text": [
      "Train Set:  (800000, 32) (800000, 2)\n",
      "Validation Set:  (100000, 32) (100000, 2)\n",
      "Test Set:  (100000, 32) (100000, 2)\n"
     ]
    }
   ],
   "source": [
    "#create dataset train test val\n",
    "from sklearn.model_selection import train_test_split\n",
    "X, tokenizer = tokenize_pad_sequences(df['cleantext'])\n",
    "y = pd.get_dummies(df['Sentiment'])\n",
    "X_train, X_test, y_train, y_test = train_test_split(X, y, test_size=0.2, random_state=1)\n",
    "X_test, X_val, y_test, y_val = train_test_split(X_test, y_test, test_size=0.5, random_state=1)\n",
    "print('Train Set: ', X_train.shape, y_train.shape)\n",
    "print('Validation Set: ', X_val.shape, y_val.shape)\n",
    "print('Test Set: ', X_test.shape, y_test.shape)"
   ]
  },
  {
   "cell_type": "code",
   "execution_count": 29,
   "id": "b4d1be3d",
   "metadata": {
    "execution": {
     "iopub.execute_input": "2023-01-08T03:13:07.588125Z",
     "iopub.status.busy": "2023-01-08T03:13:07.587751Z",
     "iopub.status.idle": "2023-01-08T03:13:10.455826Z",
     "shell.execute_reply": "2023-01-08T03:13:10.454952Z"
    },
    "papermill": {
     "duration": 11.539102,
     "end_time": "2023-01-08T03:13:10.457868",
     "exception": false,
     "start_time": "2023-01-08T03:12:58.918766",
     "status": "completed"
    },
    "tags": []
   },
   "outputs": [
    {
     "name": "stderr",
     "output_type": "stream",
     "text": [
      "2023-01-08 03:13:07.755484: I tensorflow/stream_executor/cuda/cuda_gpu_executor.cc:937] successful NUMA node read from SysFS had negative value (-1), but there must be at least one NUMA node, so returning NUMA node zero\n",
      "2023-01-08 03:13:07.893036: I tensorflow/stream_executor/cuda/cuda_gpu_executor.cc:937] successful NUMA node read from SysFS had negative value (-1), but there must be at least one NUMA node, so returning NUMA node zero\n",
      "2023-01-08 03:13:07.893861: I tensorflow/stream_executor/cuda/cuda_gpu_executor.cc:937] successful NUMA node read from SysFS had negative value (-1), but there must be at least one NUMA node, so returning NUMA node zero\n",
      "2023-01-08 03:13:07.895753: I tensorflow/core/platform/cpu_feature_guard.cc:142] This TensorFlow binary is optimized with oneAPI Deep Neural Network Library (oneDNN) to use the following CPU instructions in performance-critical operations:  AVX2 AVX512F FMA\n",
      "To enable them in other operations, rebuild TensorFlow with the appropriate compiler flags.\n",
      "2023-01-08 03:13:07.896096: I tensorflow/stream_executor/cuda/cuda_gpu_executor.cc:937] successful NUMA node read from SysFS had negative value (-1), but there must be at least one NUMA node, so returning NUMA node zero\n",
      "2023-01-08 03:13:07.896885: I tensorflow/stream_executor/cuda/cuda_gpu_executor.cc:937] successful NUMA node read from SysFS had negative value (-1), but there must be at least one NUMA node, so returning NUMA node zero\n",
      "2023-01-08 03:13:07.897561: I tensorflow/stream_executor/cuda/cuda_gpu_executor.cc:937] successful NUMA node read from SysFS had negative value (-1), but there must be at least one NUMA node, so returning NUMA node zero\n",
      "2023-01-08 03:13:09.845112: I tensorflow/stream_executor/cuda/cuda_gpu_executor.cc:937] successful NUMA node read from SysFS had negative value (-1), but there must be at least one NUMA node, so returning NUMA node zero\n",
      "2023-01-08 03:13:09.845996: I tensorflow/stream_executor/cuda/cuda_gpu_executor.cc:937] successful NUMA node read from SysFS had negative value (-1), but there must be at least one NUMA node, so returning NUMA node zero\n",
      "2023-01-08 03:13:09.846734: I tensorflow/stream_executor/cuda/cuda_gpu_executor.cc:937] successful NUMA node read from SysFS had negative value (-1), but there must be at least one NUMA node, so returning NUMA node zero\n",
      "2023-01-08 03:13:09.847416: I tensorflow/core/common_runtime/gpu/gpu_device.cc:1510] Created device /job:localhost/replica:0/task:0/device:GPU:0 with 15401 MB memory:  -> device: 0, name: Tesla P100-PCIE-16GB, pci bus id: 0000:00:04.0, compute capability: 6.0\n"
     ]
    }
   ],
   "source": [
    "#create model and training\n",
    "inputs = Input(shape=(maxlen,))\n",
    "embedding_layer = TokenAndPositionEmbedding(maxlen, vocab_size, 128)\n",
    "x = embedding_layer(inputs)\n",
    "transformer_block = TransformerBlock(128, n_heads)\n",
    "\n",
    "x = transformer_block(x)\n",
    "x = GlobalAveragePooling1D()(x)\n",
    "x = Dropout(.5)(x)\n",
    "x = Dense(128, activation='sigmoid')(x)\n",
    "x = Dropout(.3)(x)\n",
    "# outputs = Dense(3, activation=\"softmax\")(x)\n",
    "outputs = Dense(2, activation=\"softmax\")(x)"
   ]
  },
  {
   "cell_type": "code",
   "execution_count": 30,
   "id": "d47b47d3",
   "metadata": {
    "execution": {
     "iopub.execute_input": "2023-01-08T03:13:27.187511Z",
     "iopub.status.busy": "2023-01-08T03:13:27.187070Z",
     "iopub.status.idle": "2023-01-08T03:31:32.592543Z",
     "shell.execute_reply": "2023-01-08T03:31:32.591659Z"
    },
    "papermill": {
     "duration": 1093.57801,
     "end_time": "2023-01-08T03:31:32.594647",
     "exception": false,
     "start_time": "2023-01-08T03:13:19.016637",
     "status": "completed"
    },
    "tags": []
   },
   "outputs": [
    {
     "name": "stdout",
     "output_type": "stream",
     "text": [
      "Model: \"model\"\n",
      "_________________________________________________________________\n",
      "Layer (type)                 Output Shape              Param #   \n",
      "=================================================================\n",
      "input_1 (InputLayer)         [(None, 32)]              0         \n",
      "_________________________________________________________________\n",
      "token_and_position_embedding (None, 32, 128)           5124096   \n",
      "_________________________________________________________________\n",
      "transformer_block (Transform (None, 32, 128)           789504    \n",
      "_________________________________________________________________\n",
      "global_average_pooling1d (Gl (None, 128)               0         \n",
      "_________________________________________________________________\n",
      "dropout (Dropout)            (None, 128)               0         \n",
      "_________________________________________________________________\n",
      "dense (Dense)                (None, 128)               16512     \n",
      "_________________________________________________________________\n",
      "dropout_1 (Dropout)          (None, 128)               0         \n",
      "_________________________________________________________________\n",
      "dense_1 (Dense)              (None, 2)                 258       \n",
      "=================================================================\n",
      "Total params: 5,930,370\n",
      "Trainable params: 5,930,370\n",
      "Non-trainable params: 0\n",
      "_________________________________________________________________\n"
     ]
    },
    {
     "name": "stderr",
     "output_type": "stream",
     "text": [
      "2023-01-08 03:13:27.206406: W tensorflow/core/framework/cpu_allocator_impl.cc:80] Allocation of 102400000 exceeds 10% of free system memory.\n",
      "2023-01-08 03:13:27.388872: I tensorflow/compiler/mlir/mlir_graph_optimization_pass.cc:185] None of the MLIR Optimization Passes are enabled (registered 2)\n"
     ]
    },
    {
     "name": "stdout",
     "output_type": "stream",
     "text": [
      "Epoch 1/15\n"
     ]
    },
    {
     "name": "stderr",
     "output_type": "stream",
     "text": [
      "2023-01-08 03:13:29.631254: I tensorflow/stream_executor/cuda/cuda_dnn.cc:369] Loaded cuDNN version 8005\n"
     ]
    },
    {
     "name": "stdout",
     "output_type": "stream",
     "text": [
      "3125/3125 [==============================] - 82s 23ms/step - loss: 0.6144 - accuracy: 0.5810 - val_loss: 0.5918 - val_accuracy: 0.6029\n",
      "Epoch 2/15\n",
      "3125/3125 [==============================] - 71s 23ms/step - loss: 0.5807 - accuracy: 0.6278 - val_loss: 0.5927 - val_accuracy: 0.6089\n",
      "Epoch 3/15\n",
      "3125/3125 [==============================] - 71s 23ms/step - loss: 0.5507 - accuracy: 0.6669 - val_loss: 0.5967 - val_accuracy: 0.6146\n",
      "Epoch 4/15\n",
      "3125/3125 [==============================] - 71s 23ms/step - loss: 0.5024 - accuracy: 0.7088 - val_loss: 0.6572 - val_accuracy: 0.6161\n",
      "Epoch 5/15\n",
      "3125/3125 [==============================] - 71s 23ms/step - loss: 0.4450 - accuracy: 0.7471 - val_loss: 0.7085 - val_accuracy: 0.6163\n",
      "Epoch 6/15\n",
      "3125/3125 [==============================] - 71s 23ms/step - loss: 0.3927 - accuracy: 0.7785 - val_loss: 0.8279 - val_accuracy: 0.6143\n",
      "Epoch 7/15\n",
      "3125/3125 [==============================] - 71s 23ms/step - loss: 0.3518 - accuracy: 0.8006 - val_loss: 0.9007 - val_accuracy: 0.6152\n",
      "Epoch 8/15\n",
      "3125/3125 [==============================] - 70s 23ms/step - loss: 0.3214 - accuracy: 0.8173 - val_loss: 1.0148 - val_accuracy: 0.6151\n",
      "Epoch 9/15\n",
      "3125/3125 [==============================] - 71s 23ms/step - loss: 0.2994 - accuracy: 0.8281 - val_loss: 1.1143 - val_accuracy: 0.6143\n",
      "Epoch 10/15\n",
      "3125/3125 [==============================] - 71s 23ms/step - loss: 0.2819 - accuracy: 0.8367 - val_loss: 1.2139 - val_accuracy: 0.6148\n",
      "Epoch 11/15\n",
      "3125/3125 [==============================] - 71s 23ms/step - loss: 0.2687 - accuracy: 0.8436 - val_loss: 1.3307 - val_accuracy: 0.6151\n",
      "Epoch 12/15\n",
      "3125/3125 [==============================] - 71s 23ms/step - loss: 0.2585 - accuracy: 0.8487 - val_loss: 1.2844 - val_accuracy: 0.6165\n",
      "Epoch 13/15\n",
      "3125/3125 [==============================] - 71s 23ms/step - loss: 0.2498 - accuracy: 0.8536 - val_loss: 1.3497 - val_accuracy: 0.6141\n",
      "Epoch 14/15\n",
      "3125/3125 [==============================] - 73s 23ms/step - loss: 0.2425 - accuracy: 0.8572 - val_loss: 1.4592 - val_accuracy: 0.6159\n",
      "Epoch 15/15\n",
      "3125/3125 [==============================] - 71s 23ms/step - loss: 0.2364 - accuracy: 0.8601 - val_loss: 1.4430 - val_accuracy: 0.6148\n",
      "3125/3125 [==============================] - 11s 3ms/step - loss: 1.4430 - accuracy: 0.6148\n"
     ]
    }
   ],
   "source": [
    "from tensorflow import keras\n",
    "########\n",
    "epochs=15\n",
    "########\n",
    "model = Model(inputs=inputs, outputs=outputs)\n",
    "model.summary()\n",
    "opt = keras.optimizers.Adam(learning_rate=0.0001)\n",
    "model.compile(optimizer=opt , loss=\"categorical_crossentropy\", metrics=[\"accuracy\"]) # \"or mse\"\n",
    "\n",
    "history = model.fit(X_train,y_train, batch_size=256, epochs=epochs, validation_data=(X_val, y_val))  # \n",
    "\n",
    "results = model.evaluate(X_val, y_val, verbose=1)"
   ]
  },
  {
   "cell_type": "code",
   "execution_count": 31,
   "id": "2cc9f0a6",
   "metadata": {
    "execution": {
     "iopub.execute_input": "2023-01-08T03:31:50.566589Z",
     "iopub.status.busy": "2023-01-08T03:31:50.566173Z",
     "iopub.status.idle": "2023-01-08T03:31:52.111593Z",
     "shell.execute_reply": "2023-01-08T03:31:52.110324Z"
    },
    "papermill": {
     "duration": 10.822728,
     "end_time": "2023-01-08T03:31:52.113919",
     "exception": false,
     "start_time": "2023-01-08T03:31:41.291191",
     "status": "completed"
    },
    "tags": []
   },
   "outputs": [
    {
     "data": {
      "image/png": "[encoded data removed]",
      "text/plain": [
       "<IPython.core.display.Image object>"
      ]
     },
     "execution_count": 31,
     "metadata": {},
     "output_type": "execute_result"
    }
   ],
   "source": [
    "from keras.utils.vis_utils import plot_model\n",
    "\n",
    "plot_model(model)"
   ]
  },
  {
   "cell_type": "code",
   "execution_count": 32,
   "id": "335945ec",
   "metadata": {
    "execution": {
     "iopub.execute_input": "2023-01-08T03:32:11.308143Z",
     "iopub.status.busy": "2023-01-08T03:32:11.307753Z",
     "iopub.status.idle": "2023-01-08T03:32:19.288428Z",
     "shell.execute_reply": "2023-01-08T03:32:19.287372Z"
    },
    "papermill": {
     "duration": 17.247936,
     "end_time": "2023-01-08T03:32:19.290691",
     "exception": false,
     "start_time": "2023-01-08T03:32:02.042755",
     "status": "completed"
    },
    "tags": []
   },
   "outputs": [
    {
     "name": "stdout",
     "output_type": "stream",
     "text": [
      "Accuracy  : 0.6161\n"
     ]
    }
   ],
   "source": [
    "loss, accuracy = model.evaluate(X_test, y_test, verbose=0)\n",
    "# Print metrics\n",
    "print('Accuracy  : {:.4f}'.format(accuracy))"
   ]
  },
  {
   "cell_type": "code",
   "execution_count": 33,
   "id": "8f77fd0f",
   "metadata": {
    "execution": {
     "iopub.execute_input": "2023-01-08T03:32:38.590007Z",
     "iopub.status.busy": "2023-01-08T03:32:38.589649Z",
     "iopub.status.idle": "2023-01-08T03:32:38.998167Z",
     "shell.execute_reply": "2023-01-08T03:32:38.997254Z"
    },
    "papermill": {
     "duration": 9.668752,
     "end_time": "2023-01-08T03:32:39.000733",
     "exception": false,
     "start_time": "2023-01-08T03:32:29.331981",
     "status": "completed"
    },
    "tags": []
   },
   "outputs": [
    {
     "data": {
      "text/plain": [
       "<matplotlib.legend.Legend at 0x7f6478fff750>"
      ]
     },
     "execution_count": 33,
     "metadata": {},
     "output_type": "execute_result"
    },
    {
     "data": {
      "image/png": "[encoded data removed]",
      "text/plain": [
       "<Figure size 720x288 with 2 Axes>"
      ]
     },
     "metadata": {
      "needs_background": "light"
     },
     "output_type": "display_data"
    }
   ],
   "source": [
    "import matplotlib.pyplot as plt\n",
    "\n",
    "\n",
    "\n",
    "fig, ax = plt.subplots(1,2, figsize=(10,4))\n",
    "# first plot\n",
    "ax[0].plot(history.history['accuracy'])\n",
    "ax[0].plot(history.history['val_accuracy'])\n",
    "ax[0].set_title('Model Accuracy')\n",
    "ax[0].set_xlabel('epoch')\n",
    "ax[0].set_ylabel('accuracy')\n",
    "ax[0].legend(['train', 'validation'], loc='best')\n",
    "\n",
    "# second plot\n",
    "ax[1].plot(history.history['loss'])\n",
    "ax[1].plot(history.history['val_loss'])\n",
    "ax[1].set_title('Model Loss')\n",
    "ax[1].set_xlabel('epoch')\n",
    "ax[1].set_ylabel('loss')\n",
    "ax[1].legend(['train', 'validation'], loc='best')"
   ]
  },
  {
   "cell_type": "code",
   "execution_count": 34,
   "id": "371f1474",
   "metadata": {
    "execution": {
     "iopub.execute_input": "2023-01-08T03:32:57.337843Z",
     "iopub.status.busy": "2023-01-08T03:32:57.337482Z",
     "iopub.status.idle": "2023-01-08T03:33:03.623226Z",
     "shell.execute_reply": "2023-01-08T03:33:03.622260Z"
    },
    "papermill": {
     "duration": 15.549745,
     "end_time": "2023-01-08T03:33:03.625506",
     "exception": false,
     "start_time": "2023-01-08T03:32:48.075761",
     "status": "completed"
    },
    "tags": []
   },
   "outputs": [
    {
     "data": {
      "text/plain": [
       "Text(51.0, 0.5, 'Predicted label')"
      ]
     },
     "execution_count": 34,
     "metadata": {},
     "output_type": "execute_result"
    },
    {
     "data": {
      "image/png": "[encoded data removed]",
      "text/plain": [
       "<Figure size 576x432 with 2 Axes>"
      ]
     },
     "metadata": {
      "needs_background": "light"
     },
     "output_type": "display_data"
    }
   ],
   "source": [
    "from sklearn.metrics import confusion_matrix\n",
    "import seaborn as sns\n",
    "import numpy as np\n",
    "'''Function to plot confusion matrix for the passed model and the data'''\n",
    "\n",
    "sentiment_classes = ['Negative','Neutral', 'Positive']\n",
    "# use model to do the prediction\n",
    "y_pred = model.predict(X_test)\n",
    "# compute confusion matrix\n",
    "cm = confusion_matrix(np.argmax(y_pred, axis=1),np.argmax(np.array(y_test),axis=1))\n",
    "\n",
    "# plot confusion matrix\n",
    "plt.figure(figsize=(8,6))\n",
    "sns.heatmap(cm, cmap=plt.cm.Blues, annot=True, fmt='d',\n",
    "            xticklabels=sentiment_classes,\n",
    "            yticklabels=sentiment_classes)\n",
    "plt.title('Confusion matrix', fontsize=16)\n",
    "plt.xlabel('Actual label', fontsize=12)\n",
    "plt.ylabel('Predicted label', fontsize=12)"
   ]
  },
  {
   "cell_type": "code",
   "execution_count": null,
   "id": "0a29c441",
   "metadata": {
    "papermill": {
     "duration": 9.096494,
     "end_time": "2023-01-08T03:33:21.892456",
     "exception": false,
     "start_time": "2023-01-08T03:33:12.795962",
     "status": "completed"
    },
    "tags": []
   },
   "outputs": [],
   "source": []
  },
  {
   "cell_type": "code",
   "execution_count": null,
   "id": "5197efdd",
   "metadata": {
    "papermill": {
     "duration": 9.114914,
     "end_time": "2023-01-08T03:33:40.727959",
     "exception": false,
     "start_time": "2023-01-08T03:33:31.613045",
     "status": "completed"
    },
    "tags": []
   },
   "outputs": [],
   "source": []
  },
  {
   "cell_type": "code",
   "execution_count": null,
   "id": "41e83d7a",
   "metadata": {
    "papermill": {
     "duration": 9.239975,
     "end_time": "2023-01-08T03:33:59.205031",
     "exception": false,
     "start_time": "2023-01-08T03:33:49.965056",
     "status": "completed"
    },
    "tags": []
   },
   "outputs": [],
   "source": []
  },
  {
   "cell_type": "code",
   "execution_count": null,
   "id": "35be53ab",
   "metadata": {
    "papermill": {
     "duration": 9.205377,
     "end_time": "2023-01-08T03:34:18.298994",
     "exception": false,
     "start_time": "2023-01-08T03:34:09.093617",
     "status": "completed"
    },
    "tags": []
   },
   "outputs": [],
   "source": []
  },
  {
   "cell_type": "code",
   "execution_count": null,
   "id": "25ff560b",
   "metadata": {
    "papermill": {
     "duration": 9.820972,
     "end_time": "2023-01-08T03:34:36.926901",
     "exception": false,
     "start_time": "2023-01-08T03:34:27.105929",
     "status": "completed"
    },
    "tags": []
   },
   "outputs": [],
   "source": []
  }
 ],
 "metadata": {
  "kernelspec": {
   "display_name": "Python 3",
   "language": "python",
   "name": "python3"
  },
  "language_info": {
   "codemirror_mode": {
    "name": "ipython",
    "version": 3
   },
   "file_extension": ".py",
   "mimetype": "text/x-python",
   "name": "python",
   "nbconvert_exporter": "python",
   "pygments_lexer": "ipython3",
   "version": "3.7.12"
  },
  "papermill": {
   "default_parameters": {},
   "duration": 25166.558321,
   "end_time": "2023-01-08T03:34:49.639769",
   "environment_variables": {},
   "exception": null,
   "input_path": "__notebook__.ipynb",
   "output_path": "__notebook__.ipynb",
   "parameters": {},
   "start_time": "2023-01-07T20:35:23.081448",
   "version": "2.3.4"
  }
 },
 "nbformat": 4,
 "nbformat_minor": 5
}
