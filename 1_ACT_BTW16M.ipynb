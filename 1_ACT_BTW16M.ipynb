{
  "metadata": {
    "kernelspec": {
      "language": "python",
      "display_name": "Python 3",
      "name": "python3"
    },
    "language_info": {
      "name": "python",
      "version": "3.7.12",
      "mimetype": "text/x-python",
      "codemirror_mode": {
        "name": "ipython",
        "version": 3
      },
      "pygments_lexer": "ipython3",
      "nbconvert_exporter": "python",
      "file_extension": ".py"
    },
    "colab": {
      "provenance": [],
      "machine_shape": "hm",
      "gpuClass": "premium",
      "include_colab_link": true
    },
    "accelerator": "GPU",
    "gpuClass": "premium"
  },
  "nbformat_minor": 0,
  "nbformat": 4,
  "cells": [
    {
      "cell_type": "markdown",
      "metadata": {
        "id": "view-in-github",
        "colab_type": "text"
      },
      "source": [
        "<a href=\"https://colab.research.google.com/github/EhsanHonarvar/Practices/blob/main/1_ACT_BTW16M.ipynb\" target=\"_parent\"><img src=\"https://colab.research.google.com/assets/colab-badge.svg\" alt=\"Open In Colab\"/></a>"
      ]
    },
    {
      "cell_type": "code",
      "source": [
        "from google.colab import drive\n",
        "drive.mount('/content/drive')"
      ],
      "metadata": {
        "colab": {
          "base_uri": "https://localhost:8080/"
        },
        "id": "T_Kk3ENuRbjc",
        "outputId": "31a3a658-33a2-4011-b1ea-f20de25cf873"
      },
      "execution_count": null,
      "outputs": [
        {
          "output_type": "stream",
          "name": "stdout",
          "text": [
            "Mounted at /content/drive\n"
          ]
        }
      ]
    },
    {
      "cell_type": "code",
      "source": [
        "!pip install opendatasets\n",
        "!pip install pandas"
      ],
      "metadata": {
        "colab": {
          "base_uri": "https://localhost:8080/"
        },
        "id": "hhaF8fZK-BMP",
        "outputId": "4bf6f18a-89f2-4291-e783-0b5a34f69e60"
      },
      "execution_count": null,
      "outputs": [
        {
          "output_type": "stream",
          "name": "stdout",
          "text": [
            "Looking in indexes: https://pypi.org/simple, https://us-python.pkg.dev/colab-wheels/public/simple/\n",
            "Collecting opendatasets\n",
            "  Downloading opendatasets-0.1.22-py3-none-any.whl (15 kB)\n",
            "Requirement already satisfied: click in /usr/local/lib/python3.8/dist-packages (from opendatasets) (7.1.2)\n",
            "Requirement already satisfied: tqdm in /usr/local/lib/python3.8/dist-packages (from opendatasets) (4.64.1)\n",
            "Requirement already satisfied: kaggle in /usr/local/lib/python3.8/dist-packages (from opendatasets) (1.5.12)\n",
            "Requirement already satisfied: python-dateutil in /usr/local/lib/python3.8/dist-packages (from kaggle->opendatasets) (2.8.2)\n",
            "Requirement already satisfied: python-slugify in /usr/local/lib/python3.8/dist-packages (from kaggle->opendatasets) (7.0.0)\n",
            "Requirement already satisfied: requests in /usr/local/lib/python3.8/dist-packages (from kaggle->opendatasets) (2.25.1)\n",
            "Requirement already satisfied: six>=1.10 in /usr/local/lib/python3.8/dist-packages (from kaggle->opendatasets) (1.15.0)\n",
            "Requirement already satisfied: urllib3 in /usr/local/lib/python3.8/dist-packages (from kaggle->opendatasets) (1.24.3)\n",
            "Requirement already satisfied: certifi in /usr/local/lib/python3.8/dist-packages (from kaggle->opendatasets) (2022.12.7)\n",
            "Requirement already satisfied: text-unidecode>=1.3 in /usr/local/lib/python3.8/dist-packages (from python-slugify->kaggle->opendatasets) (1.3)\n",
            "Requirement already satisfied: idna<3,>=2.5 in /usr/local/lib/python3.8/dist-packages (from requests->kaggle->opendatasets) (2.10)\n",
            "Requirement already satisfied: chardet<5,>=3.0.2 in /usr/local/lib/python3.8/dist-packages (from requests->kaggle->opendatasets) (4.0.0)\n",
            "Installing collected packages: opendatasets\n",
            "Successfully installed opendatasets-0.1.22\n",
            "Looking in indexes: https://pypi.org/simple, https://us-python.pkg.dev/colab-wheels/public/simple/\n",
            "Requirement already satisfied: pandas in /usr/local/lib/python3.8/dist-packages (1.3.5)\n",
            "Requirement already satisfied: numpy>=1.17.3 in /usr/local/lib/python3.8/dist-packages (from pandas) (1.21.6)\n",
            "Requirement already satisfied: pytz>=2017.3 in /usr/local/lib/python3.8/dist-packages (from pandas) (2022.7)\n",
            "Requirement already satisfied: python-dateutil>=2.7.3 in /usr/local/lib/python3.8/dist-packages (from pandas) (2.8.2)\n",
            "Requirement already satisfied: six>=1.5 in /usr/local/lib/python3.8/dist-packages (from python-dateutil>=2.7.3->pandas) (1.15.0)\n"
          ]
        }
      ]
    },
    {
      "cell_type": "code",
      "source": [
        "import opendatasets as od\n",
        "import pandas\n",
        "\n",
        "od.download(\n",
        "    \"https://www.kaggle.com/datasets/gauravduttakiit/bitcoin-tweets-16m-tweets-with-sentiment-tagged\")"
      ],
      "metadata": {
        "colab": {
          "base_uri": "https://localhost:8080/"
        },
        "id": "-LGg5wDPctCz",
        "outputId": "28a4053d-cca6-4828-9e5d-caf3c2905d61"
      },
      "execution_count": null,
      "outputs": [
        {
          "output_type": "stream",
          "name": "stdout",
          "text": [
            "Please provide your Kaggle credentials to download this dataset. Learn more: http://bit.ly/kaggle-creds\n",
            "Your Kaggle username: ehsanhonarvar\n",
            "Your Kaggle Key: ··········\n",
            "Downloading bitcoin-tweets-16m-tweets-with-sentiment-tagged.zip to ./bitcoin-tweets-16m-tweets-with-sentiment-tagged\n"
          ]
        },
        {
          "output_type": "stream",
          "name": "stderr",
          "text": [
            "100%|██████████| 1.10G/1.10G [00:06<00:00, 175MB/s]\n"
          ]
        },
        {
          "output_type": "stream",
          "name": "stdout",
          "text": [
            "\n"
          ]
        }
      ]
    },
    {
      "cell_type": "code",
      "source": [
        "import pandas as pd\n",
        "\n",
        "# reading the XLSX file\n",
        "file =('bitcoin-tweets-16m-tweets-with-sentiment-tagged/mbsa.csv')\n",
        "tweets = pd.read_csv(file)\n",
        "\n",
        "# displaying the contents of the XLSX file\n",
        "tweets.head()"
      ],
      "metadata": {
        "colab": {
          "base_uri": "https://localhost:8080/",
          "height": 206
        },
        "id": "hcLxjGD-AC9Q",
        "outputId": "dbd85110-06e6-416e-948b-674dc71bce7d"
      },
      "execution_count": null,
      "outputs": [
        {
          "output_type": "execute_result",
          "data": {
            "text/plain": [
              "         Date                                               text Sentiment\n",
              "0  2019-05-27  È appena uscito un nuovo video! LES CRYPTOMONN...  Positive\n",
              "1  2019-05-27  Cardano: Digitize Currencies; EOS https://t.co...  Positive\n",
              "2  2019-05-27  Another Test tweet that wasn't caught in the s...  Positive\n",
              "3  2019-05-27  Current Crypto Prices! \\n\\nBTC: $8721.99 USD\\n...  Positive\n",
              "4  2019-05-27  Spiv (Nosar Baz): BITCOIN Is An Asset &amp; NO...  Positive"
            ],
            "text/html": [
              "\n",
              "  <div id=\"df-602d2e71-bec7-4540-8a82-6bb73ae1e6b1\">\n",
              "    <div class=\"colab-df-container\">\n",
              "      <div>\n",
              "<style scoped>\n",
              "    .dataframe tbody tr th:only-of-type {\n",
              "        vertical-align: middle;\n",
              "    }\n",
              "\n",
              "    .dataframe tbody tr th {\n",
              "        vertical-align: top;\n",
              "    }\n",
              "\n",
              "    .dataframe thead th {\n",
              "        text-align: right;\n",
              "    }\n",
              "</style>\n",
              "<table border=\"1\" class=\"dataframe\">\n",
              "  <thead>\n",
              "    <tr style=\"text-align: right;\">\n",
              "      <th></th>\n",
              "      <th>Date</th>\n",
              "      <th>text</th>\n",
              "      <th>Sentiment</th>\n",
              "    </tr>\n",
              "  </thead>\n",
              "  <tbody>\n",
              "    <tr>\n",
              "      <th>0</th>\n",
              "      <td>2019-05-27</td>\n",
              "      <td>È appena uscito un nuovo video! LES CRYPTOMONN...</td>\n",
              "      <td>Positive</td>\n",
              "    </tr>\n",
              "    <tr>\n",
              "      <th>1</th>\n",
              "      <td>2019-05-27</td>\n",
              "      <td>Cardano: Digitize Currencies; EOS https://t.co...</td>\n",
              "      <td>Positive</td>\n",
              "    </tr>\n",
              "    <tr>\n",
              "      <th>2</th>\n",
              "      <td>2019-05-27</td>\n",
              "      <td>Another Test tweet that wasn't caught in the s...</td>\n",
              "      <td>Positive</td>\n",
              "    </tr>\n",
              "    <tr>\n",
              "      <th>3</th>\n",
              "      <td>2019-05-27</td>\n",
              "      <td>Current Crypto Prices! \\n\\nBTC: $8721.99 USD\\n...</td>\n",
              "      <td>Positive</td>\n",
              "    </tr>\n",
              "    <tr>\n",
              "      <th>4</th>\n",
              "      <td>2019-05-27</td>\n",
              "      <td>Spiv (Nosar Baz): BITCOIN Is An Asset &amp;amp; NO...</td>\n",
              "      <td>Positive</td>\n",
              "    </tr>\n",
              "  </tbody>\n",
              "</table>\n",
              "</div>\n",
              "      <button class=\"colab-df-convert\" onclick=\"convertToInteractive('df-602d2e71-bec7-4540-8a82-6bb73ae1e6b1')\"\n",
              "              title=\"Convert this dataframe to an interactive table.\"\n",
              "              style=\"display:none;\">\n",
              "        \n",
              "  <svg xmlns=\"http://www.w3.org/2000/svg\" height=\"24px\"viewBox=\"0 0 24 24\"\n",
              "       width=\"24px\">\n",
              "    <path d=\"M0 0h24v24H0V0z\" fill=\"none\"/>\n",
              "    <path d=\"M18.56 5.44l.94 2.06.94-2.06 2.06-.94-2.06-.94-.94-2.06-.94 2.06-2.06.94zm-11 1L8.5 8.5l.94-2.06 2.06-.94-2.06-.94L8.5 2.5l-.94 2.06-2.06.94zm10 10l.94 2.06.94-2.06 2.06-.94-2.06-.94-.94-2.06-.94 2.06-2.06.94z\"/><path d=\"M17.41 7.96l-1.37-1.37c-.4-.4-.92-.59-1.43-.59-.52 0-1.04.2-1.43.59L10.3 9.45l-7.72 7.72c-.78.78-.78 2.05 0 2.83L4 21.41c.39.39.9.59 1.41.59.51 0 1.02-.2 1.41-.59l7.78-7.78 2.81-2.81c.8-.78.8-2.07 0-2.86zM5.41 20L4 18.59l7.72-7.72 1.47 1.35L5.41 20z\"/>\n",
              "  </svg>\n",
              "      </button>\n",
              "      \n",
              "  <style>\n",
              "    .colab-df-container {\n",
              "      display:flex;\n",
              "      flex-wrap:wrap;\n",
              "      gap: 12px;\n",
              "    }\n",
              "\n",
              "    .colab-df-convert {\n",
              "      background-color: #E8F0FE;\n",
              "      border: none;\n",
              "      border-radius: 50%;\n",
              "      cursor: pointer;\n",
              "      display: none;\n",
              "      fill: #1967D2;\n",
              "      height: 32px;\n",
              "      padding: 0 0 0 0;\n",
              "      width: 32px;\n",
              "    }\n",
              "\n",
              "    .colab-df-convert:hover {\n",
              "      background-color: #E2EBFA;\n",
              "      box-shadow: 0px 1px 2px rgba(60, 64, 67, 0.3), 0px 1px 3px 1px rgba(60, 64, 67, 0.15);\n",
              "      fill: #174EA6;\n",
              "    }\n",
              "\n",
              "    [theme=dark] .colab-df-convert {\n",
              "      background-color: #3B4455;\n",
              "      fill: #D2E3FC;\n",
              "    }\n",
              "\n",
              "    [theme=dark] .colab-df-convert:hover {\n",
              "      background-color: #434B5C;\n",
              "      box-shadow: 0px 1px 3px 1px rgba(0, 0, 0, 0.15);\n",
              "      filter: drop-shadow(0px 1px 2px rgba(0, 0, 0, 0.3));\n",
              "      fill: #FFFFFF;\n",
              "    }\n",
              "  </style>\n",
              "\n",
              "      <script>\n",
              "        const buttonEl =\n",
              "          document.querySelector('#df-602d2e71-bec7-4540-8a82-6bb73ae1e6b1 button.colab-df-convert');\n",
              "        buttonEl.style.display =\n",
              "          google.colab.kernel.accessAllowed ? 'block' : 'none';\n",
              "\n",
              "        async function convertToInteractive(key) {\n",
              "          const element = document.querySelector('#df-602d2e71-bec7-4540-8a82-6bb73ae1e6b1');\n",
              "          const dataTable =\n",
              "            await google.colab.kernel.invokeFunction('convertToInteractive',\n",
              "                                                     [key], {});\n",
              "          if (!dataTable) return;\n",
              "\n",
              "          const docLinkHtml = 'Like what you see? Visit the ' +\n",
              "            '<a target=\"_blank\" href=https://colab.research.google.com/notebooks/data_table.ipynb>data table notebook</a>'\n",
              "            + ' to learn more about interactive tables.';\n",
              "          element.innerHTML = '';\n",
              "          dataTable['output_type'] = 'display_data';\n",
              "          await google.colab.output.renderOutput(dataTable, element);\n",
              "          const docLink = document.createElement('div');\n",
              "          docLink.innerHTML = docLinkHtml;\n",
              "          element.appendChild(docLink);\n",
              "        }\n",
              "      </script>\n",
              "    </div>\n",
              "  </div>\n",
              "  "
            ]
          },
          "metadata": {},
          "execution_count": 4
        }
      ]
    },
    {
      "cell_type": "code",
      "source": [
        "# newData.to_csv('dataBitCoin16M.csv')\n",
        "# !cp dataBitCoin16M.csv \"drive/My Drive/Datasets/\""
      ],
      "metadata": {
        "id": "PXL3epByPxls"
      },
      "execution_count": null,
      "outputs": []
    },
    {
      "cell_type": "code",
      "source": [
        "# !ls\n",
        "# https://drive.google.com/file/d/1jAFhXiIc0AT5OoqDrVx_z5rLlhA2Da4m/view?usp=share_link"
      ],
      "metadata": {
        "colab": {
          "base_uri": "https://localhost:8080/"
        },
        "id": "t4zKM6G-RP6y",
        "outputId": "c5a2e049-5f50-4e06-d378-ea2293f430a0"
      },
      "execution_count": null,
      "outputs": [
        {
          "output_type": "stream",
          "name": "stdout",
          "text": [
            "bitcoin-tweets-16m-tweets-with-sentiment-tagged  drive\n",
            "dataBitCoin16M.csv\t\t\t\t sample_data\n"
          ]
        }
      ]
    },
    {
      "cell_type": "code",
      "source": [
        "import numpy as np"
      ],
      "metadata": {
        "id": "Z-ngvCUIZlTk"
      },
      "execution_count": null,
      "outputs": []
    },
    {
      "cell_type": "code",
      "source": [
        "# # This Python 3 environment comes with many helpful analytics libraries installed\n",
        "# # It is defined by the kaggle/python Docker image: https://github.com/kaggle/docker-python\n",
        "# # For example, here's several helpful packages to load\n",
        "\n",
        "# import numpy as np # linear algebra\n",
        "# import pandas as pd # data processing, CSV file I/O (e.g. pd.read_csv)\n",
        "\n",
        "# # Input data files are available in the read-only \"../input/\" directory\n",
        "# # For example, running this (by clicking run or pressing Shift+Enter) will list all files under the input directory\n",
        "\n",
        "# import os\n",
        "# for dirname, _, filenames in os.walk('/kaggle/input'):\n",
        "#     for filename in filenames:\n",
        "#         print(os.path.join(dirname, filename))\n",
        "\n",
        "# # You can write up to 20GB to the current directory (/kaggle/working/) that gets preserved as output when you create a version using \"Save & Run All\"\n",
        "# # You can also write temporary files to /kaggle/temp/, but they won't be saved outside of the current session"
      ],
      "metadata": {
        "_uuid": "8f2839f25d086af736a60e9eeb907d3b93b6e0e5",
        "_cell_guid": "b1076dfc-b9ad-4769-8c92-a6c4dae69d19",
        "execution": {
          "iopub.status.busy": "2023-01-19T01:59:06.905734Z",
          "iopub.execute_input": "2023-01-19T01:59:06.906549Z",
          "iopub.status.idle": "2023-01-19T01:59:06.966233Z",
          "shell.execute_reply.started": "2023-01-19T01:59:06.906467Z",
          "shell.execute_reply": "2023-01-19T01:59:06.965393Z"
        },
        "trusted": true,
        "id": "QH0kD_klQKrs"
      },
      "execution_count": null,
      "outputs": []
    },
    {
      "cell_type": "code",
      "source": [
        "!pip install stop_words"
      ],
      "metadata": {
        "colab": {
          "base_uri": "https://localhost:8080/"
        },
        "id": "D-7ymc2-B2wD",
        "outputId": "ae3e3404-7b01-4db5-a45e-74905810c7cd"
      },
      "execution_count": null,
      "outputs": [
        {
          "output_type": "stream",
          "name": "stdout",
          "text": [
            "Looking in indexes: https://pypi.org/simple, https://us-python.pkg.dev/colab-wheels/public/simple/\n",
            "Collecting stop_words\n",
            "  Downloading stop-words-2018.7.23.tar.gz (31 kB)\n",
            "  Preparing metadata (setup.py) ... \u001b[?25l\u001b[?25hdone\n",
            "Building wheels for collected packages: stop_words\n",
            "  Building wheel for stop_words (setup.py) ... \u001b[?25l\u001b[?25hdone\n",
            "  Created wheel for stop_words: filename=stop_words-2018.7.23-py3-none-any.whl size=32910 sha256=c4b57353938be1cdf7c1d64e656f3d8c4c74a89c1aafafa8ac456204504ece10\n",
            "  Stored in directory: /root/.cache/pip/wheels/eb/03/0d/3bd31c983789aeb0b4d5e2ca48590288d9db1586cf5f225062\n",
            "Successfully built stop_words\n",
            "Installing collected packages: stop_words\n",
            "Successfully installed stop_words-2018.7.23\n"
          ]
        }
      ]
    },
    {
      "cell_type": "code",
      "source": [
        "import matplotlib.pyplot as plt, seaborn as sns\n",
        "from sklearn.model_selection import train_test_split, cross_val_score, StratifiedKFold, GridSearchCV\n",
        "from sklearn.metrics import accuracy_score\n",
        "from stop_words import get_stop_words\n",
        "import nltk\n",
        "from nltk.stem.porter import PorterStemmer\n",
        "from nltk.corpus import stopwords\n",
        "import re\n",
        "from tqdm import tqdm"
      ],
      "metadata": {
        "execution": {
          "iopub.status.busy": "2023-01-19T01:59:12.948160Z",
          "iopub.execute_input": "2023-01-19T01:59:12.948537Z",
          "iopub.status.idle": "2023-01-19T01:59:14.429947Z",
          "shell.execute_reply.started": "2023-01-19T01:59:12.948506Z",
          "shell.execute_reply": "2023-01-19T01:59:14.428943Z"
        },
        "trusted": true,
        "id": "wb0zBaVDQKry"
      },
      "execution_count": null,
      "outputs": []
    },
    {
      "cell_type": "code",
      "source": [
        "# tweets = pd.read_csv('/kaggle/input/bitcoin-tweets-16m-tweets-with-sentiment-tagged/mbsa.csv')\n",
        "# tweets.head()"
      ],
      "metadata": {
        "execution": {
          "iopub.status.busy": "2023-01-19T01:59:18.356045Z",
          "iopub.execute_input": "2023-01-19T01:59:18.356427Z",
          "iopub.status.idle": "2023-01-19T02:00:45.562319Z",
          "shell.execute_reply.started": "2023-01-19T01:59:18.356389Z",
          "shell.execute_reply": "2023-01-19T02:00:45.561384Z"
        },
        "trusted": true,
        "id": "n9KlrBUnQKr2"
      },
      "execution_count": null,
      "outputs": []
    },
    {
      "cell_type": "code",
      "source": [
        "len(tweets)"
      ],
      "metadata": {
        "execution": {
          "iopub.status.busy": "2023-01-19T02:03:36.220153Z",
          "iopub.execute_input": "2023-01-19T02:03:36.220537Z",
          "iopub.status.idle": "2023-01-19T02:03:36.228798Z",
          "shell.execute_reply.started": "2023-01-19T02:03:36.220506Z",
          "shell.execute_reply": "2023-01-19T02:03:36.226828Z"
        },
        "trusted": true,
        "colab": {
          "base_uri": "https://localhost:8080/"
        },
        "id": "RWjX--J8QKr7",
        "outputId": "583680bf-47bc-47c8-c549-1b5089998f3d"
      },
      "execution_count": null,
      "outputs": [
        {
          "output_type": "execute_result",
          "data": {
            "text/plain": [
              "19344048"
            ]
          },
          "metadata": {},
          "execution_count": 8
        }
      ]
    },
    {
      "cell_type": "code",
      "source": [
        "tweets = tweets.iloc[:,1:]\n",
        "tweets.head()"
      ],
      "metadata": {
        "execution": {
          "iopub.status.busy": "2023-01-19T02:03:38.775105Z",
          "iopub.execute_input": "2023-01-19T02:03:38.775487Z",
          "iopub.status.idle": "2023-01-19T02:03:38.785355Z",
          "shell.execute_reply.started": "2023-01-19T02:03:38.775455Z",
          "shell.execute_reply": "2023-01-19T02:03:38.784163Z"
        },
        "trusted": true,
        "colab": {
          "base_uri": "https://localhost:8080/",
          "height": 206
        },
        "id": "LvOTUS1vQKr9",
        "outputId": "9232523b-e387-4c1f-c30b-72339c040a13"
      },
      "execution_count": null,
      "outputs": [
        {
          "output_type": "execute_result",
          "data": {
            "text/plain": [
              "                                                text Sentiment\n",
              "0  È appena uscito un nuovo video! LES CRYPTOMONN...  Positive\n",
              "1  Cardano: Digitize Currencies; EOS https://t.co...  Positive\n",
              "2  Another Test tweet that wasn't caught in the s...  Positive\n",
              "3  Current Crypto Prices! \\n\\nBTC: $8721.99 USD\\n...  Positive\n",
              "4  Spiv (Nosar Baz): BITCOIN Is An Asset &amp; NO...  Positive"
            ],
            "text/html": [
              "\n",
              "  <div id=\"df-bdeb5e61-b022-47a2-bda6-11fbfdac2e4d\">\n",
              "    <div class=\"colab-df-container\">\n",
              "      <div>\n",
              "<style scoped>\n",
              "    .dataframe tbody tr th:only-of-type {\n",
              "        vertical-align: middle;\n",
              "    }\n",
              "\n",
              "    .dataframe tbody tr th {\n",
              "        vertical-align: top;\n",
              "    }\n",
              "\n",
              "    .dataframe thead th {\n",
              "        text-align: right;\n",
              "    }\n",
              "</style>\n",
              "<table border=\"1\" class=\"dataframe\">\n",
              "  <thead>\n",
              "    <tr style=\"text-align: right;\">\n",
              "      <th></th>\n",
              "      <th>text</th>\n",
              "      <th>Sentiment</th>\n",
              "    </tr>\n",
              "  </thead>\n",
              "  <tbody>\n",
              "    <tr>\n",
              "      <th>0</th>\n",
              "      <td>È appena uscito un nuovo video! LES CRYPTOMONN...</td>\n",
              "      <td>Positive</td>\n",
              "    </tr>\n",
              "    <tr>\n",
              "      <th>1</th>\n",
              "      <td>Cardano: Digitize Currencies; EOS https://t.co...</td>\n",
              "      <td>Positive</td>\n",
              "    </tr>\n",
              "    <tr>\n",
              "      <th>2</th>\n",
              "      <td>Another Test tweet that wasn't caught in the s...</td>\n",
              "      <td>Positive</td>\n",
              "    </tr>\n",
              "    <tr>\n",
              "      <th>3</th>\n",
              "      <td>Current Crypto Prices! \\n\\nBTC: $8721.99 USD\\n...</td>\n",
              "      <td>Positive</td>\n",
              "    </tr>\n",
              "    <tr>\n",
              "      <th>4</th>\n",
              "      <td>Spiv (Nosar Baz): BITCOIN Is An Asset &amp;amp; NO...</td>\n",
              "      <td>Positive</td>\n",
              "    </tr>\n",
              "  </tbody>\n",
              "</table>\n",
              "</div>\n",
              "      <button class=\"colab-df-convert\" onclick=\"convertToInteractive('df-bdeb5e61-b022-47a2-bda6-11fbfdac2e4d')\"\n",
              "              title=\"Convert this dataframe to an interactive table.\"\n",
              "              style=\"display:none;\">\n",
              "        \n",
              "  <svg xmlns=\"http://www.w3.org/2000/svg\" height=\"24px\"viewBox=\"0 0 24 24\"\n",
              "       width=\"24px\">\n",
              "    <path d=\"M0 0h24v24H0V0z\" fill=\"none\"/>\n",
              "    <path d=\"M18.56 5.44l.94 2.06.94-2.06 2.06-.94-2.06-.94-.94-2.06-.94 2.06-2.06.94zm-11 1L8.5 8.5l.94-2.06 2.06-.94-2.06-.94L8.5 2.5l-.94 2.06-2.06.94zm10 10l.94 2.06.94-2.06 2.06-.94-2.06-.94-.94-2.06-.94 2.06-2.06.94z\"/><path d=\"M17.41 7.96l-1.37-1.37c-.4-.4-.92-.59-1.43-.59-.52 0-1.04.2-1.43.59L10.3 9.45l-7.72 7.72c-.78.78-.78 2.05 0 2.83L4 21.41c.39.39.9.59 1.41.59.51 0 1.02-.2 1.41-.59l7.78-7.78 2.81-2.81c.8-.78.8-2.07 0-2.86zM5.41 20L4 18.59l7.72-7.72 1.47 1.35L5.41 20z\"/>\n",
              "  </svg>\n",
              "      </button>\n",
              "      \n",
              "  <style>\n",
              "    .colab-df-container {\n",
              "      display:flex;\n",
              "      flex-wrap:wrap;\n",
              "      gap: 12px;\n",
              "    }\n",
              "\n",
              "    .colab-df-convert {\n",
              "      background-color: #E8F0FE;\n",
              "      border: none;\n",
              "      border-radius: 50%;\n",
              "      cursor: pointer;\n",
              "      display: none;\n",
              "      fill: #1967D2;\n",
              "      height: 32px;\n",
              "      padding: 0 0 0 0;\n",
              "      width: 32px;\n",
              "    }\n",
              "\n",
              "    .colab-df-convert:hover {\n",
              "      background-color: #E2EBFA;\n",
              "      box-shadow: 0px 1px 2px rgba(60, 64, 67, 0.3), 0px 1px 3px 1px rgba(60, 64, 67, 0.15);\n",
              "      fill: #174EA6;\n",
              "    }\n",
              "\n",
              "    [theme=dark] .colab-df-convert {\n",
              "      background-color: #3B4455;\n",
              "      fill: #D2E3FC;\n",
              "    }\n",
              "\n",
              "    [theme=dark] .colab-df-convert:hover {\n",
              "      background-color: #434B5C;\n",
              "      box-shadow: 0px 1px 3px 1px rgba(0, 0, 0, 0.15);\n",
              "      filter: drop-shadow(0px 1px 2px rgba(0, 0, 0, 0.3));\n",
              "      fill: #FFFFFF;\n",
              "    }\n",
              "  </style>\n",
              "\n",
              "      <script>\n",
              "        const buttonEl =\n",
              "          document.querySelector('#df-bdeb5e61-b022-47a2-bda6-11fbfdac2e4d button.colab-df-convert');\n",
              "        buttonEl.style.display =\n",
              "          google.colab.kernel.accessAllowed ? 'block' : 'none';\n",
              "\n",
              "        async function convertToInteractive(key) {\n",
              "          const element = document.querySelector('#df-bdeb5e61-b022-47a2-bda6-11fbfdac2e4d');\n",
              "          const dataTable =\n",
              "            await google.colab.kernel.invokeFunction('convertToInteractive',\n",
              "                                                     [key], {});\n",
              "          if (!dataTable) return;\n",
              "\n",
              "          const docLinkHtml = 'Like what you see? Visit the ' +\n",
              "            '<a target=\"_blank\" href=https://colab.research.google.com/notebooks/data_table.ipynb>data table notebook</a>'\n",
              "            + ' to learn more about interactive tables.';\n",
              "          element.innerHTML = '';\n",
              "          dataTable['output_type'] = 'display_data';\n",
              "          await google.colab.output.renderOutput(dataTable, element);\n",
              "          const docLink = document.createElement('div');\n",
              "          docLink.innerHTML = docLinkHtml;\n",
              "          element.appendChild(docLink);\n",
              "        }\n",
              "      </script>\n",
              "    </div>\n",
              "  </div>\n",
              "  "
            ]
          },
          "metadata": {},
          "execution_count": 9
        }
      ]
    },
    {
      "cell_type": "code",
      "source": [
        "tweets.Sentiment = tweets.Sentiment.apply(lambda x: str(x).lower())\n",
        "tweets.Sentiment = tweets.Sentiment.map(lambda x: 1 if x=='positive' else 0)\n",
        "tweets.head()"
      ],
      "metadata": {
        "execution": {
          "iopub.status.busy": "2023-01-19T02:03:43.392077Z",
          "iopub.execute_input": "2023-01-19T02:03:43.392757Z",
          "iopub.status.idle": "2023-01-19T02:03:58.869006Z",
          "shell.execute_reply.started": "2023-01-19T02:03:43.392721Z",
          "shell.execute_reply": "2023-01-19T02:03:58.868021Z"
        },
        "trusted": true,
        "colab": {
          "base_uri": "https://localhost:8080/",
          "height": 206
        },
        "id": "aA4Ht_NmQKsB",
        "outputId": "7d543cd0-2a66-40d0-dc51-7667394e6fd9"
      },
      "execution_count": null,
      "outputs": [
        {
          "output_type": "execute_result",
          "data": {
            "text/plain": [
              "                                                text  Sentiment\n",
              "0  È appena uscito un nuovo video! LES CRYPTOMONN...          1\n",
              "1  Cardano: Digitize Currencies; EOS https://t.co...          1\n",
              "2  Another Test tweet that wasn't caught in the s...          1\n",
              "3  Current Crypto Prices! \\n\\nBTC: $8721.99 USD\\n...          1\n",
              "4  Spiv (Nosar Baz): BITCOIN Is An Asset &amp; NO...          1"
            ],
            "text/html": [
              "\n",
              "  <div id=\"df-c71d44ec-96ea-49b9-a4ac-ef2484466add\">\n",
              "    <div class=\"colab-df-container\">\n",
              "      <div>\n",
              "<style scoped>\n",
              "    .dataframe tbody tr th:only-of-type {\n",
              "        vertical-align: middle;\n",
              "    }\n",
              "\n",
              "    .dataframe tbody tr th {\n",
              "        vertical-align: top;\n",
              "    }\n",
              "\n",
              "    .dataframe thead th {\n",
              "        text-align: right;\n",
              "    }\n",
              "</style>\n",
              "<table border=\"1\" class=\"dataframe\">\n",
              "  <thead>\n",
              "    <tr style=\"text-align: right;\">\n",
              "      <th></th>\n",
              "      <th>text</th>\n",
              "      <th>Sentiment</th>\n",
              "    </tr>\n",
              "  </thead>\n",
              "  <tbody>\n",
              "    <tr>\n",
              "      <th>0</th>\n",
              "      <td>È appena uscito un nuovo video! LES CRYPTOMONN...</td>\n",
              "      <td>1</td>\n",
              "    </tr>\n",
              "    <tr>\n",
              "      <th>1</th>\n",
              "      <td>Cardano: Digitize Currencies; EOS https://t.co...</td>\n",
              "      <td>1</td>\n",
              "    </tr>\n",
              "    <tr>\n",
              "      <th>2</th>\n",
              "      <td>Another Test tweet that wasn't caught in the s...</td>\n",
              "      <td>1</td>\n",
              "    </tr>\n",
              "    <tr>\n",
              "      <th>3</th>\n",
              "      <td>Current Crypto Prices! \\n\\nBTC: $8721.99 USD\\n...</td>\n",
              "      <td>1</td>\n",
              "    </tr>\n",
              "    <tr>\n",
              "      <th>4</th>\n",
              "      <td>Spiv (Nosar Baz): BITCOIN Is An Asset &amp;amp; NO...</td>\n",
              "      <td>1</td>\n",
              "    </tr>\n",
              "  </tbody>\n",
              "</table>\n",
              "</div>\n",
              "      <button class=\"colab-df-convert\" onclick=\"convertToInteractive('df-c71d44ec-96ea-49b9-a4ac-ef2484466add')\"\n",
              "              title=\"Convert this dataframe to an interactive table.\"\n",
              "              style=\"display:none;\">\n",
              "        \n",
              "  <svg xmlns=\"http://www.w3.org/2000/svg\" height=\"24px\"viewBox=\"0 0 24 24\"\n",
              "       width=\"24px\">\n",
              "    <path d=\"M0 0h24v24H0V0z\" fill=\"none\"/>\n",
              "    <path d=\"M18.56 5.44l.94 2.06.94-2.06 2.06-.94-2.06-.94-.94-2.06-.94 2.06-2.06.94zm-11 1L8.5 8.5l.94-2.06 2.06-.94-2.06-.94L8.5 2.5l-.94 2.06-2.06.94zm10 10l.94 2.06.94-2.06 2.06-.94-2.06-.94-.94-2.06-.94 2.06-2.06.94z\"/><path d=\"M17.41 7.96l-1.37-1.37c-.4-.4-.92-.59-1.43-.59-.52 0-1.04.2-1.43.59L10.3 9.45l-7.72 7.72c-.78.78-.78 2.05 0 2.83L4 21.41c.39.39.9.59 1.41.59.51 0 1.02-.2 1.41-.59l7.78-7.78 2.81-2.81c.8-.78.8-2.07 0-2.86zM5.41 20L4 18.59l7.72-7.72 1.47 1.35L5.41 20z\"/>\n",
              "  </svg>\n",
              "      </button>\n",
              "      \n",
              "  <style>\n",
              "    .colab-df-container {\n",
              "      display:flex;\n",
              "      flex-wrap:wrap;\n",
              "      gap: 12px;\n",
              "    }\n",
              "\n",
              "    .colab-df-convert {\n",
              "      background-color: #E8F0FE;\n",
              "      border: none;\n",
              "      border-radius: 50%;\n",
              "      cursor: pointer;\n",
              "      display: none;\n",
              "      fill: #1967D2;\n",
              "      height: 32px;\n",
              "      padding: 0 0 0 0;\n",
              "      width: 32px;\n",
              "    }\n",
              "\n",
              "    .colab-df-convert:hover {\n",
              "      background-color: #E2EBFA;\n",
              "      box-shadow: 0px 1px 2px rgba(60, 64, 67, 0.3), 0px 1px 3px 1px rgba(60, 64, 67, 0.15);\n",
              "      fill: #174EA6;\n",
              "    }\n",
              "\n",
              "    [theme=dark] .colab-df-convert {\n",
              "      background-color: #3B4455;\n",
              "      fill: #D2E3FC;\n",
              "    }\n",
              "\n",
              "    [theme=dark] .colab-df-convert:hover {\n",
              "      background-color: #434B5C;\n",
              "      box-shadow: 0px 1px 3px 1px rgba(0, 0, 0, 0.15);\n",
              "      filter: drop-shadow(0px 1px 2px rgba(0, 0, 0, 0.3));\n",
              "      fill: #FFFFFF;\n",
              "    }\n",
              "  </style>\n",
              "\n",
              "      <script>\n",
              "        const buttonEl =\n",
              "          document.querySelector('#df-c71d44ec-96ea-49b9-a4ac-ef2484466add button.colab-df-convert');\n",
              "        buttonEl.style.display =\n",
              "          google.colab.kernel.accessAllowed ? 'block' : 'none';\n",
              "\n",
              "        async function convertToInteractive(key) {\n",
              "          const element = document.querySelector('#df-c71d44ec-96ea-49b9-a4ac-ef2484466add');\n",
              "          const dataTable =\n",
              "            await google.colab.kernel.invokeFunction('convertToInteractive',\n",
              "                                                     [key], {});\n",
              "          if (!dataTable) return;\n",
              "\n",
              "          const docLinkHtml = 'Like what you see? Visit the ' +\n",
              "            '<a target=\"_blank\" href=https://colab.research.google.com/notebooks/data_table.ipynb>data table notebook</a>'\n",
              "            + ' to learn more about interactive tables.';\n",
              "          element.innerHTML = '';\n",
              "          dataTable['output_type'] = 'display_data';\n",
              "          await google.colab.output.renderOutput(dataTable, element);\n",
              "          const docLink = document.createElement('div');\n",
              "          docLink.innerHTML = docLinkHtml;\n",
              "          element.appendChild(docLink);\n",
              "        }\n",
              "      </script>\n",
              "    </div>\n",
              "  </div>\n",
              "  "
            ]
          },
          "metadata": {},
          "execution_count": 10
        }
      ]
    },
    {
      "cell_type": "code",
      "source": [
        "df = tweets.sample(5000000)\n",
        "\n",
        "df.head()\n",
        "print('Total Sample: ',len(df))\n",
        "print(df.groupby(df.Sentiment).count())\n"
      ],
      "metadata": {
        "execution": {
          "iopub.status.busy": "2023-01-19T02:04:07.920360Z",
          "iopub.execute_input": "2023-01-19T02:04:07.921003Z",
          "iopub.status.idle": "2023-01-19T02:04:09.893275Z",
          "shell.execute_reply.started": "2023-01-19T02:04:07.920960Z",
          "shell.execute_reply": "2023-01-19T02:04:09.892157Z"
        },
        "trusted": true,
        "colab": {
          "base_uri": "https://localhost:8080/"
        },
        "id": "3lxCWOfbQKsD",
        "outputId": "41211ec1-a1ae-4fe2-dbd4-fcff132e265c"
      },
      "execution_count": null,
      "outputs": [
        {
          "output_type": "stream",
          "name": "stdout",
          "text": [
            "Total Sample:  5000000\n",
            "              text\n",
            "Sentiment         \n",
            "0          2744795\n",
            "1          2255203\n"
          ]
        }
      ]
    },
    {
      "cell_type": "code",
      "source": [
        "######## DATA CLEANING ########\n",
        "stop_words = get_stop_words('english')\n",
        "\n",
        "len(stop_words)"
      ],
      "metadata": {
        "execution": {
          "iopub.status.busy": "2023-01-19T02:04:13.240264Z",
          "iopub.execute_input": "2023-01-19T02:04:13.241305Z",
          "iopub.status.idle": "2023-01-19T02:04:13.250918Z",
          "shell.execute_reply.started": "2023-01-19T02:04:13.241247Z",
          "shell.execute_reply": "2023-01-19T02:04:13.249835Z"
        },
        "trusted": true,
        "colab": {
          "base_uri": "https://localhost:8080/"
        },
        "id": "LmaWuZKMQKsF",
        "outputId": "f08e0d33-de18-41b7-b48c-579dcc71ae9b"
      },
      "execution_count": null,
      "outputs": [
        {
          "output_type": "execute_result",
          "data": {
            "text/plain": [
              "174"
            ]
          },
          "metadata": {},
          "execution_count": 12
        }
      ]
    },
    {
      "cell_type": "code",
      "source": [
        "!pip install nltk"
      ],
      "metadata": {
        "colab": {
          "base_uri": "https://localhost:8080/"
        },
        "id": "ZdHDjs3xCi_-",
        "outputId": "6733d1d8-ee74-4719-cf61-875758ec8454"
      },
      "execution_count": null,
      "outputs": [
        {
          "output_type": "stream",
          "name": "stdout",
          "text": [
            "Looking in indexes: https://pypi.org/simple, https://us-python.pkg.dev/colab-wheels/public/simple/\n",
            "Requirement already satisfied: nltk in /usr/local/lib/python3.8/dist-packages (3.7)\n",
            "Requirement already satisfied: joblib in /usr/local/lib/python3.8/dist-packages (from nltk) (1.2.0)\n",
            "Requirement already satisfied: regex>=2021.8.3 in /usr/local/lib/python3.8/dist-packages (from nltk) (2022.6.2)\n",
            "Requirement already satisfied: click in /usr/local/lib/python3.8/dist-packages (from nltk) (7.1.2)\n",
            "Requirement already satisfied: tqdm in /usr/local/lib/python3.8/dist-packages (from nltk) (4.64.1)\n"
          ]
        }
      ]
    },
    {
      "cell_type": "code",
      "source": [
        "import nltk\n",
        "nltk.download('punkt')"
      ],
      "metadata": {
        "colab": {
          "base_uri": "https://localhost:8080/"
        },
        "id": "pPhQAFqpC56V",
        "outputId": "b0d5f570-8ec9-44cf-d022-b558e85df411"
      },
      "execution_count": null,
      "outputs": [
        {
          "output_type": "stream",
          "name": "stderr",
          "text": [
            "[nltk_data] Downloading package punkt to /root/nltk_data...\n",
            "[nltk_data]   Unzipping tokenizers/punkt.zip.\n"
          ]
        },
        {
          "output_type": "execute_result",
          "data": {
            "text/plain": [
              "True"
            ]
          },
          "metadata": {},
          "execution_count": 14
        }
      ]
    },
    {
      "cell_type": "code",
      "source": [
        "ps = PorterStemmer()\n",
        "corpus = []\n",
        "for i in tqdm(df.text):\n",
        "    new = re.sub('[^a-zA-z]', ' ',str(i))\n",
        "    new = new.lower()\n",
        "    new = nltk.word_tokenize(new)\n",
        "    new = [ps.stem(i) for i in new if i not in stop_words]\n",
        "    new = ' '.join(new)\n",
        "    corpus.append(new)\n",
        "\n",
        "df.text = corpus\n",
        "df.head()"
      ],
      "metadata": {
        "execution": {
          "iopub.status.busy": "2023-01-19T02:04:16.007192Z",
          "iopub.execute_input": "2023-01-19T02:04:16.007944Z",
          "iopub.status.idle": "2023-01-19T02:21:28.160218Z",
          "shell.execute_reply.started": "2023-01-19T02:04:16.007906Z",
          "shell.execute_reply": "2023-01-19T02:21:28.159250Z"
        },
        "trusted": true,
        "colab": {
          "base_uri": "https://localhost:8080/",
          "height": 206
        },
        "id": "7xMLig2AQKsG",
        "outputId": "ba179bfc-7ca6-429b-988a-328b8adde324"
      },
      "execution_count": null,
      "outputs": [
        {
          "output_type": "execute_result",
          "data": {
            "text/plain": [
              "                                                       text  Sentiment\n",
              "14979680  video interview ricardo p rez marco lightn net...          0\n",
              "5129504                                      liquid bitcoin          1\n",
              "8805429   http t co vbgcw bsvm http t co uzzxbvbgff join...          1\n",
              "2205516                                       bitcoin price          0\n",
              "2492331   video c mo funciona bitcoin criptomoneda http ...          1"
            ],
            "text/html": [
              "\n",
              "  <div id=\"df-378c1fd1-8c9b-4f2f-827b-3c6ea42ffa01\">\n",
              "    <div class=\"colab-df-container\">\n",
              "      <div>\n",
              "<style scoped>\n",
              "    .dataframe tbody tr th:only-of-type {\n",
              "        vertical-align: middle;\n",
              "    }\n",
              "\n",
              "    .dataframe tbody tr th {\n",
              "        vertical-align: top;\n",
              "    }\n",
              "\n",
              "    .dataframe thead th {\n",
              "        text-align: right;\n",
              "    }\n",
              "</style>\n",
              "<table border=\"1\" class=\"dataframe\">\n",
              "  <thead>\n",
              "    <tr style=\"text-align: right;\">\n",
              "      <th></th>\n",
              "      <th>text</th>\n",
              "      <th>Sentiment</th>\n",
              "    </tr>\n",
              "  </thead>\n",
              "  <tbody>\n",
              "    <tr>\n",
              "      <th>14979680</th>\n",
              "      <td>video interview ricardo p rez marco lightn net...</td>\n",
              "      <td>0</td>\n",
              "    </tr>\n",
              "    <tr>\n",
              "      <th>5129504</th>\n",
              "      <td>liquid bitcoin</td>\n",
              "      <td>1</td>\n",
              "    </tr>\n",
              "    <tr>\n",
              "      <th>8805429</th>\n",
              "      <td>http t co vbgcw bsvm http t co uzzxbvbgff join...</td>\n",
              "      <td>1</td>\n",
              "    </tr>\n",
              "    <tr>\n",
              "      <th>2205516</th>\n",
              "      <td>bitcoin price</td>\n",
              "      <td>0</td>\n",
              "    </tr>\n",
              "    <tr>\n",
              "      <th>2492331</th>\n",
              "      <td>video c mo funciona bitcoin criptomoneda http ...</td>\n",
              "      <td>1</td>\n",
              "    </tr>\n",
              "  </tbody>\n",
              "</table>\n",
              "</div>\n",
              "      <button class=\"colab-df-convert\" onclick=\"convertToInteractive('df-378c1fd1-8c9b-4f2f-827b-3c6ea42ffa01')\"\n",
              "              title=\"Convert this dataframe to an interactive table.\"\n",
              "              style=\"display:none;\">\n",
              "        \n",
              "  <svg xmlns=\"http://www.w3.org/2000/svg\" height=\"24px\"viewBox=\"0 0 24 24\"\n",
              "       width=\"24px\">\n",
              "    <path d=\"M0 0h24v24H0V0z\" fill=\"none\"/>\n",
              "    <path d=\"M18.56 5.44l.94 2.06.94-2.06 2.06-.94-2.06-.94-.94-2.06-.94 2.06-2.06.94zm-11 1L8.5 8.5l.94-2.06 2.06-.94-2.06-.94L8.5 2.5l-.94 2.06-2.06.94zm10 10l.94 2.06.94-2.06 2.06-.94-2.06-.94-.94-2.06-.94 2.06-2.06.94z\"/><path d=\"M17.41 7.96l-1.37-1.37c-.4-.4-.92-.59-1.43-.59-.52 0-1.04.2-1.43.59L10.3 9.45l-7.72 7.72c-.78.78-.78 2.05 0 2.83L4 21.41c.39.39.9.59 1.41.59.51 0 1.02-.2 1.41-.59l7.78-7.78 2.81-2.81c.8-.78.8-2.07 0-2.86zM5.41 20L4 18.59l7.72-7.72 1.47 1.35L5.41 20z\"/>\n",
              "  </svg>\n",
              "      </button>\n",
              "      \n",
              "  <style>\n",
              "    .colab-df-container {\n",
              "      display:flex;\n",
              "      flex-wrap:wrap;\n",
              "      gap: 12px;\n",
              "    }\n",
              "\n",
              "    .colab-df-convert {\n",
              "      background-color: #E8F0FE;\n",
              "      border: none;\n",
              "      border-radius: 50%;\n",
              "      cursor: pointer;\n",
              "      display: none;\n",
              "      fill: #1967D2;\n",
              "      height: 32px;\n",
              "      padding: 0 0 0 0;\n",
              "      width: 32px;\n",
              "    }\n",
              "\n",
              "    .colab-df-convert:hover {\n",
              "      background-color: #E2EBFA;\n",
              "      box-shadow: 0px 1px 2px rgba(60, 64, 67, 0.3), 0px 1px 3px 1px rgba(60, 64, 67, 0.15);\n",
              "      fill: #174EA6;\n",
              "    }\n",
              "\n",
              "    [theme=dark] .colab-df-convert {\n",
              "      background-color: #3B4455;\n",
              "      fill: #D2E3FC;\n",
              "    }\n",
              "\n",
              "    [theme=dark] .colab-df-convert:hover {\n",
              "      background-color: #434B5C;\n",
              "      box-shadow: 0px 1px 3px 1px rgba(0, 0, 0, 0.15);\n",
              "      filter: drop-shadow(0px 1px 2px rgba(0, 0, 0, 0.3));\n",
              "      fill: #FFFFFF;\n",
              "    }\n",
              "  </style>\n",
              "\n",
              "      <script>\n",
              "        const buttonEl =\n",
              "          document.querySelector('#df-378c1fd1-8c9b-4f2f-827b-3c6ea42ffa01 button.colab-df-convert');\n",
              "        buttonEl.style.display =\n",
              "          google.colab.kernel.accessAllowed ? 'block' : 'none';\n",
              "\n",
              "        async function convertToInteractive(key) {\n",
              "          const element = document.querySelector('#df-378c1fd1-8c9b-4f2f-827b-3c6ea42ffa01');\n",
              "          const dataTable =\n",
              "            await google.colab.kernel.invokeFunction('convertToInteractive',\n",
              "                                                     [key], {});\n",
              "          if (!dataTable) return;\n",
              "\n",
              "          const docLinkHtml = 'Like what you see? Visit the ' +\n",
              "            '<a target=\"_blank\" href=https://colab.research.google.com/notebooks/data_table.ipynb>data table notebook</a>'\n",
              "            + ' to learn more about interactive tables.';\n",
              "          element.innerHTML = '';\n",
              "          dataTable['output_type'] = 'display_data';\n",
              "          await google.colab.output.renderOutput(dataTable, element);\n",
              "          const docLink = document.createElement('div');\n",
              "          docLink.innerHTML = docLinkHtml;\n",
              "          element.appendChild(docLink);\n",
              "        }\n",
              "      </script>\n",
              "    </div>\n",
              "  </div>\n",
              "  "
            ]
          },
          "metadata": {},
          "execution_count": 29
        }
      ]
    },
    {
      "cell_type": "code",
      "source": [],
      "metadata": {
        "id": "EuwbYN0WYgtS"
      },
      "execution_count": null,
      "outputs": []
    },
    {
      "cell_type": "code",
      "source": [
        "def tweet_to_words(tweet):\n",
        "    ''' Convert tweet text into a sequence of words '''\n",
        "\n",
        "    # convert to lowercase\n",
        "    text = str(tweet).lower()\n",
        "    # remove non letters\n",
        "    text = re.sub(r\"[^a-zA-Z0-9]\", \" \", text)\n",
        "    # remove links from text\n",
        "    text = re.sub(r'http\\S+', '', text)\n",
        "    # tokenize\n",
        "    words = text.split()\n",
        "    # remove stopwords\n",
        "    words = [w for w in words if w not in stopwords.words(\"english\")]\n",
        "    # apply stemming\n",
        "    words = [PorterStemmer().stem(w) for w in words]\n",
        "    # return list\n",
        "    return words"
      ],
      "metadata": {
        "execution": {
          "iopub.status.busy": "2023-01-19T02:21:28.162267Z",
          "iopub.execute_input": "2023-01-19T02:21:28.162891Z",
          "iopub.status.idle": "2023-01-19T02:21:28.169600Z",
          "shell.execute_reply.started": "2023-01-19T02:21:28.162852Z",
          "shell.execute_reply": "2023-01-19T02:21:28.168601Z"
        },
        "trusted": true,
        "id": "RodoiWOFQKsJ"
      },
      "execution_count": null,
      "outputs": []
    },
    {
      "cell_type": "code",
      "source": [
        "nltk.download('stopwords')"
      ],
      "metadata": {
        "colab": {
          "base_uri": "https://localhost:8080/"
        },
        "id": "VwbTBXyBKiOE",
        "outputId": "870d6dfd-641b-49e3-93a0-d5b6df6a20bc"
      },
      "execution_count": null,
      "outputs": [
        {
          "output_type": "stream",
          "name": "stderr",
          "text": [
            "[nltk_data] Downloading package stopwords to /root/nltk_data...\n",
            "[nltk_data]   Unzipping corpora/stopwords.zip.\n"
          ]
        },
        {
          "output_type": "execute_result",
          "data": {
            "text/plain": [
              "True"
            ]
          },
          "metadata": {},
          "execution_count": 16
        }
      ]
    },
    {
      "cell_type": "code",
      "source": [
        "cleantext=[]\n",
        "for item in tqdm(df['text']):\n",
        "    words=tweet_to_words(item)\n",
        "    cleantext+=[words]\n",
        "df['cleantext']=cleantext\n",
        "df.head()"
      ],
      "metadata": {
        "execution": {
          "iopub.status.busy": "2023-01-19T02:21:28.171129Z",
          "iopub.execute_input": "2023-01-19T02:21:28.171509Z",
          "iopub.status.idle": "2023-01-19T03:38:17.589470Z",
          "shell.execute_reply.started": "2023-01-19T02:21:28.171476Z",
          "shell.execute_reply": "2023-01-19T03:38:17.588532Z"
        },
        "trusted": true,
        "colab": {
          "base_uri": "https://localhost:8080/",
          "height": 225
        },
        "id": "z4G3FjpnQKsK",
        "outputId": "075fd3a6-6d85-4461-ee4c-fd93d28bad14"
      },
      "execution_count": null,
      "outputs": [
        {
          "output_type": "stream",
          "name": "stderr",
          "text": [
            "100%|██████████| 5000000/5000000 [3:09:46<00:00, 439.10it/s]\n"
          ]
        },
        {
          "output_type": "execute_result",
          "data": {
            "text/plain": [
              "                                                       text  Sentiment  \\\n",
              "17578333  #Sterling fragile as #EU weighs up new #Brexit...          1   \n",
              "3417746                                         @btc_reddit          0   \n",
              "15120109  @katyperry Get #free #Bitcoin\\n#bitcoinmining ...          0   \n",
              "3856586                                        @btc_current          0   \n",
              "9281674   Aggiornamento su tutti i mercati. Cosa seguire...          1   \n",
              "\n",
              "                                                  cleantext  \n",
              "17578333  [sterl, fragil, eu, weigh, new, brexit, extens...  \n",
              "3417746                                       [btc, reddit]  \n",
              "15120109  [katyperri, get, free, bitcoin, bitcoinmin, co...  \n",
              "3856586                                      [btc, current]  \n",
              "9281674   [aggiornamento, su, tutti, mercati, cosa, segu...  "
            ],
            "text/html": [
              "\n",
              "  <div id=\"df-e7b6222a-e867-4b85-9313-95b24eb2334c\">\n",
              "    <div class=\"colab-df-container\">\n",
              "      <div>\n",
              "<style scoped>\n",
              "    .dataframe tbody tr th:only-of-type {\n",
              "        vertical-align: middle;\n",
              "    }\n",
              "\n",
              "    .dataframe tbody tr th {\n",
              "        vertical-align: top;\n",
              "    }\n",
              "\n",
              "    .dataframe thead th {\n",
              "        text-align: right;\n",
              "    }\n",
              "</style>\n",
              "<table border=\"1\" class=\"dataframe\">\n",
              "  <thead>\n",
              "    <tr style=\"text-align: right;\">\n",
              "      <th></th>\n",
              "      <th>text</th>\n",
              "      <th>Sentiment</th>\n",
              "      <th>cleantext</th>\n",
              "    </tr>\n",
              "  </thead>\n",
              "  <tbody>\n",
              "    <tr>\n",
              "      <th>17578333</th>\n",
              "      <td>#Sterling fragile as #EU weighs up new #Brexit...</td>\n",
              "      <td>1</td>\n",
              "      <td>[sterl, fragil, eu, weigh, new, brexit, extens...</td>\n",
              "    </tr>\n",
              "    <tr>\n",
              "      <th>3417746</th>\n",
              "      <td>@btc_reddit</td>\n",
              "      <td>0</td>\n",
              "      <td>[btc, reddit]</td>\n",
              "    </tr>\n",
              "    <tr>\n",
              "      <th>15120109</th>\n",
              "      <td>@katyperry Get #free #Bitcoin\\n#bitcoinmining ...</td>\n",
              "      <td>0</td>\n",
              "      <td>[katyperri, get, free, bitcoin, bitcoinmin, co...</td>\n",
              "    </tr>\n",
              "    <tr>\n",
              "      <th>3856586</th>\n",
              "      <td>@btc_current</td>\n",
              "      <td>0</td>\n",
              "      <td>[btc, current]</td>\n",
              "    </tr>\n",
              "    <tr>\n",
              "      <th>9281674</th>\n",
              "      <td>Aggiornamento su tutti i mercati. Cosa seguire...</td>\n",
              "      <td>1</td>\n",
              "      <td>[aggiornamento, su, tutti, mercati, cosa, segu...</td>\n",
              "    </tr>\n",
              "  </tbody>\n",
              "</table>\n",
              "</div>\n",
              "      <button class=\"colab-df-convert\" onclick=\"convertToInteractive('df-e7b6222a-e867-4b85-9313-95b24eb2334c')\"\n",
              "              title=\"Convert this dataframe to an interactive table.\"\n",
              "              style=\"display:none;\">\n",
              "        \n",
              "  <svg xmlns=\"http://www.w3.org/2000/svg\" height=\"24px\"viewBox=\"0 0 24 24\"\n",
              "       width=\"24px\">\n",
              "    <path d=\"M0 0h24v24H0V0z\" fill=\"none\"/>\n",
              "    <path d=\"M18.56 5.44l.94 2.06.94-2.06 2.06-.94-2.06-.94-.94-2.06-.94 2.06-2.06.94zm-11 1L8.5 8.5l.94-2.06 2.06-.94-2.06-.94L8.5 2.5l-.94 2.06-2.06.94zm10 10l.94 2.06.94-2.06 2.06-.94-2.06-.94-.94-2.06-.94 2.06-2.06.94z\"/><path d=\"M17.41 7.96l-1.37-1.37c-.4-.4-.92-.59-1.43-.59-.52 0-1.04.2-1.43.59L10.3 9.45l-7.72 7.72c-.78.78-.78 2.05 0 2.83L4 21.41c.39.39.9.59 1.41.59.51 0 1.02-.2 1.41-.59l7.78-7.78 2.81-2.81c.8-.78.8-2.07 0-2.86zM5.41 20L4 18.59l7.72-7.72 1.47 1.35L5.41 20z\"/>\n",
              "  </svg>\n",
              "      </button>\n",
              "      \n",
              "  <style>\n",
              "    .colab-df-container {\n",
              "      display:flex;\n",
              "      flex-wrap:wrap;\n",
              "      gap: 12px;\n",
              "    }\n",
              "\n",
              "    .colab-df-convert {\n",
              "      background-color: #E8F0FE;\n",
              "      border: none;\n",
              "      border-radius: 50%;\n",
              "      cursor: pointer;\n",
              "      display: none;\n",
              "      fill: #1967D2;\n",
              "      height: 32px;\n",
              "      padding: 0 0 0 0;\n",
              "      width: 32px;\n",
              "    }\n",
              "\n",
              "    .colab-df-convert:hover {\n",
              "      background-color: #E2EBFA;\n",
              "      box-shadow: 0px 1px 2px rgba(60, 64, 67, 0.3), 0px 1px 3px 1px rgba(60, 64, 67, 0.15);\n",
              "      fill: #174EA6;\n",
              "    }\n",
              "\n",
              "    [theme=dark] .colab-df-convert {\n",
              "      background-color: #3B4455;\n",
              "      fill: #D2E3FC;\n",
              "    }\n",
              "\n",
              "    [theme=dark] .colab-df-convert:hover {\n",
              "      background-color: #434B5C;\n",
              "      box-shadow: 0px 1px 3px 1px rgba(0, 0, 0, 0.15);\n",
              "      filter: drop-shadow(0px 1px 2px rgba(0, 0, 0, 0.3));\n",
              "      fill: #FFFFFF;\n",
              "    }\n",
              "  </style>\n",
              "\n",
              "      <script>\n",
              "        const buttonEl =\n",
              "          document.querySelector('#df-e7b6222a-e867-4b85-9313-95b24eb2334c button.colab-df-convert');\n",
              "        buttonEl.style.display =\n",
              "          google.colab.kernel.accessAllowed ? 'block' : 'none';\n",
              "\n",
              "        async function convertToInteractive(key) {\n",
              "          const element = document.querySelector('#df-e7b6222a-e867-4b85-9313-95b24eb2334c');\n",
              "          const dataTable =\n",
              "            await google.colab.kernel.invokeFunction('convertToInteractive',\n",
              "                                                     [key], {});\n",
              "          if (!dataTable) return;\n",
              "\n",
              "          const docLinkHtml = 'Like what you see? Visit the ' +\n",
              "            '<a target=\"_blank\" href=https://colab.research.google.com/notebooks/data_table.ipynb>data table notebook</a>'\n",
              "            + ' to learn more about interactive tables.';\n",
              "          element.innerHTML = '';\n",
              "          dataTable['output_type'] = 'display_data';\n",
              "          await google.colab.output.renderOutput(dataTable, element);\n",
              "          const docLink = document.createElement('div');\n",
              "          docLink.innerHTML = docLinkHtml;\n",
              "          element.appendChild(docLink);\n",
              "        }\n",
              "      </script>\n",
              "    </div>\n",
              "  </div>\n",
              "  "
            ]
          },
          "metadata": {},
          "execution_count": 17
        }
      ]
    },
    {
      "cell_type": "code",
      "source": [
        "########### Language Detection ###########\n",
        "\n",
        "import fasttext\n",
        "\n",
        "class LanguageDetector(object):\n",
        "    def __init__(self, fname: str, label: str=\"__label__\"):\n",
        "        self._model = fasttext.load_model(fname)\n",
        "        self.label = label\n",
        "\n",
        "    def predict(self, text: str):\n",
        "        prediction, probability = self._model.predict(text, k=1)\n",
        "\n",
        "        prediction = prediction[0].replace(self.label, \"\")\n",
        "        probability = probability[0]\n",
        "\n",
        "        return prediction, probability"
      ],
      "metadata": {
        "trusted": true,
        "id": "3DyJZWtOQKsO"
      },
      "execution_count": null,
      "outputs": []
    },
    {
      "cell_type": "code",
      "source": [
        "# model_fname = \"../input/fasttextmodel/lid.176.ftz\"\n",
        "model_fname = \"../input/lid176bin/lid.176.bin\"\n",
        "\n",
        "lang_detector = LanguageDetector(model_fname)\n",
        "lang_detector.predict(\"this is a test\")\n"
      ],
      "metadata": {
        "trusted": true,
        "id": "ihu2UhvcQKsP"
      },
      "execution_count": null,
      "outputs": []
    },
    {
      "cell_type": "code",
      "source": [
        "def detect_language(text):\n",
        "    lang, proba = lang_detector.predict(text)\n",
        "    if proba > 0.67: # it was 0.5\n",
        "        return lang\n",
        "    else:\n",
        "        return None"
      ],
      "metadata": {
        "trusted": true,
        "id": "_VHyngPxQKsQ"
      },
      "execution_count": null,
      "outputs": []
    },
    {
      "cell_type": "code",
      "source": [
        "lang_detector.predict(\"ceci est un test de français\")"
      ],
      "metadata": {
        "trusted": true,
        "id": "ziR1TPjKQKsS"
      },
      "execution_count": null,
      "outputs": []
    },
    {
      "cell_type": "code",
      "source": [
        "lang_detector.predict(\"esta es una prueba de frances\")"
      ],
      "metadata": {
        "trusted": true,
        "id": "k31W2mo0QKsT"
      },
      "execution_count": null,
      "outputs": []
    },
    {
      "cell_type": "code",
      "source": [
        "lang_detector.predict(\"这是一个法语测试\")"
      ],
      "metadata": {
        "trusted": true,
        "id": "HEOvCM0XQKsU"
      },
      "execution_count": null,
      "outputs": []
    },
    {
      "cell_type": "code",
      "source": [
        "for item in df:\n",
        "    df[\"language\"] = detect_language(item[0:])\n",
        "print(item[:])\n",
        "#     df[\"language\"] = [detect_language(x) for x in df.text]\n",
        "#     print(df.text)\n",
        "\n",
        "print(df.language)\n",
        "# df[\"language\"] = df.text.apply(detect_language)\n",
        "df.language.value_counts()"
      ],
      "metadata": {
        "trusted": true,
        "id": "MI2JprKCQKsV"
      },
      "execution_count": null,
      "outputs": []
    },
    {
      "cell_type": "code",
      "source": [
        "df.text.head()"
      ],
      "metadata": {
        "trusted": true,
        "id": "Bnjl-L_XQKsW"
      },
      "execution_count": null,
      "outputs": []
    },
    {
      "cell_type": "code",
      "source": [
        "# def tweet_to_words(tweet):\n",
        "#     ''' Convert tweet text into a sequence of words '''\n",
        "\n",
        "#     # convert to lowercase\n",
        "#     text = tweet.lower()\n",
        "#     # remove non letters\n",
        "#     text = re.sub(r\"[^a-zA-Z0-9]\", \" \", text)\n",
        "#     # remove links from text\n",
        "#     text = re.sub(r'http\\S+', '', tex\n",
        "#     # tokenize\n",
        "#     words = text.split()\n",
        "#     # remove stopwords\n",
        "#     words = [w for w in words if w not in stopwords.words(\"english\")]\n",
        "#     # apply stemming\n",
        "#     words = [PorterStemmer().stem(w) for w in words]\n",
        "#     # return list\n",
        "#     return words"
      ],
      "metadata": {
        "execution": {
          "iopub.status.busy": "2023-01-09T18:46:56.094519Z",
          "iopub.execute_input": "2023-01-09T18:46:56.094886Z",
          "iopub.status.idle": "2023-01-09T18:46:56.101760Z",
          "shell.execute_reply.started": "2023-01-09T18:46:56.094852Z",
          "shell.execute_reply": "2023-01-09T18:46:56.100711Z"
        },
        "trusted": true,
        "id": "jKxPlvlrQKsW"
      },
      "execution_count": null,
      "outputs": []
    },
    {
      "cell_type": "code",
      "source": [
        "# cleantext=[]\n",
        "# for item in tqdm(df['text']):\n",
        "#     words=tweet_to_words(item)\n",
        "#     cleantext+=[words]\n",
        "# df['cleantext']=cleantext"
      ],
      "metadata": {
        "execution": {
          "iopub.status.busy": "2023-01-09T18:46:56.103248Z",
          "iopub.execute_input": "2023-01-09T18:46:56.103660Z"
        },
        "trusted": true,
        "id": "aFbweV5OQKsf"
      },
      "execution_count": null,
      "outputs": []
    },
    {
      "cell_type": "code",
      "source": [
        "# df.head()"
      ],
      "metadata": {
        "trusted": true,
        "id": "97FogkbJQKsg"
      },
      "execution_count": null,
      "outputs": []
    },
    {
      "cell_type": "code",
      "source": [
        "############## It Takes long time #############\n",
        "\n",
        "# uniqwords=[]\n",
        "# for sent_item in tqdm(df['cleantext']):\n",
        "#     for words_of_sent in sent_item:\n",
        "#         if words_of_sent not in uniqwords: uniqwords += [words_of_sent]\n",
        "\n",
        "\n",
        "# print(len(uniqwords))"
      ],
      "metadata": {
        "trusted": true,
        "id": "XpN5_oObQKsh"
      },
      "execution_count": null,
      "outputs": []
    },
    {
      "cell_type": "code",
      "source": [
        "################################################################\n",
        "########################## Parameters ########################\n",
        "################################################################\n",
        "\n",
        "# vocab_size = 20000  # Only consider the top 20k words\n",
        "vocab_size = 70000  # Only consider the top 70k words\n",
        "epochs = 80\n",
        "n_heads = 6   #Or 3\n",
        "# maxlen = 200\n",
        "maxlen = 28 # max_length was 64 or 32\n",
        "\n",
        "################################################################"
      ],
      "metadata": {
        "execution": {
          "iopub.status.busy": "2023-01-19T03:38:17.592035Z",
          "iopub.execute_input": "2023-01-19T03:38:17.592508Z",
          "iopub.status.idle": "2023-01-19T03:38:17.597419Z",
          "shell.execute_reply.started": "2023-01-19T03:38:17.592471Z",
          "shell.execute_reply": "2023-01-19T03:38:17.596236Z"
        },
        "trusted": true,
        "id": "hHgK512sQKsh"
      },
      "execution_count": null,
      "outputs": []
    },
    {
      "cell_type": "code",
      "source": [
        "print(df)"
      ],
      "metadata": {
        "trusted": true,
        "id": "XxaMDFfhQKsi",
        "colab": {
          "base_uri": "https://localhost:8080/"
        },
        "outputId": "6ce1af76-5eb4-4ce9-b1b1-28690a7552cd"
      },
      "execution_count": null,
      "outputs": [
        {
          "output_type": "stream",
          "name": "stdout",
          "text": [
            "                                                       text  Sentiment  \\\n",
            "17578333  #Sterling fragile as #EU weighs up new #Brexit...          1   \n",
            "3417746                                         @btc_reddit          0   \n",
            "15120109  @katyperry Get #free #Bitcoin\\n#bitcoinmining ...          0   \n",
            "3856586                                        @btc_current          0   \n",
            "9281674   Aggiornamento su tutti i mercati. Cosa seguire...          1   \n",
            "...                                                     ...        ...   \n",
            "18368767  @jaja2649 @PeterSchiff @YouTube Gold can be ea...          0   \n",
            "10506948  $EPAZ's Bitcoin Sharing &amp; Blockchain Socia...          0   \n",
            "9170613   European Central Bank Exec Calls for Fast Regu...          1   \n",
            "708001                                                   :(          1   \n",
            "18082668  #bitcoin #btc #blockchain #cryptocurrency #dig...          1   \n",
            "\n",
            "                                                  cleantext  \n",
            "17578333  [sterl, fragil, eu, weigh, new, brexit, extens...  \n",
            "3417746                                       [btc, reddit]  \n",
            "15120109  [katyperri, get, free, bitcoin, bitcoinmin, co...  \n",
            "3856586                                      [btc, current]  \n",
            "9281674   [aggiornamento, su, tutti, mercati, cosa, segu...  \n",
            "...                                                     ...  \n",
            "18368767  [jaja2649, peterschiff, youtub, gold, easili, ...  \n",
            "10506948  [epaz, bitcoin, share, amp, blockchain, social...  \n",
            "9170613   [european, central, bank, exec, call, fast, re...  \n",
            "708001                                                   []  \n",
            "18082668  [bitcoin, btc, blockchain, cryptocurr, digital...  \n",
            "\n",
            "[5000000 rows x 3 columns]\n"
          ]
        }
      ]
    },
    {
      "cell_type": "code",
      "source": [
        "import tensorflow as tf\n",
        "from tensorflow.keras.layers import MultiHeadAttention, LayerNormalization, Dropout, Layer\n",
        "from tensorflow.keras.layers import Embedding, Input, GlobalAveragePooling1D, GlobalMaxPooling1D, Dense,Flatten\n",
        "from tensorflow.keras.models import Sequential, Model\n",
        "from keras.layers import Conv1D,MaxPooling1D"
      ],
      "metadata": {
        "execution": {
          "iopub.status.busy": "2023-01-19T03:38:17.599115Z",
          "iopub.execute_input": "2023-01-19T03:38:17.599908Z",
          "iopub.status.idle": "2023-01-19T03:38:22.526037Z",
          "shell.execute_reply.started": "2023-01-19T03:38:17.599874Z",
          "shell.execute_reply": "2023-01-19T03:38:22.525065Z"
        },
        "trusted": true,
        "id": "2jzBzqOBQKsj"
      },
      "execution_count": null,
      "outputs": []
    },
    {
      "cell_type": "code",
      "source": [
        "class TransformerBlock(Layer):\n",
        "    def __init__(self, d_model, num_heads):\n",
        "        super(TransformerBlock, self).__init__()\n",
        "        self.att = MultiHeadAttention(num_heads=num_heads, key_dim=d_model,)\n",
        "        self.layernorm1 = LayerNormalization(epsilon=1e-6) #1e-6\n",
        "        self.layernorm2 = LayerNormalization(epsilon=1e-6) #1e-6\n",
        "        self.convnet=Sequential(\n",
        "            [Conv1D(d_model,3,1,padding='same', activation='gelu'),MaxPooling1D(2,1,padding='same'),\n",
        "             Conv1D(d_model,3,1,padding='same', activation='gelu'),MaxPooling1D(2,1,padding='same'),\n",
        "             Conv1D(d_model,3,1,padding='same', activation='gelu'),MaxPooling1D(2,1,padding='same'),])\n",
        "#adding layer normalization\n",
        "\n",
        "    def call(self, inputs):\n",
        "        cnn_output = self.convnet(inputs)\n",
        "        ffn_output = self.layernorm1(cnn_output)\n",
        "        attn_output = self.att(ffn_output,ffn_output)\n",
        "        return self.layernorm2(inputs + attn_output)\n",
        "\n",
        "\n",
        "\n",
        "# class TransformerBlock(Layer):\n",
        "#     def __init__(self, d_model, num_heads):\n",
        "#         super(TransformerBlock, self).__init__()\n",
        "#         self.att = MultiHeadAttention(num_heads=num_heads, key_dim=d_model,)\n",
        "#         self.layernorm1 = LayerNormalization(epsilon=1e-6)\n",
        "#         self.layernorm2 = LayerNormalization(epsilon=1e-6)\n",
        "#         self.convnet1=Sequential(\n",
        "#             [Conv1D(d_model,6,1,padding='same', activation='relu'),MaxPooling1D(4,1,padding='same'),])\n",
        "#         self.convnet2=Sequential(\n",
        "#             [Conv1D(d_model,6,1,padding='same', activation='relu'),MaxPooling1D(4,1,padding='same'),])\n",
        "# #             [Conv1D(d_model,2,1,padding='same', activation='relu'),MaxPooling1D(2,1,padding='same'),])\n",
        "\n",
        "\n",
        "#     def call(self, inputs):\n",
        "#         cnn_output = self.convnet1(inputs)\n",
        "#         ffn_output = self.convnet2(cnn_output)\n",
        "#         attn_output = self.att(ffn_output,ffn_output)\n",
        "#         return self.layernorm2(inputs + attn_output)"
      ],
      "metadata": {
        "execution": {
          "iopub.status.busy": "2023-01-19T03:38:22.527518Z",
          "iopub.execute_input": "2023-01-19T03:38:22.528134Z",
          "iopub.status.idle": "2023-01-19T03:38:22.541439Z",
          "shell.execute_reply.started": "2023-01-19T03:38:22.528097Z",
          "shell.execute_reply": "2023-01-19T03:38:22.540291Z"
        },
        "trusted": true,
        "id": "ZqfaLY7HQKsk"
      },
      "execution_count": null,
      "outputs": []
    },
    {
      "cell_type": "code",
      "source": [
        "class TokenAndPositionEmbedding(Layer):\n",
        "    def __init__(self, maxlen, vocab_size, d_model):\n",
        "        super(TokenAndPositionEmbedding, self).__init__()\n",
        "        self.token_emb = Embedding(input_dim=vocab_size, output_dim=d_model)\n",
        "        self.pos_emb = Embedding(input_dim=maxlen, output_dim=d_model)\n",
        "\n",
        "    def call(self, x):\n",
        "        maxlen = tf.shape(x)[-1]\n",
        "        positions = tf.range(start=0, limit=maxlen, delta=1)\n",
        "        positions = self.pos_emb(positions)\n",
        "        x = self.token_emb(x)\n",
        "        return x + positions"
      ],
      "metadata": {
        "execution": {
          "iopub.status.busy": "2023-01-19T03:38:22.542586Z",
          "iopub.execute_input": "2023-01-19T03:38:22.543659Z",
          "iopub.status.idle": "2023-01-19T03:38:22.555768Z",
          "shell.execute_reply.started": "2023-01-19T03:38:22.543624Z",
          "shell.execute_reply": "2023-01-19T03:38:22.554837Z"
        },
        "trusted": true,
        "id": "YuTB4ZjHQKsl"
      },
      "execution_count": null,
      "outputs": []
    },
    {
      "cell_type": "code",
      "source": [
        "from tensorflow.keras.preprocessing.text import Tokenizer\n",
        "from tensorflow.keras.preprocessing.sequence import pad_sequences\n",
        "def tokenize_pad_sequences(text):\n",
        "    # Text tokenization\n",
        "    tokenizer = Tokenizer(num_words=vocab_size, lower=True, split=' ')\n",
        "    tokenizer.fit_on_texts(text)\n",
        "    # Transforms text to a sequence of integers\n",
        "    X = tokenizer.texts_to_sequences(text)\n",
        "    # Pad sequences to the same length\n",
        "    X = pad_sequences(X, padding='post', maxlen=maxlen)\n",
        "    # return sequences\n",
        "    return X, tokenizer"
      ],
      "metadata": {
        "execution": {
          "iopub.status.busy": "2023-01-19T03:38:22.557235Z",
          "iopub.execute_input": "2023-01-19T03:38:22.557938Z",
          "iopub.status.idle": "2023-01-19T03:38:22.570671Z",
          "shell.execute_reply.started": "2023-01-19T03:38:22.557904Z",
          "shell.execute_reply": "2023-01-19T03:38:22.569755Z"
        },
        "trusted": true,
        "id": "392PMCfoQKsm"
      },
      "execution_count": null,
      "outputs": []
    },
    {
      "cell_type": "code",
      "source": [
        "#create dataset train test val\n",
        "from sklearn.model_selection import train_test_split\n",
        "X, tokenizer = tokenize_pad_sequences(df['cleantext'])\n",
        "y = pd.get_dummies(df['Sentiment'])\n",
        "X_train, X_test, y_train, y_test = train_test_split(X, y, test_size=0.2, random_state=1)\n",
        "X_test, X_val, y_test, y_val = train_test_split(X_test, y_test, test_size=0.5, random_state=1)\n",
        "print('Train Set: ', X_train.shape, y_train.shape)\n",
        "print('Validation Set: ', X_val.shape, y_val.shape)\n",
        "print('Test Set: ', X_test.shape, y_test.shape)"
      ],
      "metadata": {
        "execution": {
          "iopub.status.busy": "2023-01-19T03:38:22.571998Z",
          "iopub.execute_input": "2023-01-19T03:38:22.572939Z",
          "iopub.status.idle": "2023-01-19T03:39:18.947743Z",
          "shell.execute_reply.started": "2023-01-19T03:38:22.572905Z",
          "shell.execute_reply": "2023-01-19T03:39:18.946642Z"
        },
        "trusted": true,
        "id": "RHpxATZLQKsn",
        "colab": {
          "base_uri": "https://localhost:8080/"
        },
        "outputId": "bdae9736-7418-483d-9991-99d4a52e79eb"
      },
      "execution_count": null,
      "outputs": [
        {
          "output_type": "stream",
          "name": "stdout",
          "text": [
            "Train Set:  (4000000, 28) (4000000, 2)\n",
            "Validation Set:  (500000, 28) (500000, 2)\n",
            "Test Set:  (500000, 28) (500000, 2)\n"
          ]
        }
      ]
    },
    {
      "cell_type": "code",
      "source": [
        "#create model and training\n",
        "inputs = Input(shape=(maxlen,))\n",
        "embedding_layer = TokenAndPositionEmbedding(maxlen, vocab_size, 128)\n",
        "x = embedding_layer(inputs)\n",
        "transformer_block = TransformerBlock(128, n_heads)\n",
        "\n",
        "x = transformer_block(x)\n",
        "# x = transformer_block(x) # Again\n",
        "x = GlobalMaxPooling1D()(x) #GlobalAveragePooling1D\n",
        "x = Dropout(.4)(x)\n",
        "x = Dense(128, activation='gelu')(x) #sigmoid\n",
        "x = Dropout(.4)(x)\n",
        "# outputs = Dense(3, activation=\"softmax\")(x)\n",
        "outputs = Dense(2, activation=\"sigmoid\")(x) #softmax"
      ],
      "metadata": {
        "execution": {
          "iopub.status.busy": "2023-01-19T03:39:18.951251Z",
          "iopub.execute_input": "2023-01-19T03:39:18.951548Z",
          "iopub.status.idle": "2023-01-19T03:39:22.129962Z",
          "shell.execute_reply.started": "2023-01-19T03:39:18.951522Z",
          "shell.execute_reply": "2023-01-19T03:39:22.129065Z"
        },
        "trusted": true,
        "id": "6LtTLVQqQKsn"
      },
      "execution_count": null,
      "outputs": []
    },
    {
      "cell_type": "code",
      "source": [
        "from tensorflow import keras\n",
        "########\n",
        "# epochs=70\n",
        "##########\n",
        "call back for learning rate, learning rate scheduler\n",
        "# opt = keras.optimizers.Adam(learning_rate=0.00001) #0.0001\n",
        "#########\n",
        "lr_schedule = keras.optimizers.schedules.ExponentialDecay(\n",
        "    initial_learning_rate=1e-2,\n",
        "    decay_steps=10,\n",
        "    decay_rate=0.9)\n",
        "opt = keras.optimizers.SGD(learning_rate=lr_schedule) # SGD/Adam\n",
        "##########\n",
        "tf.keras.optimizers.SGD(\n",
        "    learning_rate=0.01,\n",
        "    momentum=0.0,\n",
        "    nesterov=False,\n",
        "    amsgrad=False,\n",
        "    weight_decay=None, #0.05 or 0.001\n",
        "    clipnorm=None,\n",
        "    clipvalue=None,\n",
        "    global_clipnorm=None,\n",
        "    use_ema=False,\n",
        "    ema_momentum=0.99,\n",
        "    ema_overwrite_frequency=None,\n",
        "    jit_compile=True,\n",
        "    name=\"SGD\",\n",
        "    **kwargs\n",
        "##########\n",
        "model = Model(inputs=inputs, outputs=outputs)\n",
        "model.summary()\n",
        "\n",
        "\n",
        "\n",
        "# opt = keras.optimizers.Adam(learning_rate=0.00001) #0.0001 #AdamW\n",
        "model.compile(optimizer=opt , loss=\"categorical_crossentropy\", metrics=[\"accuracy\"]) # \"or mse\"\n",
        "\n",
        "history = model.fit(X_train,y_train, batch_size=256, epochs=epochs, validation_data=(X_val, y_val))  #\n",
        "\n",
        "results = model.evaluate(X_val, y_val, verbose=1)"
      ],
      "metadata": {
        "execution": {
          "iopub.status.busy": "2023-01-19T03:39:22.131303Z",
          "iopub.execute_input": "2023-01-19T03:39:22.131675Z",
          "iopub.status.idle": "2023-01-19T05:50:27.080816Z",
          "shell.execute_reply.started": "2023-01-19T03:39:22.131640Z",
          "shell.execute_reply": "2023-01-19T05:50:27.079420Z"
        },
        "trusted": true,
        "id": "QhGo4DzSQKso",
        "colab": {
          "base_uri": "https://localhost:8080/"
        },
        "outputId": "f406adfd-d487-4fca-b962-737a92930193"
      },
      "execution_count": null,
      "outputs": [
        {
          "output_type": "stream",
          "name": "stdout",
          "text": [
            "Model: \"model_1\"\n",
            "_________________________________________________________________\n",
            " Layer (type)                Output Shape              Param #   \n",
            "=================================================================\n",
            " input_2 (InputLayer)        [(None, 28)]              0         \n",
            "                                                                 \n",
            " token_and_position_embeddin  (None, 28, 128)          8963584   \n",
            " g_1 (TokenAndPositionEmbedd                                     \n",
            " ing)                                                            \n",
            "                                                                 \n",
            " transformer_block_1 (Transf  (None, 28, 128)          544000    \n",
            " ormerBlock)                                                     \n",
            "                                                                 \n",
            " global_max_pooling1d_1 (Glo  (None, 128)              0         \n",
            " balMaxPooling1D)                                                \n",
            "                                                                 \n",
            " dropout_2 (Dropout)         (None, 128)               0         \n",
            "                                                                 \n",
            " dense_2 (Dense)             (None, 128)               16512     \n",
            "                                                                 \n",
            " dropout_3 (Dropout)         (None, 128)               0         \n",
            "                                                                 \n",
            " dense_3 (Dense)             (None, 2)                 258       \n",
            "                                                                 \n",
            "=================================================================\n",
            "Total params: 9,524,354\n",
            "Trainable params: 9,524,354\n",
            "Non-trainable params: 0\n",
            "_________________________________________________________________\n",
            "Epoch 1/80\n",
            "15625/15625 [==============================] - 140s 9ms/step - loss: 0.6173 - accuracy: 0.5752 - val_loss: 0.5944 - val_accuracy: 0.5711\n",
            "Epoch 2/80\n",
            "15625/15625 [==============================] - 138s 9ms/step - loss: 0.5866 - accuracy: 0.6066 - val_loss: 0.5846 - val_accuracy: 0.6130\n",
            "Epoch 3/80\n",
            "15625/15625 [==============================] - 138s 9ms/step - loss: 0.5749 - accuracy: 0.6273 - val_loss: 0.5762 - val_accuracy: 0.6230\n",
            "Epoch 4/80\n",
            "15625/15625 [==============================] - 138s 9ms/step - loss: 0.5645 - accuracy: 0.6406 - val_loss: 0.5705 - val_accuracy: 0.6297\n",
            "Epoch 5/80\n",
            "15625/15625 [==============================] - 138s 9ms/step - loss: 0.5551 - accuracy: 0.6511 - val_loss: 0.5672 - val_accuracy: 0.6303\n",
            "Epoch 6/80\n",
            "15625/15625 [==============================] - 138s 9ms/step - loss: 0.5460 - accuracy: 0.6599 - val_loss: 0.5657 - val_accuracy: 0.6338\n",
            "Epoch 7/80\n",
            "15625/15625 [==============================] - 138s 9ms/step - loss: 0.5368 - accuracy: 0.6683 - val_loss: 0.5641 - val_accuracy: 0.6376\n",
            "Epoch 8/80\n",
            "15625/15625 [==============================] - 138s 9ms/step - loss: 0.5274 - accuracy: 0.6763 - val_loss: 0.5668 - val_accuracy: 0.6393\n",
            "Epoch 9/80\n",
            "15625/15625 [==============================] - 138s 9ms/step - loss: 0.5178 - accuracy: 0.6837 - val_loss: 0.5683 - val_accuracy: 0.6411\n",
            "Epoch 10/80\n",
            "15625/15625 [==============================] - 138s 9ms/step - loss: 0.5080 - accuracy: 0.6909 - val_loss: 0.5743 - val_accuracy: 0.6407\n",
            "Epoch 11/80\n",
            "15625/15625 [==============================] - 138s 9ms/step - loss: 0.4982 - accuracy: 0.6974 - val_loss: 0.5794 - val_accuracy: 0.6368\n",
            "Epoch 12/80\n",
            "15625/15625 [==============================] - 139s 9ms/step - loss: 0.4882 - accuracy: 0.7042 - val_loss: 0.5950 - val_accuracy: 0.6411\n",
            "Epoch 13/80\n",
            "15625/15625 [==============================] - 138s 9ms/step - loss: 0.4781 - accuracy: 0.7100 - val_loss: 0.5974 - val_accuracy: 0.6375\n",
            "Epoch 14/80\n",
            "15625/15625 [==============================] - 139s 9ms/step - loss: 0.4682 - accuracy: 0.7155 - val_loss: 0.6140 - val_accuracy: 0.6379\n",
            "Epoch 15/80\n",
            "15625/15625 [==============================] - 138s 9ms/step - loss: 0.4586 - accuracy: 0.7210 - val_loss: 0.6261 - val_accuracy: 0.6367\n",
            "Epoch 16/80\n",
            "15625/15625 [==============================] - 138s 9ms/step - loss: 0.4494 - accuracy: 0.7268 - val_loss: 0.6462 - val_accuracy: 0.6368\n",
            "Epoch 17/80\n",
            "15625/15625 [==============================] - 138s 9ms/step - loss: 0.4406 - accuracy: 0.7328 - val_loss: 0.6608 - val_accuracy: 0.6362\n",
            "Epoch 18/80\n",
            "15625/15625 [==============================] - 138s 9ms/step - loss: 0.4323 - accuracy: 0.7394 - val_loss: 0.6733 - val_accuracy: 0.6360\n",
            "Epoch 19/80\n",
            "15625/15625 [==============================] - 138s 9ms/step - loss: 0.4247 - accuracy: 0.7460 - val_loss: 0.7018 - val_accuracy: 0.6378\n",
            "Epoch 20/80\n",
            "15625/15625 [==============================] - 138s 9ms/step - loss: 0.4178 - accuracy: 0.7523 - val_loss: 0.7147 - val_accuracy: 0.6368\n",
            "Epoch 21/80\n",
            "15625/15625 [==============================] - 138s 9ms/step - loss: 0.4114 - accuracy: 0.7583 - val_loss: 0.7314 - val_accuracy: 0.6372\n",
            "Epoch 22/80\n",
            "15625/15625 [==============================] - 138s 9ms/step - loss: 0.4054 - accuracy: 0.7646 - val_loss: 0.7429 - val_accuracy: 0.6377\n",
            "Epoch 23/80\n",
            "15625/15625 [==============================] - 138s 9ms/step - loss: 0.3998 - accuracy: 0.7702 - val_loss: 0.7628 - val_accuracy: 0.6362\n",
            "Epoch 24/80\n",
            "15625/15625 [==============================] - 138s 9ms/step - loss: 0.3944 - accuracy: 0.7762 - val_loss: 0.7718 - val_accuracy: 0.6351\n",
            "Epoch 25/80\n",
            "15625/15625 [==============================] - 139s 9ms/step - loss: 0.3894 - accuracy: 0.7815 - val_loss: 0.7883 - val_accuracy: 0.6355\n",
            "Epoch 26/80\n",
            "15625/15625 [==============================] - 139s 9ms/step - loss: 0.3843 - accuracy: 0.7868 - val_loss: 0.8017 - val_accuracy: 0.6344\n",
            "Epoch 27/80\n",
            "15625/15625 [==============================] - 138s 9ms/step - loss: 0.3794 - accuracy: 0.7916 - val_loss: 0.8279 - val_accuracy: 0.6339\n",
            "Epoch 28/80\n",
            "15625/15625 [==============================] - 139s 9ms/step - loss: 0.3745 - accuracy: 0.7964 - val_loss: 0.8396 - val_accuracy: 0.6342\n",
            "Epoch 29/80\n",
            "15625/15625 [==============================] - 138s 9ms/step - loss: 0.3697 - accuracy: 0.8005 - val_loss: 0.8553 - val_accuracy: 0.6347\n",
            "Epoch 30/80\n",
            "15625/15625 [==============================] - 138s 9ms/step - loss: 0.3649 - accuracy: 0.8045 - val_loss: 0.8804 - val_accuracy: 0.6339\n",
            "Epoch 31/80\n",
            "15625/15625 [==============================] - 138s 9ms/step - loss: 0.3605 - accuracy: 0.8079 - val_loss: 0.9003 - val_accuracy: 0.6350\n",
            "Epoch 32/80\n",
            "15625/15625 [==============================] - 138s 9ms/step - loss: 0.3560 - accuracy: 0.8117 - val_loss: 0.9011 - val_accuracy: 0.6341\n",
            "Epoch 33/80\n",
            "15625/15625 [==============================] - 138s 9ms/step - loss: 0.3516 - accuracy: 0.8148 - val_loss: 0.8934 - val_accuracy: 0.6333\n",
            "Epoch 34/80\n",
            "15625/15625 [==============================] - 138s 9ms/step - loss: 0.3475 - accuracy: 0.8176 - val_loss: 0.9259 - val_accuracy: 0.6344\n",
            "Epoch 35/80\n",
            "15625/15625 [==============================] - 138s 9ms/step - loss: 0.3435 - accuracy: 0.8204 - val_loss: 0.9328 - val_accuracy: 0.6335\n",
            "Epoch 36/80\n",
            "15625/15625 [==============================] - 138s 9ms/step - loss: 0.3393 - accuracy: 0.8231 - val_loss: 0.9619 - val_accuracy: 0.6341\n",
            "Epoch 37/80\n",
            "15625/15625 [==============================] - 138s 9ms/step - loss: 0.3355 - accuracy: 0.8255 - val_loss: 0.9562 - val_accuracy: 0.6304\n",
            "Epoch 38/80\n",
            "15625/15625 [==============================] - 138s 9ms/step - loss: 0.3318 - accuracy: 0.8280 - val_loss: 0.9733 - val_accuracy: 0.6364\n",
            "Epoch 39/80\n",
            "15625/15625 [==============================] - 138s 9ms/step - loss: 0.3283 - accuracy: 0.8301 - val_loss: 0.9562 - val_accuracy: 0.6344\n",
            "Epoch 40/80\n",
            "15625/15625 [==============================] - 138s 9ms/step - loss: 0.3249 - accuracy: 0.8321 - val_loss: 0.9881 - val_accuracy: 0.6360\n",
            "Epoch 41/80\n",
            "15625/15625 [==============================] - 138s 9ms/step - loss: 0.3216 - accuracy: 0.8340 - val_loss: 0.9512 - val_accuracy: 0.6326\n",
            "Epoch 42/80\n",
            "15625/15625 [==============================] - 138s 9ms/step - loss: 0.3183 - accuracy: 0.8358 - val_loss: 0.9855 - val_accuracy: 0.6349\n",
            "Epoch 43/80\n",
            "15625/15625 [==============================] - 138s 9ms/step - loss: 0.3153 - accuracy: 0.8375 - val_loss: 0.9884 - val_accuracy: 0.6356\n",
            "Epoch 44/80\n",
            "15625/15625 [==============================] - 138s 9ms/step - loss: 0.3124 - accuracy: 0.8390 - val_loss: 0.9876 - val_accuracy: 0.6343\n",
            "Epoch 45/80\n",
            "15625/15625 [==============================] - 138s 9ms/step - loss: 0.3097 - accuracy: 0.8404 - val_loss: 0.9925 - val_accuracy: 0.6341\n",
            "Epoch 46/80\n",
            "15625/15625 [==============================] - 138s 9ms/step - loss: 0.3069 - accuracy: 0.8420 - val_loss: 1.0132 - val_accuracy: 0.6359\n",
            "Epoch 47/80\n",
            "15625/15625 [==============================] - 138s 9ms/step - loss: 0.3042 - accuracy: 0.8435 - val_loss: 1.0211 - val_accuracy: 0.6373\n",
            "Epoch 48/80\n",
            "15625/15625 [==============================] - 138s 9ms/step - loss: 0.3020 - accuracy: 0.8445 - val_loss: 1.0320 - val_accuracy: 0.6374\n",
            "Epoch 49/80\n",
            "15625/15625 [==============================] - 138s 9ms/step - loss: 0.2995 - accuracy: 0.8457 - val_loss: 1.0422 - val_accuracy: 0.6372\n",
            "Epoch 50/80\n",
            "15625/15625 [==============================] - 138s 9ms/step - loss: 0.2972 - accuracy: 0.8469 - val_loss: 1.0270 - val_accuracy: 0.6378\n",
            "Epoch 51/80\n",
            "15625/15625 [==============================] - 138s 9ms/step - loss: 0.2951 - accuracy: 0.8478 - val_loss: 1.0348 - val_accuracy: 0.6367\n",
            "Epoch 52/80\n",
            "15625/15625 [==============================] - 138s 9ms/step - loss: 0.2931 - accuracy: 0.8491 - val_loss: 1.0389 - val_accuracy: 0.6370\n",
            "Epoch 53/80\n",
            "15625/15625 [==============================] - 138s 9ms/step - loss: 0.2912 - accuracy: 0.8499 - val_loss: 1.0496 - val_accuracy: 0.6360\n",
            "Epoch 54/80\n",
            "15625/15625 [==============================] - 138s 9ms/step - loss: 0.2892 - accuracy: 0.8508 - val_loss: 1.0333 - val_accuracy: 0.6365\n",
            "Epoch 55/80\n",
            "15625/15625 [==============================] - 138s 9ms/step - loss: 0.2874 - accuracy: 0.8518 - val_loss: 1.0399 - val_accuracy: 0.6371\n",
            "Epoch 56/80\n",
            "15625/15625 [==============================] - 138s 9ms/step - loss: 0.2854 - accuracy: 0.8528 - val_loss: 1.0320 - val_accuracy: 0.6359\n",
            "Epoch 57/80\n",
            "15625/15625 [==============================] - 138s 9ms/step - loss: 0.2837 - accuracy: 0.8534 - val_loss: 1.0586 - val_accuracy: 0.6373\n",
            "Epoch 58/80\n",
            "15625/15625 [==============================] - 138s 9ms/step - loss: 0.2819 - accuracy: 0.8541 - val_loss: 1.0410 - val_accuracy: 0.6371\n",
            "Epoch 59/80\n",
            "15625/15625 [==============================] - 138s 9ms/step - loss: 0.2802 - accuracy: 0.8549 - val_loss: 1.0416 - val_accuracy: 0.6368\n",
            "Epoch 60/80\n",
            "15625/15625 [==============================] - 138s 9ms/step - loss: 0.2786 - accuracy: 0.8556 - val_loss: 1.0525 - val_accuracy: 0.6369\n",
            "Epoch 61/80\n",
            "15625/15625 [==============================] - 138s 9ms/step - loss: 0.2774 - accuracy: 0.8562 - val_loss: 1.0745 - val_accuracy: 0.6371\n",
            "Epoch 62/80\n",
            "15625/15625 [==============================] - 138s 9ms/step - loss: 0.2758 - accuracy: 0.8569 - val_loss: 1.0580 - val_accuracy: 0.6377\n",
            "Epoch 63/80\n",
            "15625/15625 [==============================] - 138s 9ms/step - loss: 0.2742 - accuracy: 0.8576 - val_loss: 1.0969 - val_accuracy: 0.6389\n",
            "Epoch 64/80\n",
            "15625/15625 [==============================] - 138s 9ms/step - loss: 0.2728 - accuracy: 0.8581 - val_loss: 1.0960 - val_accuracy: 0.6394\n",
            "Epoch 65/80\n",
            "15625/15625 [==============================] - 138s 9ms/step - loss: 0.2717 - accuracy: 0.8590 - val_loss: 1.0908 - val_accuracy: 0.6395\n",
            "Epoch 66/80\n",
            "15625/15625 [==============================] - 138s 9ms/step - loss: 0.2704 - accuracy: 0.8591 - val_loss: 1.1020 - val_accuracy: 0.6388\n",
            "Epoch 67/80\n",
            "15625/15625 [==============================] - 138s 9ms/step - loss: 0.2690 - accuracy: 0.8598 - val_loss: 1.1021 - val_accuracy: 0.6393\n",
            "Epoch 68/80\n",
            "15625/15625 [==============================] - 138s 9ms/step - loss: 0.2681 - accuracy: 0.8603 - val_loss: 1.0976 - val_accuracy: 0.6388\n",
            "Epoch 69/80\n",
            "15625/15625 [==============================] - 138s 9ms/step - loss: 0.2669 - accuracy: 0.8608 - val_loss: 1.0733 - val_accuracy: 0.6382\n",
            "Epoch 70/80\n",
            "15625/15625 [==============================] - 138s 9ms/step - loss: 0.2659 - accuracy: 0.8611 - val_loss: 1.0873 - val_accuracy: 0.6386\n",
            "Epoch 71/80\n",
            "15625/15625 [==============================] - 138s 9ms/step - loss: 0.2643 - accuracy: 0.8621 - val_loss: 1.0993 - val_accuracy: 0.6390\n",
            "Epoch 72/80\n",
            "15625/15625 [==============================] - 138s 9ms/step - loss: 0.2633 - accuracy: 0.8623 - val_loss: 1.1160 - val_accuracy: 0.6406\n",
            "Epoch 73/80\n",
            "15625/15625 [==============================] - 138s 9ms/step - loss: 0.2623 - accuracy: 0.8627 - val_loss: 1.1049 - val_accuracy: 0.6398\n",
            "Epoch 74/80\n",
            "15625/15625 [==============================] - 138s 9ms/step - loss: 0.2614 - accuracy: 0.8632 - val_loss: 1.0938 - val_accuracy: 0.6379\n",
            "Epoch 75/80\n",
            "15625/15625 [==============================] - 138s 9ms/step - loss: 0.2604 - accuracy: 0.8634 - val_loss: 1.1112 - val_accuracy: 0.6398\n",
            "Epoch 76/80\n",
            "15625/15625 [==============================] - 138s 9ms/step - loss: 0.2593 - accuracy: 0.8640 - val_loss: 1.1033 - val_accuracy: 0.6379\n",
            "Epoch 77/80\n",
            "15625/15625 [==============================] - 138s 9ms/step - loss: 0.2586 - accuracy: 0.8642 - val_loss: 1.1059 - val_accuracy: 0.6392\n",
            "Epoch 78/80\n",
            "15625/15625 [==============================] - 138s 9ms/step - loss: 0.2574 - accuracy: 0.8650 - val_loss: 1.1466 - val_accuracy: 0.6407\n",
            "Epoch 79/80\n",
            "15625/15625 [==============================] - 138s 9ms/step - loss: 0.2567 - accuracy: 0.8649 - val_loss: 1.1318 - val_accuracy: 0.6395\n",
            "Epoch 80/80\n",
            "15625/15625 [==============================] - 138s 9ms/step - loss: 0.2561 - accuracy: 0.8654 - val_loss: 1.1278 - val_accuracy: 0.6397\n",
            "15625/15625 [==============================] - 54s 3ms/step - loss: 1.1278 - accuracy: 0.6397\n"
          ]
        }
      ]
    },
    {
      "cell_type": "code",
      "source": [
        "from keras.utils.vis_utils import plot_model\n",
        "\n",
        "plot_model(model)"
      ],
      "metadata": {
        "execution": {
          "iopub.status.busy": "2023-01-19T05:50:27.085411Z",
          "iopub.execute_input": "2023-01-19T05:50:27.085760Z",
          "iopub.status.idle": "2023-01-19T05:50:28.796492Z",
          "shell.execute_reply.started": "2023-01-19T05:50:27.085726Z",
          "shell.execute_reply": "2023-01-19T05:50:28.795333Z"
        },
        "trusted": true,
        "id": "a-jJuW4aQKsp",
        "colab": {
          "base_uri": "https://localhost:8080/",
          "height": 758
        },
        "outputId": "01a07f61-032c-45aa-d6ce-2e8e4f36ba9e"
      },
      "execution_count": null,
      "outputs": [
        {
          "output_type": "execute_result",
          "data": {
            "image/png": "[encoded data removed]",
            "text/plain": [
              "<IPython.core.display.Image object>"
            ]
          },
          "metadata": {},
          "execution_count": 30
        }
      ]
    },
    {
      "cell_type": "code",
      "source": [
        "loss, accuracy = model.evaluate(X_test, y_test, verbose=0)\n",
        "# Print metrics\n",
        "print('Accuracy  : {:.4f}'.format(accuracy))"
      ],
      "metadata": {
        "execution": {
          "iopub.status.busy": "2023-01-19T05:50:28.799180Z",
          "iopub.execute_input": "2023-01-19T05:50:28.800358Z",
          "iopub.status.idle": "2023-01-19T05:50:45.078153Z",
          "shell.execute_reply.started": "2023-01-19T05:50:28.800312Z",
          "shell.execute_reply": "2023-01-19T05:50:45.077057Z"
        },
        "trusted": true,
        "id": "tRigPh-_QKsq",
        "colab": {
          "base_uri": "https://localhost:8080/"
        },
        "outputId": "83f73262-9cc1-466e-b298-84dbcbd1ccdd"
      },
      "execution_count": null,
      "outputs": [
        {
          "output_type": "stream",
          "name": "stdout",
          "text": [
            "Accuracy  : 0.6392\n"
          ]
        }
      ]
    },
    {
      "cell_type": "code",
      "source": [
        "import matplotlib.pyplot as plt\n",
        "\n",
        "\n",
        "\n",
        "fig, ax = plt.subplots(1,2, figsize=(10,4))\n",
        "# first plot\n",
        "ax[0].plot(history.history['accuracy'])\n",
        "ax[0].plot(history.history['val_accuracy'])\n",
        "ax[0].set_title('Model Accuracy')\n",
        "ax[0].set_xlabel('epoch')\n",
        "ax[0].set_ylabel('accuracy')\n",
        "ax[0].legend(['train', 'validation'], loc='best')\n",
        "\n",
        "# second plot\n",
        "ax[1].plot(history.history['loss'])\n",
        "ax[1].plot(history.history['val_loss'])\n",
        "ax[1].set_title('Model Loss')\n",
        "ax[1].set_xlabel('epoch')\n",
        "ax[1].set_ylabel('loss')\n",
        "ax[1].legend(['train', 'validation'], loc='best')"
      ],
      "metadata": {
        "execution": {
          "iopub.status.busy": "2023-01-19T05:50:45.080049Z",
          "iopub.execute_input": "2023-01-19T05:50:45.081519Z",
          "iopub.status.idle": "2023-01-19T05:50:45.525864Z",
          "shell.execute_reply.started": "2023-01-19T05:50:45.081481Z",
          "shell.execute_reply": "2023-01-19T05:50:45.524893Z"
        },
        "trusted": true,
        "id": "maO8w1gdQKsq",
        "colab": {
          "base_uri": "https://localhost:8080/",
          "height": 313
        },
        "outputId": "1e7fff55-17d8-490d-e765-a6a983da9bce"
      },
      "execution_count": null,
      "outputs": [
        {
          "output_type": "execute_result",
          "data": {
            "text/plain": [
              "<matplotlib.legend.Legend at 0x7fb283363fa0>"
            ]
          },
          "metadata": {},
          "execution_count": 32
        },
        {
          "output_type": "display_data",
          "data": {
            "text/plain": [
              "<Figure size 720x288 with 2 Axes>"
            ],
            "image/png": "[encoded data removed]"
          },
          "metadata": {
            "needs_background": "light"
          }
        }
      ]
    },
    {
      "cell_type": "code",
      "source": [
        "from sklearn.metrics import confusion_matrix\n",
        "import seaborn as sns\n",
        "import numpy as np\n",
        "'''Function to plot confusion matrix for the passed model and the data'''\n",
        "\n",
        "sentiment_classes = ['Negative','Neutral', 'Positive']\n",
        "# use model to do the prediction\n",
        "y_pred = model.predict(X_test)\n",
        "# compute confusion matrix\n",
        "cm = confusion_matrix(np.argmax(y_pred, axis=1),np.argmax(np.array(y_test),axis=1))\n",
        "\n",
        "# plot confusion matrix\n",
        "plt.figure(figsize=(8,6))\n",
        "sns.heatmap(cm, cmap=plt.cm.Blues, annot=True, fmt='d',\n",
        "            xticklabels=sentiment_classes,\n",
        "            yticklabels=sentiment_classes)\n",
        "plt.title('Confusion matrix', fontsize=16)\n",
        "plt.xlabel('Actual label', fontsize=12)\n",
        "plt.ylabel('Predicted label', fontsize=12)"
      ],
      "metadata": {
        "execution": {
          "iopub.status.busy": "2023-01-19T05:50:45.527395Z",
          "iopub.execute_input": "2023-01-19T05:50:45.529106Z",
          "iopub.status.idle": "2023-01-19T05:51:06.615155Z",
          "shell.execute_reply.started": "2023-01-19T05:50:45.529068Z",
          "shell.execute_reply": "2023-01-19T05:51:06.614154Z"
        },
        "trusted": true,
        "id": "xs7HNV1fQKsr",
        "colab": {
          "base_uri": "https://localhost:8080/",
          "height": 446
        },
        "outputId": "f5f28fdf-b78d-48b5-cbf9-9fe4af3c8cbd"
      },
      "execution_count": null,
      "outputs": [
        {
          "output_type": "stream",
          "name": "stdout",
          "text": [
            "15625/15625 [==============================] - 40s 3ms/step\n"
          ]
        },
        {
          "output_type": "execute_result",
          "data": {
            "text/plain": [
              "Text(51.0, 0.5, 'Predicted label')"
            ]
          },
          "metadata": {},
          "execution_count": 33
        },
        {
          "output_type": "display_data",
          "data": {
            "text/plain": [
              "<Figure size 576x432 with 2 Axes>"
            ],
            "image/png": "[encoded data removed]"
          },
          "metadata": {
            "needs_background": "light"
          }
        }
      ]
    },
    {
      "cell_type": "code",
      "source": [
        "from google.colab import runtime\n",
        "runtime.unassign()"
      ],
      "metadata": {
        "id": "uIIy0nZ7BIGt"
      },
      "execution_count": null,
      "outputs": []
    }
  ]
}